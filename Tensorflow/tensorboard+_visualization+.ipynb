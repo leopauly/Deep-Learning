{
 "cells": [
  {
   "cell_type": "markdown",
   "metadata": {},
   "source": [
    "### Tensorboard visualization"
   ]
  },
  {
   "cell_type": "markdown",
   "metadata": {},
   "source": [
    "\n",
    "**Description:** _Example program for understanding Tensorboard visualisations in Tensorflow._ <br>\n",
    "It visualises the feature space of extracted features using a trained CNN network using tensorboard. Also visualises the sample scalars (ex: training loss) and sample histograms (ex: weights) using tensorboard. The classifier is trained in MNIST dataset USPS dataset is used for validation. <br>\n",
    "<br>\n",
    "**Author:** @leopauly | cnlp@leeds.ac.uk"
   ]
  },
  {
   "cell_type": "markdown",
   "metadata": {},
   "source": [
    "#### Initialising seeds and importing modules required for the program"
   ]
  },
  {
   "cell_type": "code",
   "execution_count": 1,
   "metadata": {},
   "outputs": [
    {
     "name": "stderr",
     "output_type": "stream",
     "text": [
      "Using TensorFlow backend.\n"
     ]
    }
   ],
   "source": [
    "# Future directives\n",
    "from __future__ import absolute_import\n",
    "from __future__ import division\n",
    "from __future__ import print_function\n",
    "\n",
    "# Setting seeds : This is necessary for reproducability of the results\n",
    "from numpy import random\n",
    "random.seed(0)\n",
    "import tensorflow as tf\n",
    "tf.set_random_seed(3)\n",
    "import os\n",
    "os.environ['PYTHONHASHSEED'] = '2'\n",
    "\n",
    "# Imports \n",
    "import numpy as np\n",
    "import tensorflow as tf\n",
    "import numpy as np\n",
    "import matplotlib.pyplot as plt\n",
    "import matplotlib.patches as mpatches\n",
    "from keras.utils import np_utils\n",
    "import os \n",
    "import scipy.misc\n",
    "from tensorflow.contrib.tensorboard.plugins import projector\n",
    "\n",
    "#Custom Scripts Imports \n",
    "import lscript as lsp\n",
    "import cnn_script as cnn\n",
    "import dataset as dsp\n",
    "\n",
    "tf.logging.set_verbosity(tf.logging.INFO)"
   ]
  },
  {
   "cell_type": "markdown",
   "metadata": {},
   "source": [
    "####  Defining parameters"
   ]
  },
  {
   "cell_type": "code",
   "execution_count": 2,
   "metadata": {
    "collapsed": true
   },
   "outputs": [],
   "source": [
    "# training parameters\n",
    "flags = tf.app.flags\n",
    "flags.DEFINE_float('learning_rate',0.001,'Learning rate for the optimisation algorithm')\n",
    "flags.DEFINE_integer('batch_size',512,'Batch size')\n",
    "flags.DEFINE_integer('epoch',6,'epochs')\n",
    "val_loss=[]\n",
    "val_acc=[]\n",
    "usps_loss=[]\n",
    "usps_acc=[]\n",
    "custom_global_step=1\n",
    "batch_size=flags.FLAGS.batch_size\n",
    "epoch=flags.FLAGS.epoch\n",
    "\n",
    "\n",
    "# Network and dataset Parameters\n",
    "img_rows=16\n",
    "img_cols=16\n",
    "channel=1\n",
    "nb_classes=10\n",
    "num_input = {'rows':img_rows,'colomns':img_cols,'channel':channel} # MNIST data input (img shape: 28*28)\n",
    "num_classes = 10 # MNIST total classes (0-9 digits)\n",
    "dropout = 0.75 # Dropout, probability to keep units\n",
    "LOG_DIR='./logdir'\n",
    "\n",
    "#visulaisation parameters\n",
    "vis_num=14000"
   ]
  },
  {
   "cell_type": "markdown",
   "metadata": {},
   "source": [
    "#### Preparing dataset"
   ]
  },
  {
   "cell_type": "code",
   "execution_count": 3,
   "metadata": {
    "collapsed": true
   },
   "outputs": [],
   "source": [
    "mnist, usps= dsp.read_datasets()"
   ]
  },
  {
   "cell_type": "code",
   "execution_count": 4,
   "metadata": {},
   "outputs": [
    {
     "name": "stdout",
     "output_type": "stream",
     "text": [
      "MNIST dataset:\n",
      "- Training-set:\t\t49000\n",
      "- Test-set:\t\t14000\n",
      "- Validation-set:\t7000\n",
      "USPS dataset:\n",
      "- Training-set:\t\t7439\n",
      "- Test-set:\t\t1859\n"
     ]
    }
   ],
   "source": [
    "print(\"MNIST dataset:\")\n",
    "print(\"- Training-set:\\t\\t{}\".format(mnist.train.num_images))\n",
    "print(\"- Test-set:\\t\\t{}\".format(mnist.test.num_images))\n",
    "print(\"- Validation-set:\\t{}\".format(mnist.valid.num_images))\n",
    "\n",
    "print(\"USPS dataset:\")\n",
    "print(\"- Training-set:\\t\\t{}\".format(usps.train.num_images))\n",
    "print(\"- Test-set:\\t\\t{}\".format(usps.test.num_images))"
   ]
  },
  {
   "cell_type": "code",
   "execution_count": 5,
   "metadata": {},
   "outputs": [
    {
     "data": {
      "image/png": "[encoded data removed]",
      "text/plain": [
       "<matplotlib.figure.Figure at 0x2abd16b6bf28>"
      ]
     },
     "metadata": {},
     "output_type": "display_data"
    },
    {
     "data": {
      "image/png": "[encoded data removed]",
      "text/plain": [
       "<matplotlib.figure.Figure at 0x2abd16b6b358>"
      ]
     },
     "metadata": {},
     "output_type": "display_data"
    },
    {
     "data": {
      "image/png": "[encoded data removed]",
      "text/plain": [
       "<matplotlib.figure.Figure at 0x2abd729eaf98>"
      ]
     },
     "metadata": {},
     "output_type": "display_data"
    }
   ],
   "source": [
    "# Display_images\n",
    "i=10\n",
    "lsp.view_image(mnist.train.images[0])\n",
    "lsp.view_images(mnist.train.images[i:(i+10)], mnist.train.cls[i:(i+10)])\n",
    "lsp.view_images(usps.train.images[i:(i+10)], usps.train.cls[i:(i+10)])"
   ]
  },
  {
   "cell_type": "markdown",
   "metadata": {},
   "source": [
    "#### Getting started with the model"
   ]
  },
  {
   "cell_type": "code",
   "execution_count": 6,
   "metadata": {
    "collapsed": true
   },
   "outputs": [],
   "source": [
    "# tf Graph input\n",
    "x = tf.placeholder(tf.float32, [None, num_input['rows'],num_input['colomns'],num_input['channel']])\n",
    "y = tf.placeholder(tf.float32, [None, num_classes])\n",
    "keep_prob = tf.placeholder(tf.float32) # dropout (keep probability)"
   ]
  },
  {
   "cell_type": "code",
   "execution_count": 7,
   "metadata": {
    "collapsed": true
   },
   "outputs": [],
   "source": [
    "# Construct model\n",
    "# Convolution Layer 1,2 and Maxpooling Layer 12\n",
    "conv1 = tf.layers.conv2d(inputs=x,filters=32,kernel_size=[5, 5],padding=\"same\",activation=tf.nn.relu)\n",
    "conv2 = tf.layers.conv2d(inputs=conv1,filters=32,kernel_size=[5, 5],padding=\"same\",activation=tf.nn.relu)\n",
    "pool12 = tf.layers.max_pooling2d(inputs=conv2, pool_size=[2, 2], strides=2)\n",
    "    \n",
    "\n",
    "# Convolution Layer 3,4 and Maxpooling Layer 34\n",
    "conv3 = tf.layers.conv2d(inputs=pool12,filters=64,kernel_size=[5, 5],padding=\"same\",activation=tf.nn.relu)\n",
    "conv4 = tf.layers.conv2d(inputs=conv3,filters=64,kernel_size=[5, 5],padding=\"same\",activation=tf.nn.relu)\n",
    "pool34 = tf.layers.max_pooling2d(inputs=conv4, pool_size=[2, 2], strides=2)\n",
    "    \n",
    "\n",
    "# Fully connected layer\n",
    "# Reshape conv2 output to fit fully connected layer input\n",
    "flat = tf.reshape(pool34, [-1, 4 * 4 * 64]) \n",
    "    \n",
    "dense1 = tf.layers.dense(inputs=flat, units=4 * 4 * 64, activation=tf.nn.relu)\n",
    "dropout1 = tf.layers.dropout(inputs=dense1, rate=keep_prob)\n",
    "dense2 = tf.layers.dense(inputs=dropout1, units=512, activation=tf.nn.relu)\n",
    "dropout2 = tf.layers.dropout(inputs=dense2, rate=keep_prob)\n",
    "    \n",
    "# Logits Layer\n",
    "logits = tf.layers.dense(inputs=dropout2, units=10)\n",
    "    \n",
    "# Reading summaries\n",
    "tf.summary.histogram('logits', logits)\n",
    "tf.summary.histogram('flat', flat)\n",
    "tf.summary.histogram('pool12', pool12)\n",
    "\n",
    "#logits = cnn.conv_net(x, img_rows,img_cols,keep_prob)\n",
    "prediction = tf.nn.softmax(logits)"
   ]
  },
  {
   "cell_type": "markdown",
   "metadata": {},
   "source": [
    "#### Defining loss, optimizer and evaluations for the model"
   ]
  },
  {
   "cell_type": "code",
   "execution_count": 8,
   "metadata": {
    "collapsed": true
   },
   "outputs": [],
   "source": [
    "# For visualisation of data : Creating embedding and labels\n",
    "embedding_size=4 * 4 * 64\n",
    "embedding_var = tf.Variable(tf.zeros([vis_num, embedding_size]), name=\"embedding_var\")\n",
    "assignment = embedding_var.assign(flat)\n",
    "\n",
    "#embedding_var = tf.Variable(tf.stack(usps.test.images[0:50], axis=0), trainable=False, name='embedding_var')\n",
    "def save_metadata(file):\n",
    "    with open(file, 'w') as f:\n",
    "        for i in range(vis_num):\n",
    "            f.write('{}\\n'.format(mnist.test.cls[i]))\n",
    "save_metadata('./logdir/mnist_test_labels.tsv')"
   ]
  },
  {
   "cell_type": "code",
   "execution_count": 9,
   "metadata": {
    "collapsed": true
   },
   "outputs": [],
   "source": [
    "# Define loss and optimizer\n",
    "loss_op = tf.reduce_mean(tf.nn.softmax_cross_entropy_with_logits(logits=logits, labels=y))\n",
    "optimizer = tf.train.AdamOptimizer(learning_rate=flags.FLAGS.learning_rate)\n",
    "train_op = optimizer.minimize(loss_op)\n",
    "\n",
    "# Evaluate model\n",
    "correct_pred = tf.equal(tf.argmax(prediction, 1), tf.argmax(y, 1))\n",
    "accuracy = tf.reduce_mean(tf.cast(correct_pred, tf.float32))"
   ]
  },
  {
   "cell_type": "code",
   "execution_count": 10,
   "metadata": {
    "collapsed": true
   },
   "outputs": [],
   "source": [
    "# Summaries defined\n",
    "tf.summary.scalar(\"training_loss\", loss_op)\n",
    "tf.summary.scalar(\"training_accuracy\", accuracy)\n",
    "tf.summary.scalar(\"predictions\", accuracy)\n",
    "# because you have several summaries, we should merge them all into one op to make it easier to manage\n",
    "summary_op = tf.summary.merge_all()"
   ]
  },
  {
   "cell_type": "markdown",
   "metadata": {},
   "source": [
    "#### Training by running a session"
   ]
  },
  {
   "cell_type": "code",
   "execution_count": 11,
   "metadata": {},
   "outputs": [
    {
     "name": "stdout",
     "output_type": "stream",
     "text": [
      "..............................................................................................\n",
      "Epoch: 1, USPS Loss= 1.15, USPS Accuracy= 73.75%\n",
      "..............................................................................................\n",
      "Epoch: 2, USPS Loss= 0.88, USPS Accuracy= 78.38%\n",
      "..............................................................................................\n",
      "Epoch: 3, USPS Loss= 0.61, USPS Accuracy= 83.59%\n",
      "..............................................................................................\n",
      "Epoch: 4, USPS Loss= 0.46, USPS Accuracy= 86.77%\n",
      "..............................................................................................\n",
      "Epoch: 5, USPS Loss= 0.69, USPS Accuracy= 82.68%\n",
      "Optimization Finished!\n"
     ]
    }
   ],
   "source": [
    "# Start a session and run variables\n",
    "sess = tf.InteractiveSession()\n",
    "# Initialize the variables (i.e. assign their default value)\n",
    "init = tf.global_variables_initializer()\n",
    "sess.run(init)\n",
    "\n",
    "# For embedded visualisation\n",
    "sprite_image=cnn.images_to_sprite(mnist.test.images)\n",
    "scipy.misc.toimage(sprite_image, cmin=0.0, cmax=...).save('./logdir/mnist_test_sprite.png')\n",
    "config = projector.ProjectorConfig()\n",
    "embedding = config.embeddings.add()\n",
    "embedding.tensor_name = embedding_var.name\n",
    "embedding.metadata_path = os.path.join(LOG_DIR + '/mnist_test_labels.tsv')\n",
    "embedding.sprite.image_path = os.path.join(LOG_DIR + '/mnist_test_sprite.png')\n",
    "embedding.sprite.single_image_dim.extend([12, 12]) # Specify the width and height of a single thumbnail\n",
    "\n",
    "#For saving models and writing summaries\n",
    "saver = tf.train.Saver() # Creating tf.train.Saver() object\n",
    "embedded_writer = tf.summary.FileWriter('./logdir', sess.graph)\n",
    "train_writer = tf.summary.FileWriter('./logdir', sess.graph) # Initialising FileWriter class instance with directory and graph\n",
    "test_writer = tf.summary.FileWriter('./logdir', sess.graph) # Initialising FileWriter class instance with directory and graph\n",
    "merged_summary = tf.summary.merge_all() #Merging all summaries\n",
    "\n",
    "# Training\n",
    "iterations=int(mnist.train.num_images/batch_size)\n",
    "for epoch in range(1, epoch):\n",
    "    for step in range(1,iterations):\n",
    "        print('.',end=\"\")\n",
    "        batch_x, batch_y=mnist.train.next_batch(batch_size)\n",
    "        batch_x=lsp.reshape_grayscale_as_tensor(batch_x)\n",
    "        train_summ_string,_,_=sess.run([summary_op,train_op,accuracy], feed_dict={x: batch_x, y: batch_y, keep_prob: dropout})\n",
    "        \n",
    "        train_writer.add_summary(train_summ_string,custom_global_step) # Writing summary to disc\n",
    "        custom_global_step+=1\n",
    "    \n",
    "    # Calculate epoch loss and accuracy for MNIST.valid data and USPS.train data\n",
    "    test_x=lsp.reshape_grayscale_as_tensor(mnist.valid.images)\n",
    "    loss_temp, acc_temp = sess.run([loss_op, accuracy], feed_dict={x: test_x, y: mnist.valid.labels,keep_prob: 1.0})\n",
    "    val_loss.append(loss_temp)\n",
    "    val_acc.append(acc_temp)\n",
    "    test_summary_string,loss_temp, acc_temp=sess.run([summary_op,loss_op, accuracy], feed_dict={x: lsp.reshape_grayscale_as_tensor(usps.test.images), y: usps.test.labels,keep_prob: 1.0})   \n",
    "    usps_loss.append(loss_temp)\n",
    "    usps_acc.append(acc_temp)\n",
    "    test_writer.add_summary(train_summ_string,custom_global_step) # Writing summary to disc\n",
    "    print(\"\\nEpoch: \" + str(epoch) + \", USPS Loss= \" + \"{:.2f}\".format(loss_temp) + \", USPS Accuracy= \" + \"{:.2f}{}\".format(acc_temp*100,'%'))\n",
    "    \n",
    "    # Saving model after each epcoh\n",
    "    # saver.save(sess, os.path.join(LOG_DIR, \"model.ckpt\"), global_step=custom_global_step) \n",
    "\n",
    "test_summary_string,loss_temp, acc_temp,_=sess.run([summary_op,loss_op, accuracy, assignment], feed_dict={x: lsp.reshape_grayscale_as_tensor(mnist.test.images), y: mnist.test.labels,keep_prob: 1.0})   \n",
    "saver.save(sess, os.path.join(LOG_DIR, \"model.ckpt\"), global_step=custom_global_step)   \n",
    "projector.visualize_embeddings(embedded_writer, config)    \n",
    "print(\"Optimization Finished!\")"
   ]
  },
  {
   "cell_type": "markdown",
   "metadata": {},
   "source": [
    "#### Tensorboard visualisation"
   ]
  },
  {
   "cell_type": "code",
   "execution_count": null,
   "metadata": {},
   "outputs": [
    {
     "name": "stdout",
     "output_type": "stream",
     "text": [
      "======================================================================\n",
      "Processing event files... (this can take a few minutes)\n",
      "======================================================================\n",
      "\n",
      "Found event files in:\n",
      "./logdir\n",
      "\n",
      "These tags are in ./logdir:\n",
      "audio -\n",
      "histograms\n",
      "   flat\n",
      "   logits\n",
      "   pool12\n",
      "images -\n",
      "scalars\n",
      "   predictions\n",
      "   training_accuracy\n",
      "   training_loss\n",
      "tensor -\n",
      "======================================================================\n",
      "\n",
      "Event statistics for ./logdir:\n",
      "audio -\n",
      "graph\n",
      "   first_step           0\n",
      "   last_step            0\n",
      "   max_step             0\n",
      "   min_step             0\n",
      "   num_steps            1\n",
      "   outoforder_steps     []\n",
      "histograms\n",
      "   first_step           1\n",
      "   last_step            378\n",
      "   max_step             380\n",
      "   min_step             1\n",
      "   num_steps            380\n",
      "   outoforder_steps     [(380, 1)]\n",
      "images -\n",
      "scalars\n",
      "   first_step           1\n",
      "   last_step            378\n",
      "   max_step             380\n",
      "   min_step             1\n",
      "   num_steps            380\n",
      "   outoforder_steps     [(380, 1)]\n",
      "sessionlog:checkpoint -\n",
      "sessionlog:start -\n",
      "sessionlog:stop -\n",
      "tensor -\n",
      "======================================================================\n",
      "\n"
     ]
    }
   ],
   "source": [
    "# Checking the items in the log directory\n",
    "!tensorboard --inspect --logdir='./logdir'"
   ]
  },
  {
   "cell_type": "code",
   "execution_count": null,
   "metadata": {},
   "outputs": [
    {
     "name": "stdout",
     "output_type": "stream",
     "text": [
      "If on windows system go to: http://localhost:6006\n",
      "Starting TensorBoard b'47' at http://0.0.0.0:6006\n",
      "(Press CTRL+C to quit)\n",
      "WARNING:tensorflow:Found more than one graph event per run, or there was a metagraph containing a graph_def, as well as one or more graph events.  Overwriting the graph with the newest event.\n",
      "WARNING:tensorflow:Found more than one metagraph event per run. Overwriting the metagraph with the newest event.\n",
      "WARNING:tensorflow:Found more than one graph event per run, or there was a metagraph containing a graph_def, as well as one or more graph events.  Overwriting the graph with the newest event.\n",
      "WARNING:tensorflow:Found more than one metagraph event per run. Overwriting the metagraph with the newest event.\n",
      "WARNING:tensorflow:Found more than one graph event per run, or there was a metagraph containing a graph_def, as well as one or more graph events.  Overwriting the graph with the newest event.\n",
      "WARNING:tensorflow:Found more than one graph event per run, or there was a metagraph containing a graph_def, as well as one or more graph events.  Overwriting the graph with the newest event.\n",
      "WARNING:tensorflow:Found more than one metagraph event per run. Overwriting the metagraph with the newest event.\n",
      "WARNING:tensorflow:Found more than one graph event per run, or there was a metagraph containing a graph_def, as well as one or more graph events.  Overwriting the graph with the newest event.\n",
      "WARNING:tensorflow:Found more than one graph event per run, or there was a metagraph containing a graph_def, as well as one or more graph events.  Overwriting the graph with the newest event.\n",
      "WARNING:tensorflow:Found more than one graph event per run, or there was a metagraph containing a graph_def, as well as one or more graph events.  Overwriting the graph with the newest event.\n",
      "WARNING:tensorflow:Found more than one metagraph event per run. Overwriting the metagraph with the newest event.\n",
      "WARNING:tensorflow:Found more than one graph event per run, or there was a metagraph containing a graph_def, as well as one or more graph events.  Overwriting the graph with the newest event.\n",
      "WARNING:tensorflow:path ../external/data/plugin/text/runs not found, sending 404\n",
      "WARNING:tensorflow:path ../external/data/plugin/text/runs not found, sending 404\n",
      "WARNING:tensorflow:path ../external/data/plugin/text/runs not found, sending 404\n",
      "WARNING:tensorflow:path ../external/data/plugin/text/runs not found, sending 404\n"
     ]
    }
   ],
   "source": [
    "# Running tensorflow\n",
    "print('If on windows system go to: http://localhost:6006')\n",
    "!tensorboard --logdir='./logdir'"
   ]
  },
  {
   "cell_type": "markdown",
   "metadata": {},
   "source": [
    "#### Finally clossing the current sessions : Save the models before this "
   ]
  },
  {
   "cell_type": "code",
   "execution_count": null,
   "metadata": {
    "collapsed": true
   },
   "outputs": [],
   "source": [
    "#!rm -R ./logsdir/ # Uncomment if need to clean the logdir\n",
    "#sess.close()\n"
   ]
  }
 ],
 "metadata": {
  "kernelspec": {
   "display_name": "Python 3",
   "language": "python",
   "name": "python3"
  },
  "language_info": {
   "codemirror_mode": {
    "name": "ipython",
    "version": 3
   },
   "file_extension": ".py",
   "mimetype": "text/x-python",
   "name": "python",
   "nbconvert_exporter": "python",
   "pygments_lexer": "ipython3",
   "version": "3.6.1"
  }
 },
 "nbformat": 4,
 "nbformat_minor": 2
}
