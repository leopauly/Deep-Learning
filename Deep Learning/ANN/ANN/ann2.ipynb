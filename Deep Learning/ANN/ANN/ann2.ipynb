{
 "cells": [
  {
   "cell_type": "code",
   "execution_count": 1,
   "metadata": {
    "collapsed": false
   },
   "outputs": [
    {
     "name": "stderr",
     "output_type": "stream",
     "text": [
      "Using TensorFlow backend.\n"
     ]
    }
   ],
   "source": [
    "import numpy\n",
    "from keras.models import Sequential\n",
    "from keras.utils import np_utils\n",
    "from keras.layers import Dense"
   ]
  },
  {
   "cell_type": "code",
   "execution_count": 4,
   "metadata": {
    "collapsed": true
   },
   "outputs": [],
   "source": [
    "seed=10\n",
    "numpy.random.seed(seed)"
   ]
  },
  {
   "cell_type": "code",
   "execution_count": 5,
   "metadata": {
    "collapsed": true
   },
   "outputs": [],
   "source": [
    "dataset=numpy.loadtxt('data.txt',delimiter=',',skiprows=1)"
   ]
  },
  {
   "cell_type": "code",
   "execution_count": 6,
   "metadata": {
    "collapsed": false
   },
   "outputs": [
    {
     "name": "stdout",
     "output_type": "stream",
     "text": [
      "(90, 3)\n",
      "(90, 7)\n"
     ]
    }
   ],
   "source": [
    "X=dataset[0:90,1:8];\n",
    "Y=dataset[0:90,8:11];\n",
    "print (Y.shape)\n",
    "print (X.shape)"
   ]
  },
  {
   "cell_type": "code",
   "execution_count": 15,
   "metadata": {
    "collapsed": false
   },
   "outputs": [
    {
     "name": "stdout",
     "output_type": "stream",
     "text": [
      "Train on 62 samples, validate on 28 samples\n",
      "Epoch 1/25\n",
      "62/62 [==============================] - 0s - loss: 1475.9970 - acc: 0.1935 - val_loss: 1556.2934 - val_acc: 0.1429\n",
      "Epoch 2/25\n",
      "62/62 [==============================] - 0s - loss: 1474.9393 - acc: 0.1935 - val_loss: 1554.7224 - val_acc: 0.1429\n",
      "Epoch 3/25\n",
      "62/62 [==============================] - 0s - loss: 1473.0010 - acc: 0.1935 - val_loss: 1551.6636 - val_acc: 0.1429\n",
      "Epoch 4/25\n",
      "62/62 [==============================] - 0s - loss: 1469.3737 - acc: 0.1935 - val_loss: 1546.0290 - val_acc: 0.1429\n",
      "Epoch 5/25\n",
      "62/62 [==============================] - 0s - loss: 1462.7969 - acc: 0.1935 - val_loss: 1536.2152 - val_acc: 0.1429\n",
      "Epoch 6/25\n",
      "62/62 [==============================] - 0s - loss: 1451.6177 - acc: 0.1935 - val_loss: 1519.6159 - val_acc: 0.1429\n",
      "Epoch 7/25\n",
      "62/62 [==============================] - 0s - loss: 1432.9690 - acc: 0.1935 - val_loss: 1492.6764 - val_acc: 0.1429\n",
      "Epoch 8/25\n",
      "62/62 [==============================] - 0s - loss: 1403.2895 - acc: 0.1935 - val_loss: 1450.9717 - val_acc: 0.1429\n",
      "Epoch 9/25\n",
      "62/62 [==============================] - 0s - loss: 1357.2159 - acc: 0.1935 - val_loss: 1388.8475 - val_acc: 0.1429\n",
      "Epoch 10/25\n",
      "62/62 [==============================] - 0s - loss: 1289.6903 - acc: 0.1935 - val_loss: 1299.7740 - val_acc: 0.1429\n",
      "Epoch 11/25\n",
      "62/62 [==============================] - 0s - loss: 1194.7479 - acc: 0.1935 - val_loss: 1179.4793 - val_acc: 0.1429\n",
      "Epoch 12/25\n",
      "62/62 [==============================] - 0s - loss: 1070.9740 - acc: 0.1935 - val_loss: 1027.1461 - val_acc: 0.1429\n",
      "Epoch 13/25\n",
      "62/62 [==============================] - 0s - loss: 914.6629 - acc: 0.1935 - val_loss: 846.4119 - val_acc: 0.1429\n",
      "Epoch 14/25\n",
      "62/62 [==============================] - 0s - loss: 740.5209 - acc: 0.1935 - val_loss: 654.8176 - val_acc: 0.1429\n",
      "Epoch 15/25\n",
      "62/62 [==============================] - 0s - loss: 562.7840 - acc: 0.1935 - val_loss: 484.0730 - val_acc: 0.1429\n",
      "Epoch 16/25\n",
      "62/62 [==============================] - 0s - loss: 424.4638 - acc: 0.1935 - val_loss: 369.5244 - val_acc: 0.1429\n",
      "Epoch 17/25\n",
      "62/62 [==============================] - 0s - loss: 330.8908 - acc: 0.1935 - val_loss: 310.4387 - val_acc: 0.1429\n",
      "Epoch 18/25\n",
      "62/62 [==============================] - 0s - loss: 290.3911 - acc: 0.1935 - val_loss: 269.7322 - val_acc: 0.1429\n",
      "Epoch 19/25\n",
      "62/62 [==============================] - 0s - loss: 251.0195 - acc: 0.1935 - val_loss: 229.1398 - val_acc: 0.1429\n",
      "Epoch 20/25\n",
      "62/62 [==============================] - 0s - loss: 212.7950 - acc: 0.1935 - val_loss: 193.4365 - val_acc: 0.1429\n",
      "Epoch 21/25\n",
      "62/62 [==============================] - 0s - loss: 183.6981 - acc: 0.1935 - val_loss: 166.3316 - val_acc: 0.8571\n",
      "Epoch 22/25\n",
      "62/62 [==============================] - 0s - loss: 163.4082 - acc: 0.8065 - val_loss: 148.9974 - val_acc: 0.8571\n",
      "Epoch 23/25\n",
      "62/62 [==============================] - 0s - loss: 150.9239 - acc: 0.8065 - val_loss: 137.7489 - val_acc: 0.8571\n",
      "Epoch 24/25\n",
      "62/62 [==============================] - 0s - loss: 142.8841 - acc: 0.8065 - val_loss: 128.0599 - val_acc: 0.8571\n",
      "Epoch 25/25\n",
      "62/62 [==============================] - 0s - loss: 138.1408 - acc: 0.8065 - val_loss: 120.5162 - val_acc: 0.8571\n"
     ]
    },
    {
     "data": {
      "text/plain": [
       "<keras.callbacks.History at 0x7f5ebc054ef0>"
      ]
     },
     "execution_count": 15,
     "metadata": {},
     "output_type": "execute_result"
    }
   ],
   "source": [
    "model = Sequential()\n",
    "model.add(Dense(12, input_dim=7, init='uniform', activation='relu'))\n",
    "model.add(Dense(12, init='uniform', activation='relu'))\n",
    "model.add(Dense(12, init='uniform', activation='relu'))\n",
    "model.add(Dense(3, init='uniform', activation='relu'))\n",
    "\n",
    "# Compile model\n",
    "model.compile(loss='mse', optimizer='adam', metrics=['accuracy'])\n",
    "# Fit the model\n",
    "model.fit(X, Y, nb_epoch=25, batch_size=15, validation_split=0.3, shuffle='TRUE')\n"
   ]
  },
  {
   "cell_type": "code",
   "execution_count": 8,
   "metadata": {
    "collapsed": true
   },
   "outputs": [],
   "source": [
    "test1=dataset[90:104,1:8];\n",
    "test2=dataset[90:104,8:11]"
   ]
  },
  {
   "cell_type": "code",
   "execution_count": 9,
   "metadata": {
    "collapsed": false
   },
   "outputs": [
    {
     "name": "stdout",
     "output_type": "stream",
     "text": [
      "13/13 [==============================] - 0s\n",
      "acc: 46.15%\n"
     ]
    }
   ],
   "source": [
    "scores = model.evaluate(test1, test2)\n",
    "print(\"%s: %.2f%%\" % (model.metrics_names[1], scores[1]*100))"
   ]
  },
  {
   "cell_type": "code",
   "execution_count": 12,
   "metadata": {
    "collapsed": false
   },
   "outputs": [
    {
     "name": "stdout",
     "output_type": "stream",
     "text": [
      "32/90 [=========>....................] - ETA: 0sacc: 82.22%\n"
     ]
    }
   ],
   "source": [
    "scores = model.evaluate(X, Y)\n",
    "print(\"%s: %.2f%%\" % (model.metrics_names[1], scores[1]*100))"
   ]
  },
  {
   "cell_type": "code",
   "execution_count": null,
   "metadata": {
    "collapsed": true
   },
   "outputs": [],
   "source": []
  }
 ],
 "metadata": {
  "anaconda-cloud": {},
  "kernelspec": {
   "display_name": "Python [default]",
   "language": "python",
   "name": "python3"
  },
  "language_info": {
   "codemirror_mode": {
    "name": "ipython",
    "version": 3
   },
   "file_extension": ".py",
   "mimetype": "text/x-python",
   "name": "python",
   "nbconvert_exporter": "python",
   "pygments_lexer": "ipython3",
   "version": "3.5.2"
  }
 },
 "nbformat": 4,
 "nbformat_minor": 1
}
