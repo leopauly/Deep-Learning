{
 "cells": [
  {
   "cell_type": "code",
   "execution_count": 1,
   "metadata": {
    "collapsed": false
   },
   "outputs": [
    {
     "name": "stderr",
     "output_type": "stream",
     "text": [
      "Using TensorFlow backend.\n"
     ]
    }
   ],
   "source": [
    "# My implementation of VGGNet\n",
    "# Implemented by leopauly: cnlp@leeds.ac.uk\n",
    "\n",
    "import numpy\n",
    "import datetime\n",
    "import glob\n",
    "from PIL import Image  \n",
    "from scipy import misc\n",
    "from scipy import ndimage\n",
    "import matplotlib.pyplot as plt\n",
    "from sklearn.cross_validation import train_test_split\n",
    "from sklearn.utils import shuffle\n",
    "\n",
    "from keras.datasets import mnist\n",
    "from keras.datasets import cifar10\n",
    "from keras.regularizers import l2\n",
    "from keras.models import Sequential\n",
    "from keras.layers import Dense\n",
    "from keras.layers import Dropout\n",
    "from keras.layers import Flatten\n",
    "from keras.constraints import maxnorm\n",
    "from keras.optimizers import SGD\n",
    "from keras.layers.convolutional import Convolution2D\n",
    "from keras.layers.convolutional import MaxPooling2D\n",
    "from keras.utils import np_utils\n",
    "from keras import backend as K\n",
    "from keras.callbacks import ReduceLROnPlateau\n",
    "\n",
    "K.set_image_dim_ordering('th')"
   ]
  },
  {
   "cell_type": "code",
   "execution_count": 2,
   "metadata": {
    "collapsed": true
   },
   "outputs": [],
   "source": [
    "seed = 7\n",
    "numpy.random.seed(seed)"
   ]
  },
  {
   "cell_type": "code",
   "execution_count": 3,
   "metadata": {
    "collapsed": true
   },
   "outputs": [],
   "source": [
    "num_classes=10\n",
    "channel=3\n",
    "img_rows=32\n",
    "img_cols=32"
   ]
  },
  {
   "cell_type": "code",
   "execution_count": 4,
   "metadata": {
    "collapsed": false
   },
   "outputs": [],
   "source": [
    "# Prepare Dataset\n",
    "\n",
    "(x_train, y_train),(x_test,y_test)=cifar10.load_data()\n",
    "\n",
    "x_train = x_train.reshape(x_train.shape[0], channel,img_rows, img_cols)\n",
    "x_test = x_test.reshape(x_test.shape[0], channel,img_rows, img_cols)\n",
    "input_shape=(3,img_rows,img_cols)\n",
    "\n",
    "x_test=x_test.astype('float32')\n",
    "x_train=x_train.astype('float32')\n",
    "x_test=x_test/255.\n",
    "x_train=x_train/255.\n",
    "\n",
    "# one hot encode outputs\n",
    "y_train = np_utils.to_categorical(y_train)\n",
    "y_test = np_utils.to_categorical(y_test)\n",
    "num_classes = y_test.shape[1]\n"
   ]
  },
  {
   "cell_type": "code",
   "execution_count": 5,
   "metadata": {
    "collapsed": false
   },
   "outputs": [],
   "source": [
    "#Define model\n",
    "\n",
    "vgg= Sequential()\n",
    "vgg.add (Convolution2D(64, 3, 3, input_shape=input_shape, activation='relu',border_mode='same', init='glorot_normal',W_regularizer=l2(0.0005)))\n",
    "vgg.add (Convolution2D(64, 3, 3, activation='relu',border_mode='same', init='glorot_normal',W_regularizer=l2(0.0005), ))\n",
    "vgg.add(MaxPooling2D((2,2), strides=(2,2),border_mode='valid', dim_ordering='th'))\n",
    "\n",
    "vgg.add (Convolution2D(128, 3, 3, activation='relu',border_mode='same', init='glorot_normal',W_regularizer=l2(0.0005), ))\n",
    "vgg.add (Convolution2D(128, 3, 3, activation='relu',border_mode='same', init='glorot_normal',W_regularizer=l2(0.0005), ))\n",
    "vgg.add(MaxPooling2D((2,2), strides=(2,2),border_mode='valid', dim_ordering='th'))\n",
    "\n",
    "vgg.add (Convolution2D(256, 3, 3, activation='relu',border_mode='same', init='glorot_normal',W_regularizer=l2(0.0005), ))\n",
    "vgg.add (Convolution2D(256, 3, 3, activation='relu',border_mode='same', init='glorot_normal',W_regularizer=l2(0.0005), ))\n",
    "vgg.add (Convolution2D(256, 3, 3, activation='relu',border_mode='same', init='glorot_normal',W_regularizer=l2(0.0005), ))\n",
    "vgg.add(MaxPooling2D((2,2), strides=(2,2),border_mode='valid', dim_ordering='th'))\n",
    "\n",
    "vgg.add (Convolution2D(512, 3, 3, activation='relu',border_mode='same', init='glorot_normal',W_regularizer=l2(0.0005), ))\n",
    "vgg.add (Convolution2D(512, 3, 3, activation='relu',border_mode='same', init='glorot_normal',W_regularizer=l2(0.0005), ))\n",
    "vgg.add (Convolution2D(512, 3, 3, activation='relu',border_mode='same', init='glorot_normal',W_regularizer=l2(0.0005), ))\n",
    "vgg.add(MaxPooling2D((2,2), strides=(2,2),border_mode='valid', dim_ordering='th'))\n",
    "\n",
    "vgg.add (Convolution2D(512, 3, 3, activation='relu',border_mode='same', init='glorot_normal',W_regularizer=l2(0.0005), ))\n",
    "vgg.add (Convolution2D(512, 3, 3, activation='relu',border_mode='same', init='glorot_normal',W_regularizer=l2(0.0005), ))\n",
    "vgg.add (Convolution2D(512, 3, 3, activation='relu',border_mode='same', init='glorot_normal',W_regularizer=l2(0.0005), ))\n",
    "vgg.add(MaxPooling2D((2,2), strides=(2,2),border_mode='valid', dim_ordering='th'))\n",
    "\n",
    "vgg.add(Flatten())\n",
    "vgg.add(Dense(4096, activation='relu'))\n",
    "vgg.add(Dropout(0.5))\n",
    "vgg.add(Dense(4096, activation='relu'))\n",
    "vgg.add(Dropout(0.5))\n",
    "vgg.add(Dense(num_classes, activation='softmax'))\n",
    "\n"
   ]
  },
  {
   "cell_type": "code",
   "execution_count": null,
   "metadata": {
    "collapsed": false
   },
   "outputs": [
    {
     "name": "stdout",
     "output_type": "stream",
     "text": [
      "____________________________________________________________________________________________________\n",
      "Layer (type)                     Output Shape          Param #     Connected to                     \n",
      "====================================================================================================\n",
      "convolution2d_1 (Convolution2D)  (None, 64, 32, 32)    1792        convolution2d_input_1[0][0]      \n",
      "____________________________________________________________________________________________________\n",
      "convolution2d_2 (Convolution2D)  (None, 64, 32, 32)    36928       convolution2d_1[0][0]            \n",
      "____________________________________________________________________________________________________\n",
      "maxpooling2d_1 (MaxPooling2D)    (None, 64, 16, 16)    0           convolution2d_2[0][0]            \n",
      "____________________________________________________________________________________________________\n",
      "convolution2d_3 (Convolution2D)  (None, 128, 16, 16)   73856       maxpooling2d_1[0][0]             \n",
      "____________________________________________________________________________________________________\n",
      "convolution2d_4 (Convolution2D)  (None, 128, 16, 16)   147584      convolution2d_3[0][0]            \n",
      "____________________________________________________________________________________________________\n",
      "maxpooling2d_2 (MaxPooling2D)    (None, 128, 8, 8)     0           convolution2d_4[0][0]            \n",
      "____________________________________________________________________________________________________\n",
      "convolution2d_5 (Convolution2D)  (None, 256, 8, 8)     295168      maxpooling2d_2[0][0]             \n",
      "____________________________________________________________________________________________________\n",
      "convolution2d_6 (Convolution2D)  (None, 256, 8, 8)     590080      convolution2d_5[0][0]            \n",
      "____________________________________________________________________________________________________\n",
      "convolution2d_7 (Convolution2D)  (None, 256, 8, 8)     590080      convolution2d_6[0][0]            \n",
      "____________________________________________________________________________________________________\n",
      "maxpooling2d_3 (MaxPooling2D)    (None, 256, 4, 4)     0           convolution2d_7[0][0]            \n",
      "____________________________________________________________________________________________________\n",
      "convolution2d_8 (Convolution2D)  (None, 512, 4, 4)     1180160     maxpooling2d_3[0][0]             \n",
      "____________________________________________________________________________________________________\n",
      "convolution2d_9 (Convolution2D)  (None, 512, 4, 4)     2359808     convolution2d_8[0][0]            \n",
      "____________________________________________________________________________________________________\n",
      "convolution2d_10 (Convolution2D) (None, 512, 4, 4)     2359808     convolution2d_9[0][0]            \n",
      "____________________________________________________________________________________________________\n",
      "maxpooling2d_4 (MaxPooling2D)    (None, 512, 2, 2)     0           convolution2d_10[0][0]           \n",
      "____________________________________________________________________________________________________\n",
      "convolution2d_11 (Convolution2D) (None, 512, 2, 2)     2359808     maxpooling2d_4[0][0]             \n",
      "____________________________________________________________________________________________________\n",
      "convolution2d_12 (Convolution2D) (None, 512, 2, 2)     2359808     convolution2d_11[0][0]           \n",
      "____________________________________________________________________________________________________\n",
      "convolution2d_13 (Convolution2D) (None, 512, 2, 2)     2359808     convolution2d_12[0][0]           \n",
      "____________________________________________________________________________________________________\n",
      "maxpooling2d_5 (MaxPooling2D)    (None, 512, 1, 1)     0           convolution2d_13[0][0]           \n",
      "____________________________________________________________________________________________________\n",
      "flatten_1 (Flatten)              (None, 512)           0           maxpooling2d_5[0][0]             \n",
      "____________________________________________________________________________________________________\n",
      "dense_1 (Dense)                  (None, 4096)          2101248     flatten_1[0][0]                  \n",
      "____________________________________________________________________________________________________\n",
      "dropout_1 (Dropout)              (None, 4096)          0           dense_1[0][0]                    \n",
      "____________________________________________________________________________________________________\n",
      "dense_2 (Dense)                  (None, 4096)          16781312    dropout_1[0][0]                  \n",
      "____________________________________________________________________________________________________\n",
      "dropout_2 (Dropout)              (None, 4096)          0           dense_2[0][0]                    \n",
      "____________________________________________________________________________________________________\n",
      "dense_3 (Dense)                  (None, 10)            40970       dropout_2[0][0]                  \n",
      "====================================================================================================\n",
      "Total params: 33638218\n",
      "____________________________________________________________________________________________________\n",
      "None\n"
     ]
    }
   ],
   "source": [
    "#Compile model\n",
    "\n",
    "epochs = 100\n",
    "lrate = 0.01\n",
    "sgd = SGD(lr=lrate, momentum=0.9, nesterov=True)\n",
    "vgg.compile(loss='categorical_crossentropy', optimizer=sgd, metrics=['accuracy'])\n",
    "print(vgg.summary())"
   ]
  },
  {
   "cell_type": "code",
   "execution_count": null,
   "metadata": {
    "collapsed": false
   },
   "outputs": [
    {
     "name": "stdout",
     "output_type": "stream",
     "text": [
      "2017-02-02 11:40:47.361303\n",
      "Train on 40000 samples, validate on 10000 samples\n",
      "Epoch 1/100\n",
      " 3072/40000 [=>............................] - ETA: 611s - loss: 4.2353 - acc: 0.1051"
     ]
    }
   ],
   "source": [
    "# printing the time when the training starts\n",
    "print(datetime.datetime.now())\n",
    "\n",
    "b_size= 256\n",
    "reduce_lr = ReduceLROnPlateau(monitor='val_acc', factor=0.1, patience=10, min_lr=0.0001, epsilon=0.001)\n",
    "# Fit the model\n",
    "vgg.fit(x_train, y_train, validation_split=0.2, nb_epoch=epochs, batch_size=b_size, callbacks=[reduce_lr], shuffle='batch')\n",
    "\n",
    "# printing the time when the training finishes\n",
    "print(datetime.datetime.now())\n"
   ]
  },
  {
   "cell_type": "code",
   "execution_count": null,
   "metadata": {
    "collapsed": true
   },
   "outputs": [],
   "source": [
    "scores = vgg.evaluate(x_test, y_test, verbose=0)\n",
    "print(\"Accuracy: %.2f%%\" % (scores[1]*100))"
   ]
  },
  {
   "cell_type": "code",
   "execution_count": null,
   "metadata": {
    "collapsed": true
   },
   "outputs": [],
   "source": []
  }
 ],
 "metadata": {
  "anaconda-cloud": {},
  "kernelspec": {
   "display_name": "Python [default]",
   "language": "python",
   "name": "python3"
  },
  "language_info": {
   "codemirror_mode": {
    "name": "ipython",
    "version": 3
   },
   "file_extension": ".py",
   "mimetype": "text/x-python",
   "name": "python",
   "nbconvert_exporter": "python",
   "pygments_lexer": "ipython3",
   "version": "3.5.2"
  }
 },
 "nbformat": 4,
 "nbformat_minor": 1
}
