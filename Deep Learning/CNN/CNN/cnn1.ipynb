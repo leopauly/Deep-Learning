{
 "cells": [
  {
   "cell_type": "code",
   "execution_count": 6,
   "metadata": {
    "collapsed": false
   },
   "outputs": [],
   "source": [
    "# Simple CNN model for used for classification of CIFAR-10 dataset. Used the dataset that was available in the Keras Library\n",
    "# Created by leopauly \n",
    "# email :cnlp@leeds.ac.uk\n",
    "\n",
    "import numpy\n",
    "from keras.datasets import cifar10\n",
    "from keras.models import Sequential\n",
    "from keras.layers import Dense\n",
    "from keras.layers import Dropout\n",
    "from keras.layers import Flatten\n",
    "from keras.constraints import maxnorm\n",
    "from keras.optimizers import SGD\n",
    "from keras.layers.convolutional import Convolution2D\n",
    "from keras.layers.convolutional import MaxPooling2D\n",
    "from keras.utils import np_utils\n",
    "from keras import backend as K\n",
    "from keras.datasets import cifar10\n",
    "from matplotlib import pyplot \n",
    "from scipy.misc import toimage\n",
    "import datetime\n",
    "\n",
    "K.set_image_dim_ordering('th')"
   ]
  },
  {
   "cell_type": "code",
   "execution_count": 7,
   "metadata": {
    "collapsed": true
   },
   "outputs": [],
   "source": [
    "# fix random seed for reproducibility\n",
    "seed = 7\n",
    "numpy.random.seed(seed)\n",
    "\n",
    "#dataset image parameters\n",
    "img_rows=32\n",
    "img_cols=32\n",
    "channel=3"
   ]
  },
  {
   "cell_type": "code",
   "execution_count": 11,
   "metadata": {
    "collapsed": false
   },
   "outputs": [],
   "source": [
    "(x_train, y_train),(x_test,y_test)=cifar10.load_data()\n",
    "\n",
    "x_train = x_train.reshape(x_train.shape[0], channel,img_rows, img_cols)\n",
    "x_test = x_test.reshape(x_test.shape[0], channel,img_rows, img_cols)\n",
    "input_shape=(3,img_rows,img_cols)"
   ]
  },
  {
   "cell_type": "code",
   "execution_count": 5,
   "metadata": {
    "collapsed": false
   },
   "outputs": [],
   "source": [
    "x_test=x_test.astype('float32')\n",
    "x_train=x_train.astype('float32')\n",
    "x_test=x_test/255.\n",
    "x_train=x_train/255."
   ]
  },
  {
   "cell_type": "code",
   "execution_count": 5,
   "metadata": {
    "collapsed": false
   },
   "outputs": [],
   "source": [
    "# one hot encode outputs\n",
    "y_train = np_utils.to_categorical(y_train)\n",
    "y_test = np_utils.to_categorical(y_test)\n",
    "num_classes = y_test.shape[1]\n",
    "\n"
   ]
  },
  {
   "cell_type": "code",
   "execution_count": 6,
   "metadata": {
    "collapsed": false
   },
   "outputs": [
    {
     "name": "stdout",
     "output_type": "stream",
     "text": [
      "____________________________________________________________________________________________________\n",
      "Layer (type)                     Output Shape          Param #     Connected to                     \n",
      "====================================================================================================\n",
      "convolution2d_1 (Convolution2D)  (None, 32, 32, 32)    896         convolution2d_input_1[0][0]      \n",
      "____________________________________________________________________________________________________\n",
      "dropout_1 (Dropout)              (None, 32, 32, 32)    0           convolution2d_1[0][0]            \n",
      "____________________________________________________________________________________________________\n",
      "convolution2d_2 (Convolution2D)  (None, 32, 32, 32)    9248        dropout_1[0][0]                  \n",
      "____________________________________________________________________________________________________\n",
      "maxpooling2d_1 (MaxPooling2D)    (None, 32, 16, 16)    0           convolution2d_2[0][0]            \n",
      "____________________________________________________________________________________________________\n",
      "convolution2d_3 (Convolution2D)  (None, 32, 16, 16)    9248        maxpooling2d_1[0][0]             \n",
      "____________________________________________________________________________________________________\n",
      "dropout_2 (Dropout)              (None, 32, 16, 16)    0           convolution2d_3[0][0]            \n",
      "____________________________________________________________________________________________________\n",
      "convolution2d_4 (Convolution2D)  (None, 32, 16, 16)    9248        dropout_2[0][0]                  \n",
      "____________________________________________________________________________________________________\n",
      "maxpooling2d_2 (MaxPooling2D)    (None, 32, 8, 8)      0           convolution2d_4[0][0]            \n",
      "____________________________________________________________________________________________________\n",
      "flatten_1 (Flatten)              (None, 2048)          0           maxpooling2d_2[0][0]             \n",
      "____________________________________________________________________________________________________\n",
      "dense_1 (Dense)                  (None, 512)           1049088     flatten_1[0][0]                  \n",
      "____________________________________________________________________________________________________\n",
      "dropout_3 (Dropout)              (None, 512)           0           dense_1[0][0]                    \n",
      "____________________________________________________________________________________________________\n",
      "dense_2 (Dense)                  (None, 10)            5130        dropout_3[0][0]                  \n",
      "====================================================================================================\n",
      "Total params: 1082858\n",
      "____________________________________________________________________________________________________\n",
      "None\n"
     ]
    }
   ],
   "source": [
    "# Create the model\n",
    "model = Sequential()\n",
    "model.add(Convolution2D(32, 3, 3, input_shape=(3,32, 32), border_mode='same', activation='relu', W_constraint=maxnorm(3)))\n",
    "model.add(Dropout(0.2))\n",
    "model.add(Convolution2D(32, 3, 3, activation='relu', border_mode='same', W_constraint=maxnorm(3)))\n",
    "model.add(MaxPooling2D(pool_size=(2, 2)))\n",
    "\n",
    "model.add(Convolution2D(32, 3, 3, activation='relu', border_mode='same', W_constraint=maxnorm(3)))\n",
    "model.add(Dropout(0.2))\n",
    "model.add(Convolution2D(32, 3, 3, activation='relu', border_mode='same', W_constraint=maxnorm(3)))\n",
    "model.add(MaxPooling2D(pool_size=(2, 2)))\n",
    "\n",
    "model.add(Flatten())\n",
    "model.add(Dense(512, activation='relu', W_constraint=maxnorm(3)))\n",
    "model.add(Dropout(0.5))\n",
    "model.add(Dense(num_classes, activation='softmax'))\n",
    "\n",
    "# Compile model\n",
    "epochs = 25\n",
    "lrate = 0.01\n",
    "decay = lrate/epochs\n",
    "sgd = SGD(lr=lrate, momentum=0.9, decay=decay, nesterov=False)\n",
    "model.compile(loss='categorical_crossentropy', optimizer=sgd, metrics=['accuracy'])\n",
    "print(model.summary())"
   ]
  },
  {
   "cell_type": "code",
   "execution_count": 7,
   "metadata": {
    "collapsed": false
   },
   "outputs": [
    {
     "name": "stdout",
     "output_type": "stream",
     "text": [
      "2017-02-01 19:53:31.548119\n",
      "Train on 40000 samples, validate on 10000 samples\n",
      "Epoch 1/25\n",
      "40000/40000 [==============================] - 113s - loss: 1.8336 - acc: 0.3302 - val_loss: 1.4648 - val_acc: 0.4662\n",
      "Epoch 2/25\n",
      "40000/40000 [==============================] - 112s - loss: 1.4173 - acc: 0.4872 - val_loss: 1.2870 - val_acc: 0.5538\n",
      "Epoch 3/25\n",
      "40000/40000 [==============================] - 112s - loss: 1.2321 - acc: 0.5591 - val_loss: 1.1512 - val_acc: 0.5889\n",
      "Epoch 4/25\n",
      "40000/40000 [==============================] - 113s - loss: 1.1102 - acc: 0.6021 - val_loss: 1.0605 - val_acc: 0.6257\n",
      "Epoch 5/25\n",
      "40000/40000 [==============================] - 113s - loss: 1.0201 - acc: 0.6377 - val_loss: 0.9763 - val_acc: 0.6624\n",
      "Epoch 6/25\n",
      "40000/40000 [==============================] - 113s - loss: 0.9457 - acc: 0.6645 - val_loss: 0.9435 - val_acc: 0.6666\n",
      "Epoch 7/25\n",
      "40000/40000 [==============================] - 113s - loss: 0.8909 - acc: 0.6833 - val_loss: 0.8893 - val_acc: 0.6884\n",
      "Epoch 8/25\n",
      "40000/40000 [==============================] - 113s - loss: 0.8419 - acc: 0.6989 - val_loss: 0.8970 - val_acc: 0.6875\n",
      "Epoch 9/25\n",
      "40000/40000 [==============================] - 113s - loss: 0.7972 - acc: 0.7184 - val_loss: 0.8491 - val_acc: 0.7068\n",
      "Epoch 10/25\n",
      "40000/40000 [==============================] - 113s - loss: 0.7534 - acc: 0.7330 - val_loss: 0.8403 - val_acc: 0.7084\n",
      "Epoch 11/25\n",
      "40000/40000 [==============================] - 112s - loss: 0.7231 - acc: 0.7429 - val_loss: 0.8438 - val_acc: 0.7053\n",
      "Epoch 12/25\n",
      "40000/40000 [==============================] - 113s - loss: 0.6918 - acc: 0.7523 - val_loss: 0.8246 - val_acc: 0.7100\n",
      "Epoch 13/25\n",
      "40000/40000 [==============================] - 112s - loss: 0.6591 - acc: 0.7660 - val_loss: 0.7981 - val_acc: 0.7250\n",
      "Epoch 14/25\n",
      "40000/40000 [==============================] - 112s - loss: 0.6298 - acc: 0.7773 - val_loss: 0.7888 - val_acc: 0.7280\n",
      "Epoch 15/25\n",
      "40000/40000 [==============================] - 112s - loss: 0.6025 - acc: 0.7873 - val_loss: 0.7992 - val_acc: 0.7272\n",
      "Epoch 16/25\n",
      "40000/40000 [==============================] - 112s - loss: 0.5756 - acc: 0.7942 - val_loss: 0.8165 - val_acc: 0.7261\n",
      "Epoch 17/25\n",
      "40000/40000 [==============================] - 113s - loss: 0.5590 - acc: 0.8007 - val_loss: 0.8072 - val_acc: 0.7313\n",
      "Epoch 18/25\n",
      "40000/40000 [==============================] - 112s - loss: 0.5351 - acc: 0.8098 - val_loss: 0.7959 - val_acc: 0.7344\n",
      "Epoch 19/25\n",
      "40000/40000 [==============================] - 112s - loss: 0.5182 - acc: 0.8144 - val_loss: 0.7943 - val_acc: 0.7358\n",
      "Epoch 20/25\n",
      "40000/40000 [==============================] - 113s - loss: 0.4919 - acc: 0.8238 - val_loss: 0.8085 - val_acc: 0.7351\n",
      "Epoch 21/25\n",
      "40000/40000 [==============================] - 112s - loss: 0.4711 - acc: 0.8319 - val_loss: 0.7999 - val_acc: 0.7416\n",
      "Epoch 22/25\n",
      "40000/40000 [==============================] - 112s - loss: 0.4593 - acc: 0.8355 - val_loss: 0.8098 - val_acc: 0.7372\n",
      "Epoch 23/25\n",
      "40000/40000 [==============================] - 113s - loss: 0.4460 - acc: 0.8410 - val_loss: 0.8043 - val_acc: 0.7373\n",
      "Epoch 24/25\n",
      "40000/40000 [==============================] - 113s - loss: 0.4351 - acc: 0.8434 - val_loss: 0.8411 - val_acc: 0.7352\n",
      "Epoch 25/25\n",
      "40000/40000 [==============================] - 113s - loss: 0.4186 - acc: 0.8477 - val_loss: 0.8045 - val_acc: 0.7418\n",
      "2017-02-01 20:40:40.092958\n"
     ]
    }
   ],
   "source": [
    "# printing the time when the training starts\n",
    "print(datetime.datetime.now())\n",
    "\n",
    "# Fit the model\n",
    "model.fit(x_train, y_train, validation_split=0.2, nb_epoch=epochs, batch_size=32)\n",
    "\n",
    "# printing the time when the training finishes\n",
    "print(datetime.datetime.now())\n"
   ]
  },
  {
   "cell_type": "code",
   "execution_count": 8,
   "metadata": {
    "collapsed": false
   },
   "outputs": [
    {
     "name": "stdout",
     "output_type": "stream",
     "text": [
      "Accuracy: 73.76%\n"
     ]
    }
   ],
   "source": [
    "# Final evaluation of the model\n",
    "scores = model.evaluate(x_test, y_test, verbose=0)\n",
    "print(\"Accuracy: %.2f%%\" % (scores[1]*100))"
   ]
  },
  {
   "cell_type": "code",
   "execution_count": 9,
   "metadata": {
    "collapsed": false
   },
   "outputs": [],
   "source": [
    "#prediction by the model\n",
    "# have used the same x_test that was used for model evaluation in the previous step\n",
    "predictions = model.predict(x_test)"
   ]
  },
  {
   "cell_type": "code",
   "execution_count": null,
   "metadata": {
    "collapsed": false
   },
   "outputs": [],
   "source": [
    "#Calculating accuracy using the predicted output values\n",
    "rounded = [numpy.round(x) for x in predictions]\n",
    "#print(rounded)\n",
    "ac=0;\n",
    "for z in range (0,10000):\n",
    "    m= rounded[z]-y_test[z]\n",
    "    #print (m)\n",
    "    if (numpy.all(m==0)):\n",
    "        ac=ac+1;\n",
    "     \n",
    "print ((ac/10000.)*100)\n"
   ]
  },
  {
   "cell_type": "code",
   "execution_count": null,
   "metadata": {
    "collapsed": true
   },
   "outputs": [],
   "source": []
  }
 ],
 "metadata": {
  "anaconda-cloud": {},
  "kernelspec": {
   "display_name": "Python [default]",
   "language": "python",
   "name": "python3"
  },
  "language_info": {
   "codemirror_mode": {
    "name": "ipython",
    "version": 3
   },
   "file_extension": ".py",
   "mimetype": "text/x-python",
   "name": "python",
   "nbconvert_exporter": "python",
   "pygments_lexer": "ipython3",
   "version": "3.5.2"
  }
 },
 "nbformat": 4,
 "nbformat_minor": 1
}
