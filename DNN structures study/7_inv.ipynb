{
 "cells": [
  {
   "cell_type": "code",
   "execution_count": 1,
   "metadata": {
    "collapsed": false
   },
   "outputs": [
    {
     "name": "stderr",
     "output_type": "stream",
     "text": [
      "Using TensorFlow backend.\n"
     ]
    }
   ],
   "source": [
    "# Program for learning the performance of 7 layer deep neural network pyramid strucuture\n",
    "\n",
    "import numpy\n",
    "from keras.datasets import cifar10\n",
    "from keras.models import Sequential\n",
    "from keras.layers import Dense\n",
    "from keras.layers import Dropout\n",
    "from keras.layers import Flatten\n",
    "from keras.constraints import maxnorm\n",
    "from keras.optimizers import SGD\n",
    "from keras.layers.convolutional import Convolution2D\n",
    "from keras.layers.convolutional import MaxPooling2D\n",
    "from keras.utils import np_utils\n",
    "from keras import backend as K\n",
    "from keras.datasets import cifar10\n",
    "from matplotlib import pyplot \n",
    "from scipy.misc import toimage\n",
    "import datetime\n",
    "from keras.layers import Activation, Dense\n",
    "\n",
    "K.set_image_dim_ordering('th')"
   ]
  },
  {
   "cell_type": "code",
   "execution_count": 2,
   "metadata": {
    "collapsed": true
   },
   "outputs": [],
   "source": [
    "# fix random seed for reproducibility\n",
    "seed = 7\n",
    "numpy.random.seed(seed)\n",
    "\n",
    "#dataset image parameters\n",
    "img_rows=32\n",
    "img_cols=32\n",
    "channel=3\n",
    "nb_classes=10"
   ]
  },
  {
   "cell_type": "code",
   "execution_count": 3,
   "metadata": {
    "collapsed": true
   },
   "outputs": [],
   "source": [
    "(x_train, y_train),(x_test,y_test)=cifar10.load_data()\n",
    "\n",
    "x_train = x_train.reshape(x_train.shape[0], channel,img_rows, img_cols)\n",
    "x_test = x_test.reshape(x_test.shape[0], channel,img_rows, img_cols)\n",
    "input_shape=(3,img_rows,img_cols)"
   ]
  },
  {
   "cell_type": "code",
   "execution_count": 4,
   "metadata": {
    "collapsed": true
   },
   "outputs": [],
   "source": [
    "x_test=x_test.astype('float32')\n",
    "x_train=x_train.astype('float32')\n",
    "x_test=x_test/255.\n",
    "x_train=x_train/255."
   ]
  },
  {
   "cell_type": "code",
   "execution_count": 5,
   "metadata": {
    "collapsed": true
   },
   "outputs": [],
   "source": [
    "# one hot encode outputs\n",
    "y_train = np_utils.to_categorical(y_train)\n",
    "y_test = np_utils.to_categorical(y_test)\n",
    "num_classes = y_test.shape[1]\n"
   ]
  },
  {
   "cell_type": "code",
   "execution_count": 6,
   "metadata": {
    "collapsed": false
   },
   "outputs": [
    {
     "name": "stdout",
     "output_type": "stream",
     "text": [
      "____________________________________________________________________________________________________\n",
      "Layer (type)                     Output Shape          Param #     Connected to                     \n",
      "====================================================================================================\n",
      "convolution2d_1 (Convolution2D)  (None, 35, 31, 31)    455         convolution2d_input_1[0][0]      \n",
      "____________________________________________________________________________________________________\n",
      "activation_1 (Activation)        (None, 35, 31, 31)    0           convolution2d_1[0][0]            \n",
      "____________________________________________________________________________________________________\n",
      "convolution2d_2 (Convolution2D)  (None, 30, 30, 30)    4230        activation_1[0][0]               \n",
      "____________________________________________________________________________________________________\n",
      "activation_2 (Activation)        (None, 30, 30, 30)    0           convolution2d_2[0][0]            \n",
      "____________________________________________________________________________________________________\n",
      "maxpooling2d_1 (MaxPooling2D)    (None, 30, 15, 15)    0           activation_2[0][0]               \n",
      "____________________________________________________________________________________________________\n",
      "convolution2d_3 (Convolution2D)  (None, 25, 14, 14)    3025        maxpooling2d_1[0][0]             \n",
      "____________________________________________________________________________________________________\n",
      "activation_3 (Activation)        (None, 25, 14, 14)    0           convolution2d_3[0][0]            \n",
      "____________________________________________________________________________________________________\n",
      "convolution2d_4 (Convolution2D)  (None, 20, 13, 13)    2020        activation_3[0][0]               \n",
      "____________________________________________________________________________________________________\n",
      "activation_4 (Activation)        (None, 20, 13, 13)    0           convolution2d_4[0][0]            \n",
      "____________________________________________________________________________________________________\n",
      "maxpooling2d_2 (MaxPooling2D)    (None, 20, 6, 6)      0           activation_4[0][0]               \n",
      "____________________________________________________________________________________________________\n",
      "convolution2d_5 (Convolution2D)  (None, 15, 5, 5)      1215        maxpooling2d_2[0][0]             \n",
      "____________________________________________________________________________________________________\n",
      "activation_5 (Activation)        (None, 15, 5, 5)      0           convolution2d_5[0][0]            \n",
      "____________________________________________________________________________________________________\n",
      "convolution2d_6 (Convolution2D)  (None, 10, 4, 4)      610         activation_5[0][0]               \n",
      "____________________________________________________________________________________________________\n",
      "activation_6 (Activation)        (None, 10, 4, 4)      0           convolution2d_6[0][0]            \n",
      "____________________________________________________________________________________________________\n",
      "maxpooling2d_3 (MaxPooling2D)    (None, 10, 2, 2)      0           activation_6[0][0]               \n",
      "____________________________________________________________________________________________________\n",
      "convolution2d_7 (Convolution2D)  (None, 5, 1, 1)       205         maxpooling2d_3[0][0]             \n",
      "____________________________________________________________________________________________________\n",
      "activation_7 (Activation)        (None, 5, 1, 1)       0           convolution2d_7[0][0]            \n",
      "____________________________________________________________________________________________________\n",
      "flatten_1 (Flatten)              (None, 5)             0           activation_7[0][0]               \n",
      "____________________________________________________________________________________________________\n",
      "dense_1 (Dense)                  (None, 200)           1200        flatten_1[0][0]                  \n",
      "____________________________________________________________________________________________________\n",
      "dropout_1 (Dropout)              (None, 200)           0           dense_1[0][0]                    \n",
      "____________________________________________________________________________________________________\n",
      "activation_8 (Activation)        (None, 200)           0           dropout_1[0][0]                  \n",
      "____________________________________________________________________________________________________\n",
      "dense_2 (Dense)                  (None, 10)            2010        activation_8[0][0]               \n",
      "====================================================================================================\n",
      "Total params: 14970\n",
      "____________________________________________________________________________________________________\n",
      "None\n"
     ]
    }
   ],
   "source": [
    "# Defining model\n",
    "vgg = Sequential()\n",
    "vgg.add(Convolution2D(35, 2, 2, input_shape=input_shape, border_mode='valid'))\n",
    "vgg.add(Activation('relu'))\n",
    "#vgg.add(MaxPooling2D((2, 2), strides=(2, 2), border_mode='valid'))\n",
    "\n",
    "vgg.add(Convolution2D(30, 2, 2, border_mode='valid'))\n",
    "vgg.add(Activation('relu'))\n",
    "vgg.add(MaxPooling2D((2, 2), strides=(2, 2), border_mode='valid'))\n",
    "\n",
    "vgg.add(Convolution2D(25, 2, 2, border_mode='valid'))\n",
    "vgg.add(Activation('relu'))\n",
    "#vgg.add(MaxPooling2D((2, 2), strides=(2, 2), border_mode='valid'))\n",
    "\n",
    "vgg.add(Convolution2D(20, 2, 2, border_mode='valid'))\n",
    "vgg.add(Activation('relu'))\n",
    "vgg.add(MaxPooling2D((2, 2), strides=(2, 2), border_mode='valid'))\n",
    "\n",
    "vgg.add(Convolution2D(15, 2, 2, border_mode='valid'))\n",
    "vgg.add(Activation('relu'))\n",
    "#vgg.add(MaxPooling2D((2, 2), strides=(2, 2), border_mode='valid'))\n",
    "\n",
    "vgg.add(Convolution2D(10, 2, 2, border_mode='valid'))\n",
    "vgg.add(Activation('relu'))\n",
    "vgg.add(MaxPooling2D((2, 2), strides=(2, 2), border_mode='valid'))\n",
    "\n",
    "vgg.add(Convolution2D(5, 2, 2, border_mode='valid'))\n",
    "vgg.add(Activation('relu'))\n",
    "#vgg.add(MaxPooling2D((2, 2), strides=(2, 2), border_mode='valid'))\n",
    "\n",
    "vgg.add(Flatten())\n",
    "vgg.add(Dense(200))\n",
    "vgg.add(Dropout(0.5))\n",
    "vgg.add(Activation('relu'))\n",
    "vgg.add(Dense(nb_classes, activation='softmax'))\n",
    "\n",
    "model = vgg\n",
    "print (model.summary())"
   ]
  },
  {
   "cell_type": "code",
   "execution_count": 7,
   "metadata": {
    "collapsed": false
   },
   "outputs": [
    {
     "name": "stdout",
     "output_type": "stream",
     "text": [
      "____________________________________________________________________________________________________\n",
      "Layer (type)                     Output Shape          Param #     Connected to                     \n",
      "====================================================================================================\n",
      "convolution2d_1 (Convolution2D)  (None, 35, 31, 31)    455         convolution2d_input_1[0][0]      \n",
      "____________________________________________________________________________________________________\n",
      "activation_1 (Activation)        (None, 35, 31, 31)    0           convolution2d_1[0][0]            \n",
      "____________________________________________________________________________________________________\n",
      "convolution2d_2 (Convolution2D)  (None, 30, 30, 30)    4230        activation_1[0][0]               \n",
      "____________________________________________________________________________________________________\n",
      "activation_2 (Activation)        (None, 30, 30, 30)    0           convolution2d_2[0][0]            \n",
      "____________________________________________________________________________________________________\n",
      "maxpooling2d_1 (MaxPooling2D)    (None, 30, 15, 15)    0           activation_2[0][0]               \n",
      "____________________________________________________________________________________________________\n",
      "convolution2d_3 (Convolution2D)  (None, 25, 14, 14)    3025        maxpooling2d_1[0][0]             \n",
      "____________________________________________________________________________________________________\n",
      "activation_3 (Activation)        (None, 25, 14, 14)    0           convolution2d_3[0][0]            \n",
      "____________________________________________________________________________________________________\n",
      "convolution2d_4 (Convolution2D)  (None, 20, 13, 13)    2020        activation_3[0][0]               \n",
      "____________________________________________________________________________________________________\n",
      "activation_4 (Activation)        (None, 20, 13, 13)    0           convolution2d_4[0][0]            \n",
      "____________________________________________________________________________________________________\n",
      "maxpooling2d_2 (MaxPooling2D)    (None, 20, 6, 6)      0           activation_4[0][0]               \n",
      "____________________________________________________________________________________________________\n",
      "convolution2d_5 (Convolution2D)  (None, 15, 5, 5)      1215        maxpooling2d_2[0][0]             \n",
      "____________________________________________________________________________________________________\n",
      "activation_5 (Activation)        (None, 15, 5, 5)      0           convolution2d_5[0][0]            \n",
      "____________________________________________________________________________________________________\n",
      "convolution2d_6 (Convolution2D)  (None, 10, 4, 4)      610         activation_5[0][0]               \n",
      "____________________________________________________________________________________________________\n",
      "activation_6 (Activation)        (None, 10, 4, 4)      0           convolution2d_6[0][0]            \n",
      "____________________________________________________________________________________________________\n",
      "maxpooling2d_3 (MaxPooling2D)    (None, 10, 2, 2)      0           activation_6[0][0]               \n",
      "____________________________________________________________________________________________________\n",
      "convolution2d_7 (Convolution2D)  (None, 5, 1, 1)       205         maxpooling2d_3[0][0]             \n",
      "____________________________________________________________________________________________________\n",
      "activation_7 (Activation)        (None, 5, 1, 1)       0           convolution2d_7[0][0]            \n",
      "____________________________________________________________________________________________________\n",
      "flatten_1 (Flatten)              (None, 5)             0           activation_7[0][0]               \n",
      "____________________________________________________________________________________________________\n",
      "dense_1 (Dense)                  (None, 200)           1200        flatten_1[0][0]                  \n",
      "____________________________________________________________________________________________________\n",
      "dropout_1 (Dropout)              (None, 200)           0           dense_1[0][0]                    \n",
      "____________________________________________________________________________________________________\n",
      "activation_8 (Activation)        (None, 200)           0           dropout_1[0][0]                  \n",
      "____________________________________________________________________________________________________\n",
      "dense_2 (Dense)                  (None, 10)            2010        activation_8[0][0]               \n",
      "====================================================================================================\n",
      "Total params: 14970\n",
      "____________________________________________________________________________________________________\n",
      "None\n"
     ]
    }
   ],
   "source": [
    "# Compile model\n",
    "epochs = 25\n",
    "lrate = 0.01\n",
    "decay = lrate/epochs\n",
    "sgd = SGD(lr=lrate, momentum=0.9, decay=decay, nesterov=False)\n",
    "model.compile(loss='categorical_crossentropy', optimizer=sgd, metrics=['accuracy'])\n",
    "print(model.summary())"
   ]
  },
  {
   "cell_type": "code",
   "execution_count": 8,
   "metadata": {
    "collapsed": false
   },
   "outputs": [
    {
     "name": "stdout",
     "output_type": "stream",
     "text": [
      "2017-04-20 20:11:06.011030\n",
      "Train on 40000 samples, validate on 10000 samples\n",
      "Epoch 1/25\n",
      "40000/40000 [==============================] - 167s - loss: 2.2761 - acc: 0.1248 - val_loss: 2.1182 - val_acc: 0.1901\n",
      "Epoch 2/25\n",
      "40000/40000 [==============================] - 169s - loss: 2.0280 - acc: 0.2190 - val_loss: 1.8377 - val_acc: 0.3034\n",
      "Epoch 3/25\n",
      "40000/40000 [==============================] - 169s - loss: 1.8177 - acc: 0.3156 - val_loss: 1.7161 - val_acc: 0.3537\n",
      "Epoch 4/25\n",
      "40000/40000 [==============================] - 169s - loss: 1.6957 - acc: 0.3632 - val_loss: 1.6503 - val_acc: 0.3794\n",
      "Epoch 5/25\n",
      "40000/40000 [==============================] - 170s - loss: 1.6070 - acc: 0.3947 - val_loss: 1.5340 - val_acc: 0.4288\n",
      "Epoch 6/25\n",
      "40000/40000 [==============================] - 175s - loss: 1.5399 - acc: 0.4223 - val_loss: 1.4807 - val_acc: 0.4422\n",
      "Epoch 7/25\n",
      "40000/40000 [==============================] - 171s - loss: 1.4869 - acc: 0.4414 - val_loss: 1.4390 - val_acc: 0.4554\n",
      "Epoch 8/25\n",
      "40000/40000 [==============================] - 168s - loss: 1.4396 - acc: 0.4600 - val_loss: 1.3827 - val_acc: 0.4759\n",
      "Epoch 9/25\n",
      "40000/40000 [==============================] - 169s - loss: 1.3947 - acc: 0.4782 - val_loss: 1.3634 - val_acc: 0.4894\n",
      "Epoch 10/25\n",
      "40000/40000 [==============================] - 173s - loss: 1.3682 - acc: 0.4902 - val_loss: 1.3398 - val_acc: 0.5015\n",
      "Epoch 11/25\n",
      "40000/40000 [==============================] - 170s - loss: 1.3424 - acc: 0.5036 - val_loss: 1.3102 - val_acc: 0.5116\n",
      "Epoch 12/25\n",
      "40000/40000 [==============================] - 156s - loss: 1.3162 - acc: 0.5124 - val_loss: 1.3007 - val_acc: 0.5219\n",
      "Epoch 13/25\n",
      "40000/40000 [==============================] - 130s - loss: 1.2895 - acc: 0.5266 - val_loss: 1.2785 - val_acc: 0.5275\n",
      "Epoch 14/25\n",
      "40000/40000 [==============================] - 129s - loss: 1.2697 - acc: 0.5349 - val_loss: 1.2414 - val_acc: 0.5446\n",
      "Epoch 15/25\n",
      "40000/40000 [==============================] - 129s - loss: 1.2541 - acc: 0.5426 - val_loss: 1.2337 - val_acc: 0.5487\n",
      "Epoch 16/25\n",
      "40000/40000 [==============================] - 129s - loss: 1.2372 - acc: 0.5472 - val_loss: 1.2572 - val_acc: 0.5380\n",
      "Epoch 17/25\n",
      "40000/40000 [==============================] - 129s - loss: 1.2201 - acc: 0.5552 - val_loss: 1.2424 - val_acc: 0.5525\n",
      "Epoch 18/25\n",
      "40000/40000 [==============================] - 129s - loss: 1.2106 - acc: 0.5597 - val_loss: 1.2524 - val_acc: 0.5499\n",
      "Epoch 19/25\n",
      "40000/40000 [==============================] - 106s - loss: 1.1899 - acc: 0.5685 - val_loss: 1.2029 - val_acc: 0.5637\n",
      "Epoch 20/25\n",
      "40000/40000 [==============================] - 81s - loss: 1.1820 - acc: 0.5743 - val_loss: 1.1819 - val_acc: 0.5733\n",
      "Epoch 21/25\n",
      "40000/40000 [==============================] - 128s - loss: 1.1669 - acc: 0.5752 - val_loss: 1.1766 - val_acc: 0.5705\n",
      "Epoch 22/25\n",
      "40000/40000 [==============================] - 202s - loss: 1.1649 - acc: 0.5777 - val_loss: 1.1795 - val_acc: 0.5693\n",
      "Epoch 23/25\n",
      "40000/40000 [==============================] - 233s - loss: 1.1502 - acc: 0.5864 - val_loss: 1.1628 - val_acc: 0.5783\n",
      "Epoch 24/25\n",
      "40000/40000 [==============================] - 233s - loss: 1.1427 - acc: 0.5883 - val_loss: 1.1581 - val_acc: 0.5759\n",
      "Epoch 25/25\n",
      "40000/40000 [==============================] - 233s - loss: 1.1320 - acc: 0.5901 - val_loss: 1.1531 - val_acc: 0.5853\n",
      "2017-04-20 21:18:15.701382\n"
     ]
    }
   ],
   "source": [
    "# printing the time when the training starts\n",
    "print(datetime.datetime.now())\n",
    "\n",
    "# Fit the model\n",
    "model.fit(x_train, y_train, validation_split=0.2, nb_epoch=epochs, batch_size=32)\n",
    "\n",
    "# printing the time when the training finishes\n",
    "print(datetime.datetime.now())\n"
   ]
  },
  {
   "cell_type": "code",
   "execution_count": 9,
   "metadata": {
    "collapsed": false
   },
   "outputs": [
    {
     "name": "stdout",
     "output_type": "stream",
     "text": [
      "Accuracy: 57.34%\n"
     ]
    }
   ],
   "source": [
    "# Final evaluation of the model\n",
    "scores = model.evaluate(x_test, y_test, verbose=0)\n",
    "print(\"Accuracy: %.2f%%\" % (scores[1]*100))"
   ]
  }
 ],
 "metadata": {
  "anaconda-cloud": {},
  "kernelspec": {
   "display_name": "Python [default]",
   "language": "python",
   "name": "python3"
  },
  "language_info": {
   "codemirror_mode": {
    "name": "ipython",
    "version": 3
   },
   "file_extension": ".py",
   "mimetype": "text/x-python",
   "name": "python",
   "nbconvert_exporter": "python",
   "pygments_lexer": "ipython3",
   "version": "3.5.2"
  }
 },
 "nbformat": 4,
 "nbformat_minor": 1
}
