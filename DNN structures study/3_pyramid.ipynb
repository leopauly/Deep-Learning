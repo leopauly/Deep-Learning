{
 "cells": [
  {
   "cell_type": "code",
   "execution_count": 1,
   "metadata": {
    "collapsed": false
   },
   "outputs": [
    {
     "name": "stderr",
     "output_type": "stream",
     "text": [
      "Using TensorFlow backend.\n"
     ]
    }
   ],
   "source": [
    "# Program for learning the performance of 3 layer deep neural network pyramid strucuture\n",
    "\n",
    "import numpy\n",
    "from keras.datasets import cifar10\n",
    "from keras.models import Sequential\n",
    "from keras.layers import Dense\n",
    "from keras.layers import Dropout\n",
    "from keras.layers import Flatten\n",
    "from keras.constraints import maxnorm\n",
    "from keras.optimizers import SGD\n",
    "from keras.layers.convolutional import Convolution2D\n",
    "from keras.layers.convolutional import MaxPooling2D\n",
    "from keras.utils import np_utils\n",
    "from keras import backend as K\n",
    "from keras.datasets import cifar10\n",
    "from matplotlib import pyplot \n",
    "from scipy.misc import toimage\n",
    "import datetime\n",
    "from keras.layers import Activation, Dense\n",
    "\n",
    "K.set_image_dim_ordering('th')"
   ]
  },
  {
   "cell_type": "code",
   "execution_count": 2,
   "metadata": {
    "collapsed": true
   },
   "outputs": [],
   "source": [
    "# fix random seed for reproducibility\n",
    "seed = 7\n",
    "numpy.random.seed(seed)\n",
    "\n",
    "#dataset image parameters\n",
    "img_rows=32\n",
    "img_cols=32\n",
    "channel=3\n",
    "nb_classes=10"
   ]
  },
  {
   "cell_type": "code",
   "execution_count": 3,
   "metadata": {
    "collapsed": true
   },
   "outputs": [],
   "source": [
    "(x_train, y_train),(x_test,y_test)=cifar10.load_data()\n",
    "\n",
    "x_train = x_train.reshape(x_train.shape[0], channel,img_rows, img_cols)\n",
    "x_test = x_test.reshape(x_test.shape[0], channel,img_rows, img_cols)\n",
    "input_shape=(3,img_rows,img_cols)"
   ]
  },
  {
   "cell_type": "code",
   "execution_count": 4,
   "metadata": {
    "collapsed": true
   },
   "outputs": [],
   "source": [
    "x_test=x_test.astype('float32')\n",
    "x_train=x_train.astype('float32')\n",
    "x_test=x_test/255.\n",
    "x_train=x_train/255."
   ]
  },
  {
   "cell_type": "code",
   "execution_count": 5,
   "metadata": {
    "collapsed": true
   },
   "outputs": [],
   "source": [
    "# one hot encode outputs\n",
    "y_train = np_utils.to_categorical(y_train)\n",
    "y_test = np_utils.to_categorical(y_test)\n",
    "num_classes = y_test.shape[1]\n"
   ]
  },
  {
   "cell_type": "code",
   "execution_count": 6,
   "metadata": {
    "collapsed": false
   },
   "outputs": [
    {
     "name": "stdout",
     "output_type": "stream",
     "text": [
      "____________________________________________________________________________________________________\n",
      "Layer (type)                     Output Shape          Param #     Connected to                     \n",
      "====================================================================================================\n",
      "convolution2d_1 (Convolution2D)  (None, 20, 31, 31)    260         convolution2d_input_1[0][0]      \n",
      "____________________________________________________________________________________________________\n",
      "activation_1 (Activation)        (None, 20, 31, 31)    0           convolution2d_1[0][0]            \n",
      "____________________________________________________________________________________________________\n",
      "convolution2d_2 (Convolution2D)  (None, 40, 30, 30)    3240        activation_1[0][0]               \n",
      "____________________________________________________________________________________________________\n",
      "activation_2 (Activation)        (None, 40, 30, 30)    0           convolution2d_2[0][0]            \n",
      "____________________________________________________________________________________________________\n",
      "maxpooling2d_1 (MaxPooling2D)    (None, 40, 15, 15)    0           activation_2[0][0]               \n",
      "____________________________________________________________________________________________________\n",
      "convolution2d_3 (Convolution2D)  (None, 60, 14, 14)    9660        maxpooling2d_1[0][0]             \n",
      "____________________________________________________________________________________________________\n",
      "activation_3 (Activation)        (None, 60, 14, 14)    0           convolution2d_3[0][0]            \n",
      "____________________________________________________________________________________________________\n",
      "flatten_1 (Flatten)              (None, 11760)         0           activation_3[0][0]               \n",
      "____________________________________________________________________________________________________\n",
      "dense_1 (Dense)                  (None, 200)           2352200     flatten_1[0][0]                  \n",
      "____________________________________________________________________________________________________\n",
      "dropout_1 (Dropout)              (None, 200)           0           dense_1[0][0]                    \n",
      "____________________________________________________________________________________________________\n",
      "activation_4 (Activation)        (None, 200)           0           dropout_1[0][0]                  \n",
      "____________________________________________________________________________________________________\n",
      "dense_2 (Dense)                  (None, 10)            2010        activation_4[0][0]               \n",
      "====================================================================================================\n",
      "Total params: 2367370\n",
      "____________________________________________________________________________________________________\n",
      "None\n"
     ]
    }
   ],
   "source": [
    "# Defining model\n",
    "vgg = Sequential()\n",
    "vgg.add(Convolution2D(20, 2, 2, input_shape=input_shape, border_mode='valid'))\n",
    "vgg.add(Activation('relu'))\n",
    "#vgg.add(MaxPooling2D((2, 2), strides=(2, 2), border_mode='valid'))\n",
    "\n",
    "vgg.add(Convolution2D(40, 2, 2, border_mode='valid'))\n",
    "vgg.add(Activation('relu'))\n",
    "vgg.add(MaxPooling2D((2, 2), strides=(2, 2), border_mode='valid'))\n",
    "\n",
    "vgg.add(Convolution2D(60, 2, 2, border_mode='valid'))\n",
    "vgg.add(Activation('relu'))\n",
    "#vgg.add(MaxPooling2D((2, 2), strides=(2, 2), border_mode='valid'))\n",
    "\n",
    "vgg.add(Flatten())\n",
    "vgg.add(Dense(200))\n",
    "vgg.add(Dropout(0.5))\n",
    "vgg.add(Activation('relu'))\n",
    "vgg.add(Dense(nb_classes, activation='softmax'))\n",
    "\n",
    "model = vgg\n",
    "print (model.summary())"
   ]
  },
  {
   "cell_type": "code",
   "execution_count": 7,
   "metadata": {
    "collapsed": false
   },
   "outputs": [
    {
     "name": "stdout",
     "output_type": "stream",
     "text": [
      "____________________________________________________________________________________________________\n",
      "Layer (type)                     Output Shape          Param #     Connected to                     \n",
      "====================================================================================================\n",
      "convolution2d_1 (Convolution2D)  (None, 20, 31, 31)    260         convolution2d_input_1[0][0]      \n",
      "____________________________________________________________________________________________________\n",
      "activation_1 (Activation)        (None, 20, 31, 31)    0           convolution2d_1[0][0]            \n",
      "____________________________________________________________________________________________________\n",
      "convolution2d_2 (Convolution2D)  (None, 40, 30, 30)    3240        activation_1[0][0]               \n",
      "____________________________________________________________________________________________________\n",
      "activation_2 (Activation)        (None, 40, 30, 30)    0           convolution2d_2[0][0]            \n",
      "____________________________________________________________________________________________________\n",
      "maxpooling2d_1 (MaxPooling2D)    (None, 40, 15, 15)    0           activation_2[0][0]               \n",
      "____________________________________________________________________________________________________\n",
      "convolution2d_3 (Convolution2D)  (None, 60, 14, 14)    9660        maxpooling2d_1[0][0]             \n",
      "____________________________________________________________________________________________________\n",
      "activation_3 (Activation)        (None, 60, 14, 14)    0           convolution2d_3[0][0]            \n",
      "____________________________________________________________________________________________________\n",
      "flatten_1 (Flatten)              (None, 11760)         0           activation_3[0][0]               \n",
      "____________________________________________________________________________________________________\n",
      "dense_1 (Dense)                  (None, 200)           2352200     flatten_1[0][0]                  \n",
      "____________________________________________________________________________________________________\n",
      "dropout_1 (Dropout)              (None, 200)           0           dense_1[0][0]                    \n",
      "____________________________________________________________________________________________________\n",
      "activation_4 (Activation)        (None, 200)           0           dropout_1[0][0]                  \n",
      "____________________________________________________________________________________________________\n",
      "dense_2 (Dense)                  (None, 10)            2010        activation_4[0][0]               \n",
      "====================================================================================================\n",
      "Total params: 2367370\n",
      "____________________________________________________________________________________________________\n",
      "None\n"
     ]
    }
   ],
   "source": [
    "# Compile model\n",
    "epochs = 25\n",
    "lrate = 0.01\n",
    "decay = lrate/epochs\n",
    "sgd = SGD(lr=lrate, momentum=0.9, decay=decay, nesterov=False)\n",
    "model.compile(loss='categorical_crossentropy', optimizer=sgd, metrics=['accuracy'])\n",
    "print(model.summary())"
   ]
  },
  {
   "cell_type": "code",
   "execution_count": 8,
   "metadata": {
    "collapsed": false
   },
   "outputs": [
    {
     "name": "stdout",
     "output_type": "stream",
     "text": [
      "2017-04-20 22:12:08.428257\n",
      "Train on 40000 samples, validate on 10000 samples\n",
      "Epoch 1/25\n",
      "40000/40000 [==============================] - 178s - loss: 1.7627 - acc: 0.3550 - val_loss: 1.3911 - val_acc: 0.4919\n",
      "Epoch 2/25\n",
      "40000/40000 [==============================] - 188s - loss: 1.3735 - acc: 0.5064 - val_loss: 1.2438 - val_acc: 0.5531\n",
      "Epoch 3/25\n",
      "40000/40000 [==============================] - 188s - loss: 1.1766 - acc: 0.5850 - val_loss: 1.0713 - val_acc: 0.6224\n",
      "Epoch 4/25\n",
      "40000/40000 [==============================] - 188s - loss: 1.0316 - acc: 0.6332 - val_loss: 0.9904 - val_acc: 0.6449\n",
      "Epoch 5/25\n",
      "40000/40000 [==============================] - 188s - loss: 0.9269 - acc: 0.6715 - val_loss: 0.9578 - val_acc: 0.6690\n",
      "Epoch 6/25\n",
      "40000/40000 [==============================] - 187s - loss: 0.8420 - acc: 0.7027 - val_loss: 0.9078 - val_acc: 0.6793\n",
      "Epoch 7/25\n",
      "40000/40000 [==============================] - 188s - loss: 0.7541 - acc: 0.7314 - val_loss: 0.9007 - val_acc: 0.6870\n",
      "Epoch 8/25\n",
      "40000/40000 [==============================] - 188s - loss: 0.6781 - acc: 0.7585 - val_loss: 0.8910 - val_acc: 0.6911\n",
      "Epoch 9/25\n",
      "40000/40000 [==============================] - 188s - loss: 0.6020 - acc: 0.7865 - val_loss: 0.8966 - val_acc: 0.6949\n",
      "Epoch 10/25\n",
      "40000/40000 [==============================] - 188s - loss: 0.5312 - acc: 0.8093 - val_loss: 0.9002 - val_acc: 0.7007\n",
      "Epoch 11/25\n",
      "40000/40000 [==============================] - 188s - loss: 0.4741 - acc: 0.8311 - val_loss: 0.9219 - val_acc: 0.7106\n",
      "Epoch 12/25\n",
      "40000/40000 [==============================] - 187s - loss: 0.4160 - acc: 0.8513 - val_loss: 0.9464 - val_acc: 0.7011\n",
      "Epoch 13/25\n",
      "40000/40000 [==============================] - 188s - loss: 0.3674 - acc: 0.8698 - val_loss: 0.9782 - val_acc: 0.7102\n",
      "Epoch 14/25\n",
      "40000/40000 [==============================] - 188s - loss: 0.3309 - acc: 0.8826 - val_loss: 0.9621 - val_acc: 0.7017\n",
      "Epoch 15/25\n",
      "40000/40000 [==============================] - 188s - loss: 0.2958 - acc: 0.8952 - val_loss: 1.0437 - val_acc: 0.7044\n",
      "Epoch 16/25\n",
      "40000/40000 [==============================] - 187s - loss: 0.2600 - acc: 0.9092 - val_loss: 1.0544 - val_acc: 0.7084\n",
      "Epoch 17/25\n",
      "40000/40000 [==============================] - 188s - loss: 0.2334 - acc: 0.9185 - val_loss: 1.0801 - val_acc: 0.7079\n",
      "Epoch 18/25\n",
      "40000/40000 [==============================] - 187s - loss: 0.2097 - acc: 0.9262 - val_loss: 1.1003 - val_acc: 0.7042\n",
      "Epoch 19/25\n",
      "40000/40000 [==============================] - 188s - loss: 0.1925 - acc: 0.9318 - val_loss: 1.1445 - val_acc: 0.7098\n",
      "Epoch 20/25\n",
      "40000/40000 [==============================] - 188s - loss: 0.1718 - acc: 0.9396 - val_loss: 1.1839 - val_acc: 0.7080\n",
      "Epoch 21/25\n",
      "40000/40000 [==============================] - 187s - loss: 0.1603 - acc: 0.9439 - val_loss: 1.1930 - val_acc: 0.7078\n",
      "Epoch 22/25\n",
      "40000/40000 [==============================] - 188s - loss: 0.1476 - acc: 0.9486 - val_loss: 1.2267 - val_acc: 0.7083\n",
      "Epoch 23/25\n",
      "40000/40000 [==============================] - 188s - loss: 0.1380 - acc: 0.9521 - val_loss: 1.2421 - val_acc: 0.7058\n",
      "Epoch 24/25\n",
      "40000/40000 [==============================] - 188s - loss: 0.1238 - acc: 0.9588 - val_loss: 1.2574 - val_acc: 0.7084\n",
      "Epoch 25/25\n",
      "40000/40000 [==============================] - 187s - loss: 0.1180 - acc: 0.9600 - val_loss: 1.2750 - val_acc: 0.7093\n",
      "2017-04-20 23:30:25.195728\n"
     ]
    }
   ],
   "source": [
    "# printing the time when the training starts\n",
    "print(datetime.datetime.now())\n",
    "\n",
    "# Fit the model\n",
    "model.fit(x_train, y_train, validation_split=0.2, nb_epoch=epochs, batch_size=32)\n",
    "\n",
    "# printing the time when the training finishes\n",
    "print(datetime.datetime.now())\n"
   ]
  },
  {
   "cell_type": "code",
   "execution_count": 9,
   "metadata": {
    "collapsed": false
   },
   "outputs": [
    {
     "name": "stdout",
     "output_type": "stream",
     "text": [
      "Accuracy: 70.08%\n"
     ]
    }
   ],
   "source": [
    "# Final evaluation of the model\n",
    "scores = model.evaluate(x_test, y_test, verbose=0)\n",
    "print(\"Accuracy: %.2f%%\" % (scores[1]*100))"
   ]
  }
 ],
 "metadata": {
  "anaconda-cloud": {},
  "kernelspec": {
   "display_name": "Python [default]",
   "language": "python",
   "name": "python3"
  },
  "language_info": {
   "codemirror_mode": {
    "name": "ipython",
    "version": 3
   },
   "file_extension": ".py",
   "mimetype": "text/x-python",
   "name": "python",
   "nbconvert_exporter": "python",
   "pygments_lexer": "ipython3",
   "version": "3.5.2"
  }
 },
 "nbformat": 4,
 "nbformat_minor": 1
}
