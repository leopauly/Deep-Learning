{
 "cells": [
  {
   "cell_type": "code",
   "execution_count": 1,
   "metadata": {
    "collapsed": false
   },
   "outputs": [
    {
     "name": "stderr",
     "output_type": "stream",
     "text": [
      "Using TensorFlow backend.\n"
     ]
    }
   ],
   "source": [
    "# Program for learning the performance of 6 layer deep neural network flat strucuture\n",
    "\n",
    "import numpy\n",
    "from keras.datasets import cifar10\n",
    "from keras.models import Sequential\n",
    "from keras.layers import Dense\n",
    "from keras.layers import Dropout\n",
    "from keras.layers import Flatten\n",
    "from keras.constraints import maxnorm\n",
    "from keras.optimizers import SGD\n",
    "from keras.layers.convolutional import Convolution2D\n",
    "from keras.layers.convolutional import MaxPooling2D\n",
    "from keras.utils import np_utils\n",
    "from keras import backend as K\n",
    "from keras.datasets import cifar10\n",
    "from matplotlib import pyplot \n",
    "from scipy.misc import toimage\n",
    "import datetime\n",
    "from keras.layers import Activation, Dense\n",
    "\n",
    "K.set_image_dim_ordering('th')"
   ]
  },
  {
   "cell_type": "code",
   "execution_count": 2,
   "metadata": {
    "collapsed": true
   },
   "outputs": [],
   "source": [
    "# fix random seed for reproducibility\n",
    "seed = 7\n",
    "numpy.random.seed(seed)\n",
    "\n",
    "#dataset image parameters\n",
    "img_rows=32\n",
    "img_cols=32\n",
    "channel=3\n",
    "nb_classes=10"
   ]
  },
  {
   "cell_type": "code",
   "execution_count": 3,
   "metadata": {
    "collapsed": true
   },
   "outputs": [],
   "source": [
    "(x_train, y_train),(x_test,y_test)=cifar10.load_data()\n",
    "\n",
    "x_train = x_train.reshape(x_train.shape[0], channel,img_rows, img_cols)\n",
    "x_test = x_test.reshape(x_test.shape[0], channel,img_rows, img_cols)\n",
    "input_shape=(3,img_rows,img_cols)"
   ]
  },
  {
   "cell_type": "code",
   "execution_count": 4,
   "metadata": {
    "collapsed": true
   },
   "outputs": [],
   "source": [
    "x_test=x_test.astype('float32')\n",
    "x_train=x_train.astype('float32')\n",
    "x_test=x_test/255.\n",
    "x_train=x_train/255."
   ]
  },
  {
   "cell_type": "code",
   "execution_count": 5,
   "metadata": {
    "collapsed": true
   },
   "outputs": [],
   "source": [
    "# one hot encode outputs\n",
    "y_train = np_utils.to_categorical(y_train)\n",
    "y_test = np_utils.to_categorical(y_test)\n",
    "num_classes = y_test.shape[1]\n"
   ]
  },
  {
   "cell_type": "code",
   "execution_count": 6,
   "metadata": {
    "collapsed": false
   },
   "outputs": [
    {
     "name": "stdout",
     "output_type": "stream",
     "text": [
      "____________________________________________________________________________________________________\n",
      "Layer (type)                     Output Shape          Param #     Connected to                     \n",
      "====================================================================================================\n",
      "convolution2d_1 (Convolution2D)  (None, 20, 31, 31)    260         convolution2d_input_1[0][0]      \n",
      "____________________________________________________________________________________________________\n",
      "activation_1 (Activation)        (None, 20, 31, 31)    0           convolution2d_1[0][0]            \n",
      "____________________________________________________________________________________________________\n",
      "convolution2d_2 (Convolution2D)  (None, 20, 30, 30)    1620        activation_1[0][0]               \n",
      "____________________________________________________________________________________________________\n",
      "activation_2 (Activation)        (None, 20, 30, 30)    0           convolution2d_2[0][0]            \n",
      "____________________________________________________________________________________________________\n",
      "maxpooling2d_1 (MaxPooling2D)    (None, 20, 15, 15)    0           activation_2[0][0]               \n",
      "____________________________________________________________________________________________________\n",
      "convolution2d_3 (Convolution2D)  (None, 20, 14, 14)    1620        maxpooling2d_1[0][0]             \n",
      "____________________________________________________________________________________________________\n",
      "activation_3 (Activation)        (None, 20, 14, 14)    0           convolution2d_3[0][0]            \n",
      "____________________________________________________________________________________________________\n",
      "convolution2d_4 (Convolution2D)  (None, 20, 13, 13)    1620        activation_3[0][0]               \n",
      "____________________________________________________________________________________________________\n",
      "activation_4 (Activation)        (None, 20, 13, 13)    0           convolution2d_4[0][0]            \n",
      "____________________________________________________________________________________________________\n",
      "maxpooling2d_2 (MaxPooling2D)    (None, 20, 6, 6)      0           activation_4[0][0]               \n",
      "____________________________________________________________________________________________________\n",
      "convolution2d_5 (Convolution2D)  (None, 20, 5, 5)      1620        maxpooling2d_2[0][0]             \n",
      "____________________________________________________________________________________________________\n",
      "activation_5 (Activation)        (None, 20, 5, 5)      0           convolution2d_5[0][0]            \n",
      "____________________________________________________________________________________________________\n",
      "convolution2d_6 (Convolution2D)  (None, 20, 4, 4)      1620        activation_5[0][0]               \n",
      "____________________________________________________________________________________________________\n",
      "activation_6 (Activation)        (None, 20, 4, 4)      0           convolution2d_6[0][0]            \n",
      "____________________________________________________________________________________________________\n",
      "flatten_1 (Flatten)              (None, 320)           0           activation_6[0][0]               \n",
      "____________________________________________________________________________________________________\n",
      "dense_1 (Dense)                  (None, 200)           64200       flatten_1[0][0]                  \n",
      "____________________________________________________________________________________________________\n",
      "dropout_1 (Dropout)              (None, 200)           0           dense_1[0][0]                    \n",
      "____________________________________________________________________________________________________\n",
      "activation_7 (Activation)        (None, 200)           0           dropout_1[0][0]                  \n",
      "____________________________________________________________________________________________________\n",
      "dense_2 (Dense)                  (None, 10)            2010        activation_7[0][0]               \n",
      "====================================================================================================\n",
      "Total params: 74570\n",
      "____________________________________________________________________________________________________\n",
      "None\n"
     ]
    }
   ],
   "source": [
    "# Defining model\n",
    "vgg = Sequential()\n",
    "vgg.add(Convolution2D(20, 2, 2, input_shape=input_shape, border_mode='valid'))\n",
    "vgg.add(Activation('relu'))\n",
    "#vgg.add(MaxPooling2D((2, 2), strides=(2, 2), border_mode='valid'))\n",
    "\n",
    "vgg.add(Convolution2D(20, 2, 2, border_mode='valid'))\n",
    "vgg.add(Activation('relu'))\n",
    "vgg.add(MaxPooling2D((2, 2), strides=(2, 2), border_mode='valid'))\n",
    "\n",
    "vgg.add(Convolution2D(20, 2, 2, border_mode='valid'))\n",
    "vgg.add(Activation('relu'))\n",
    "#vgg.add(MaxPooling2D((2, 2), strides=(2, 2), border_mode='valid'))\n",
    "\n",
    "vgg.add(Convolution2D(20, 2, 2, border_mode='valid'))\n",
    "vgg.add(Activation('relu'))\n",
    "vgg.add(MaxPooling2D((2, 2), strides=(2, 2), border_mode='valid'))\n",
    "\n",
    "vgg.add(Convolution2D(20, 2, 2, border_mode='valid'))\n",
    "vgg.add(Activation('relu'))\n",
    "#vgg.add(MaxPooling2D((2, 2), strides=(2, 2), border_mode='valid'))\n",
    "\n",
    "vgg.add(Convolution2D(20, 2, 2, border_mode='valid'))\n",
    "vgg.add(Activation('relu'))\n",
    "#vgg.add(MaxPooling2D((2, 2), strides=(2, 2), border_mode='valid'))\n",
    "\n",
    "vgg.add(Flatten())\n",
    "vgg.add(Dense(200))\n",
    "vgg.add(Dropout(0.5))\n",
    "vgg.add(Activation('relu'))\n",
    "vgg.add(Dense(nb_classes, activation='softmax'))\n",
    "\n",
    "model = vgg\n",
    "print (model.summary())"
   ]
  },
  {
   "cell_type": "code",
   "execution_count": 7,
   "metadata": {
    "collapsed": false
   },
   "outputs": [
    {
     "name": "stdout",
     "output_type": "stream",
     "text": [
      "____________________________________________________________________________________________________\n",
      "Layer (type)                     Output Shape          Param #     Connected to                     \n",
      "====================================================================================================\n",
      "convolution2d_1 (Convolution2D)  (None, 20, 31, 31)    260         convolution2d_input_1[0][0]      \n",
      "____________________________________________________________________________________________________\n",
      "activation_1 (Activation)        (None, 20, 31, 31)    0           convolution2d_1[0][0]            \n",
      "____________________________________________________________________________________________________\n",
      "convolution2d_2 (Convolution2D)  (None, 20, 30, 30)    1620        activation_1[0][0]               \n",
      "____________________________________________________________________________________________________\n",
      "activation_2 (Activation)        (None, 20, 30, 30)    0           convolution2d_2[0][0]            \n",
      "____________________________________________________________________________________________________\n",
      "maxpooling2d_1 (MaxPooling2D)    (None, 20, 15, 15)    0           activation_2[0][0]               \n",
      "____________________________________________________________________________________________________\n",
      "convolution2d_3 (Convolution2D)  (None, 20, 14, 14)    1620        maxpooling2d_1[0][0]             \n",
      "____________________________________________________________________________________________________\n",
      "activation_3 (Activation)        (None, 20, 14, 14)    0           convolution2d_3[0][0]            \n",
      "____________________________________________________________________________________________________\n",
      "convolution2d_4 (Convolution2D)  (None, 20, 13, 13)    1620        activation_3[0][0]               \n",
      "____________________________________________________________________________________________________\n",
      "activation_4 (Activation)        (None, 20, 13, 13)    0           convolution2d_4[0][0]            \n",
      "____________________________________________________________________________________________________\n",
      "maxpooling2d_2 (MaxPooling2D)    (None, 20, 6, 6)      0           activation_4[0][0]               \n",
      "____________________________________________________________________________________________________\n",
      "convolution2d_5 (Convolution2D)  (None, 20, 5, 5)      1620        maxpooling2d_2[0][0]             \n",
      "____________________________________________________________________________________________________\n",
      "activation_5 (Activation)        (None, 20, 5, 5)      0           convolution2d_5[0][0]            \n",
      "____________________________________________________________________________________________________\n",
      "convolution2d_6 (Convolution2D)  (None, 20, 4, 4)      1620        activation_5[0][0]               \n",
      "____________________________________________________________________________________________________\n",
      "activation_6 (Activation)        (None, 20, 4, 4)      0           convolution2d_6[0][0]            \n",
      "____________________________________________________________________________________________________\n",
      "flatten_1 (Flatten)              (None, 320)           0           activation_6[0][0]               \n",
      "____________________________________________________________________________________________________\n",
      "dense_1 (Dense)                  (None, 200)           64200       flatten_1[0][0]                  \n",
      "____________________________________________________________________________________________________\n",
      "dropout_1 (Dropout)              (None, 200)           0           dense_1[0][0]                    \n",
      "____________________________________________________________________________________________________\n",
      "activation_7 (Activation)        (None, 200)           0           dropout_1[0][0]                  \n",
      "____________________________________________________________________________________________________\n",
      "dense_2 (Dense)                  (None, 10)            2010        activation_7[0][0]               \n",
      "====================================================================================================\n",
      "Total params: 74570\n",
      "____________________________________________________________________________________________________\n",
      "None\n"
     ]
    }
   ],
   "source": [
    "# Compile model\n",
    "epochs = 25\n",
    "lrate = 0.01\n",
    "decay = lrate/epochs\n",
    "sgd = SGD(lr=lrate, momentum=0.9, decay=decay, nesterov=False)\n",
    "model.compile(loss='categorical_crossentropy', optimizer=sgd, metrics=['accuracy'])\n",
    "print(model.summary())"
   ]
  },
  {
   "cell_type": "code",
   "execution_count": 8,
   "metadata": {
    "collapsed": false
   },
   "outputs": [
    {
     "name": "stdout",
     "output_type": "stream",
     "text": [
      "2017-04-20 19:11:16.278163\n",
      "Train on 40000 samples, validate on 10000 samples\n",
      "Epoch 1/25\n",
      "40000/40000 [==============================] - 107s - loss: 1.9711 - acc: 0.2670 - val_loss: 1.6898 - val_acc: 0.3644\n",
      "Epoch 2/25\n",
      "40000/40000 [==============================] - 124s - loss: 1.6556 - acc: 0.3899 - val_loss: 1.5106 - val_acc: 0.4455\n",
      "Epoch 3/25\n",
      "40000/40000 [==============================] - 124s - loss: 1.5022 - acc: 0.4512 - val_loss: 1.4077 - val_acc: 0.4860\n",
      "Epoch 4/25\n",
      "40000/40000 [==============================] - 124s - loss: 1.3945 - acc: 0.4915 - val_loss: 1.2751 - val_acc: 0.5394\n",
      "Epoch 5/25\n",
      "40000/40000 [==============================] - 124s - loss: 1.3282 - acc: 0.5208 - val_loss: 1.2528 - val_acc: 0.5473\n",
      "Epoch 6/25\n",
      "40000/40000 [==============================] - 124s - loss: 1.2658 - acc: 0.5461 - val_loss: 1.2025 - val_acc: 0.5645\n",
      "Epoch 7/25\n",
      "40000/40000 [==============================] - 124s - loss: 1.2252 - acc: 0.5607 - val_loss: 1.1498 - val_acc: 0.5899\n",
      "Epoch 8/25\n",
      "40000/40000 [==============================] - 123s - loss: 1.1896 - acc: 0.5729 - val_loss: 1.1561 - val_acc: 0.5870\n",
      "Epoch 9/25\n",
      "40000/40000 [==============================] - 124s - loss: 1.1544 - acc: 0.5851 - val_loss: 1.1029 - val_acc: 0.6021\n",
      "Epoch 10/25\n",
      "40000/40000 [==============================] - 124s - loss: 1.1253 - acc: 0.5962 - val_loss: 1.1104 - val_acc: 0.5991\n",
      "Epoch 11/25\n",
      "40000/40000 [==============================] - 124s - loss: 1.0997 - acc: 0.6056 - val_loss: 1.0845 - val_acc: 0.6066\n",
      "Epoch 12/25\n",
      "40000/40000 [==============================] - 124s - loss: 1.0796 - acc: 0.6131 - val_loss: 1.0776 - val_acc: 0.6112\n",
      "Epoch 13/25\n",
      "40000/40000 [==============================] - 124s - loss: 1.0586 - acc: 0.6242 - val_loss: 1.0377 - val_acc: 0.6254\n",
      "Epoch 14/25\n",
      "40000/40000 [==============================] - 124s - loss: 1.0443 - acc: 0.6288 - val_loss: 1.0351 - val_acc: 0.6308\n",
      "Epoch 15/25\n",
      "40000/40000 [==============================] - 124s - loss: 1.0326 - acc: 0.6308 - val_loss: 1.0743 - val_acc: 0.6147\n",
      "Epoch 16/25\n",
      "40000/40000 [==============================] - 124s - loss: 1.0175 - acc: 0.6340 - val_loss: 1.0373 - val_acc: 0.6250\n",
      "Epoch 17/25\n",
      "40000/40000 [==============================] - 103s - loss: 0.9987 - acc: 0.6443 - val_loss: 1.0208 - val_acc: 0.6301\n",
      "Epoch 18/25\n",
      "40000/40000 [==============================] - 98s - loss: 0.9943 - acc: 0.6438 - val_loss: 1.0196 - val_acc: 0.6371\n",
      "Epoch 19/25\n",
      "40000/40000 [==============================] - 98s - loss: 0.9821 - acc: 0.6483 - val_loss: 0.9862 - val_acc: 0.6484\n",
      "Epoch 20/25\n",
      "40000/40000 [==============================] - 98s - loss: 0.9684 - acc: 0.6529 - val_loss: 0.9823 - val_acc: 0.6509\n",
      "Epoch 21/25\n",
      "40000/40000 [==============================] - 97s - loss: 0.9584 - acc: 0.6567 - val_loss: 1.0143 - val_acc: 0.6411\n",
      "Epoch 22/25\n",
      "40000/40000 [==============================] - 98s - loss: 0.9491 - acc: 0.6613 - val_loss: 0.9966 - val_acc: 0.6424\n",
      "Epoch 23/25\n",
      "40000/40000 [==============================] - 98s - loss: 0.9462 - acc: 0.6618 - val_loss: 0.9636 - val_acc: 0.6558\n",
      "Epoch 24/25\n",
      "40000/40000 [==============================] - 98s - loss: 0.9354 - acc: 0.6655 - val_loss: 0.9864 - val_acc: 0.6493\n",
      "Epoch 25/25\n",
      "40000/40000 [==============================] - 98s - loss: 0.9260 - acc: 0.6671 - val_loss: 0.9744 - val_acc: 0.6475\n",
      "2017-04-20 19:58:56.672075\n"
     ]
    }
   ],
   "source": [
    "# printing the time when the training starts\n",
    "print(datetime.datetime.now())\n",
    "\n",
    "# Fit the model\n",
    "model.fit(x_train, y_train, validation_split=0.2, nb_epoch=epochs, batch_size=32)\n",
    "\n",
    "# printing the time when the training finishes\n",
    "print(datetime.datetime.now())\n"
   ]
  },
  {
   "cell_type": "code",
   "execution_count": 10,
   "metadata": {
    "collapsed": false
   },
   "outputs": [
    {
     "name": "stdout",
     "output_type": "stream",
     "text": [
      "10000/10000 [==============================] - 19s    \n",
      "Accuracy: 64.75%\n"
     ]
    }
   ],
   "source": [
    "# Final evaluation of the model\n",
    "scores = model.evaluate(x_test, y_test, verbose=1)\n",
    "print(\"Accuracy: %.2f%%\" % (scores[1]*100))"
   ]
  },
  {
   "cell_type": "code",
   "execution_count": null,
   "metadata": {
    "collapsed": true
   },
   "outputs": [],
   "source": []
  }
 ],
 "metadata": {
  "anaconda-cloud": {},
  "kernelspec": {
   "display_name": "Python [default]",
   "language": "python",
   "name": "python3"
  },
  "language_info": {
   "codemirror_mode": {
    "name": "ipython",
    "version": 3
   },
   "file_extension": ".py",
   "mimetype": "text/x-python",
   "name": "python",
   "nbconvert_exporter": "python",
   "pygments_lexer": "ipython3",
   "version": "3.5.2"
  }
 },
 "nbformat": 4,
 "nbformat_minor": 1
}
