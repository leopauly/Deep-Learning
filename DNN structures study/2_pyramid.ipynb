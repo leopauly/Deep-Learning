{
 "cells": [
  {
   "cell_type": "code",
   "execution_count": 1,
   "metadata": {
    "collapsed": false
   },
   "outputs": [
    {
     "name": "stderr",
     "output_type": "stream",
     "text": [
      "Using TensorFlow backend.\n"
     ]
    }
   ],
   "source": [
    "# Program for learning the performance of 2 layer deep neural network pyramid strucuture\n",
    "\n",
    "import numpy\n",
    "from keras.datasets import cifar10\n",
    "from keras.models import Sequential\n",
    "from keras.layers import Dense\n",
    "from keras.layers import Dropout\n",
    "from keras.layers import Flatten\n",
    "from keras.constraints import maxnorm\n",
    "from keras.optimizers import SGD\n",
    "from keras.layers.convolutional import Convolution2D\n",
    "from keras.layers.convolutional import MaxPooling2D\n",
    "from keras.utils import np_utils\n",
    "from keras import backend as K\n",
    "from keras.datasets import cifar10\n",
    "from matplotlib import pyplot \n",
    "from scipy.misc import toimage\n",
    "import datetime\n",
    "from keras.layers import Activation, Dense\n",
    "\n",
    "K.set_image_dim_ordering('th')"
   ]
  },
  {
   "cell_type": "code",
   "execution_count": 2,
   "metadata": {
    "collapsed": true
   },
   "outputs": [],
   "source": [
    "# fix random seed for reproducibility\n",
    "seed = 7\n",
    "numpy.random.seed(seed)\n",
    "\n",
    "#dataset image parameters\n",
    "img_rows=32\n",
    "img_cols=32\n",
    "channel=3\n",
    "nb_classes=10"
   ]
  },
  {
   "cell_type": "code",
   "execution_count": 3,
   "metadata": {
    "collapsed": true
   },
   "outputs": [],
   "source": [
    "(x_train, y_train),(x_test,y_test)=cifar10.load_data()\n",
    "\n",
    "x_train = x_train.reshape(x_train.shape[0], channel,img_rows, img_cols)\n",
    "x_test = x_test.reshape(x_test.shape[0], channel,img_rows, img_cols)\n",
    "input_shape=(3,img_rows,img_cols)"
   ]
  },
  {
   "cell_type": "code",
   "execution_count": 4,
   "metadata": {
    "collapsed": true
   },
   "outputs": [],
   "source": [
    "x_test=x_test.astype('float32')\n",
    "x_train=x_train.astype('float32')\n",
    "x_test=x_test/255.\n",
    "x_train=x_train/255."
   ]
  },
  {
   "cell_type": "code",
   "execution_count": 5,
   "metadata": {
    "collapsed": true
   },
   "outputs": [],
   "source": [
    "# one hot encode outputs\n",
    "y_train = np_utils.to_categorical(y_train)\n",
    "y_test = np_utils.to_categorical(y_test)\n",
    "num_classes = y_test.shape[1]\n"
   ]
  },
  {
   "cell_type": "code",
   "execution_count": 6,
   "metadata": {
    "collapsed": false
   },
   "outputs": [
    {
     "name": "stdout",
     "output_type": "stream",
     "text": [
      "____________________________________________________________________________________________________\n",
      "Layer (type)                     Output Shape          Param #     Connected to                     \n",
      "====================================================================================================\n",
      "convolution2d_1 (Convolution2D)  (None, 30, 31, 31)    390         convolution2d_input_1[0][0]      \n",
      "____________________________________________________________________________________________________\n",
      "activation_1 (Activation)        (None, 30, 31, 31)    0           convolution2d_1[0][0]            \n",
      "____________________________________________________________________________________________________\n",
      "convolution2d_2 (Convolution2D)  (None, 40, 30, 30)    4840        activation_1[0][0]               \n",
      "____________________________________________________________________________________________________\n",
      "activation_2 (Activation)        (None, 40, 30, 30)    0           convolution2d_2[0][0]            \n",
      "____________________________________________________________________________________________________\n",
      "maxpooling2d_1 (MaxPooling2D)    (None, 40, 15, 15)    0           activation_2[0][0]               \n",
      "____________________________________________________________________________________________________\n",
      "flatten_1 (Flatten)              (None, 9000)          0           maxpooling2d_1[0][0]             \n",
      "____________________________________________________________________________________________________\n",
      "dense_1 (Dense)                  (None, 200)           1800200     flatten_1[0][0]                  \n",
      "____________________________________________________________________________________________________\n",
      "dropout_1 (Dropout)              (None, 200)           0           dense_1[0][0]                    \n",
      "____________________________________________________________________________________________________\n",
      "activation_3 (Activation)        (None, 200)           0           dropout_1[0][0]                  \n",
      "____________________________________________________________________________________________________\n",
      "dense_2 (Dense)                  (None, 10)            2010        activation_3[0][0]               \n",
      "====================================================================================================\n",
      "Total params: 1807440\n",
      "____________________________________________________________________________________________________\n",
      "None\n"
     ]
    }
   ],
   "source": [
    "# Defining model\n",
    "vgg = Sequential()\n",
    "vgg.add(Convolution2D(30, 2, 2, input_shape=input_shape, border_mode='valid'))\n",
    "vgg.add(Activation('relu'))\n",
    "#vgg.add(MaxPooling2D((2, 2), strides=(2, 2), border_mode='valid'))\n",
    "\n",
    "vgg.add(Convolution2D(40, 2, 2, border_mode='valid'))\n",
    "vgg.add(Activation('relu'))\n",
    "vgg.add(MaxPooling2D((2, 2), strides=(2, 2), border_mode='valid'))\n",
    "\n",
    "vgg.add(Flatten())\n",
    "vgg.add(Dense(200))\n",
    "vgg.add(Dropout(0.5))\n",
    "vgg.add(Activation('relu'))\n",
    "vgg.add(Dense(nb_classes, activation='softmax'))\n",
    "\n",
    "model = vgg\n",
    "print (model.summary())"
   ]
  },
  {
   "cell_type": "code",
   "execution_count": 7,
   "metadata": {
    "collapsed": false
   },
   "outputs": [
    {
     "name": "stdout",
     "output_type": "stream",
     "text": [
      "____________________________________________________________________________________________________\n",
      "Layer (type)                     Output Shape          Param #     Connected to                     \n",
      "====================================================================================================\n",
      "convolution2d_1 (Convolution2D)  (None, 30, 31, 31)    390         convolution2d_input_1[0][0]      \n",
      "____________________________________________________________________________________________________\n",
      "activation_1 (Activation)        (None, 30, 31, 31)    0           convolution2d_1[0][0]            \n",
      "____________________________________________________________________________________________________\n",
      "convolution2d_2 (Convolution2D)  (None, 40, 30, 30)    4840        activation_1[0][0]               \n",
      "____________________________________________________________________________________________________\n",
      "activation_2 (Activation)        (None, 40, 30, 30)    0           convolution2d_2[0][0]            \n",
      "____________________________________________________________________________________________________\n",
      "maxpooling2d_1 (MaxPooling2D)    (None, 40, 15, 15)    0           activation_2[0][0]               \n",
      "____________________________________________________________________________________________________\n",
      "flatten_1 (Flatten)              (None, 9000)          0           maxpooling2d_1[0][0]             \n",
      "____________________________________________________________________________________________________\n",
      "dense_1 (Dense)                  (None, 200)           1800200     flatten_1[0][0]                  \n",
      "____________________________________________________________________________________________________\n",
      "dropout_1 (Dropout)              (None, 200)           0           dense_1[0][0]                    \n",
      "____________________________________________________________________________________________________\n",
      "activation_3 (Activation)        (None, 200)           0           dropout_1[0][0]                  \n",
      "____________________________________________________________________________________________________\n",
      "dense_2 (Dense)                  (None, 10)            2010        activation_3[0][0]               \n",
      "====================================================================================================\n",
      "Total params: 1807440\n",
      "____________________________________________________________________________________________________\n",
      "None\n"
     ]
    }
   ],
   "source": [
    "# Compile model\n",
    "epochs = 25\n",
    "lrate = 0.01\n",
    "decay = lrate/epochs\n",
    "sgd = SGD(lr=lrate, momentum=0.9, decay=decay, nesterov=False)\n",
    "model.compile(loss='categorical_crossentropy', optimizer=sgd, metrics=['accuracy'])\n",
    "print(model.summary())"
   ]
  },
  {
   "cell_type": "code",
   "execution_count": 8,
   "metadata": {
    "collapsed": false
   },
   "outputs": [
    {
     "name": "stdout",
     "output_type": "stream",
     "text": [
      "2017-04-21 08:10:39.742392\n",
      "Train on 40000 samples, validate on 10000 samples\n",
      "Epoch 1/25\n",
      "40000/40000 [==============================] - 76s - loss: 1.7591 - acc: 0.3616 - val_loss: 1.4122 - val_acc: 0.4904\n",
      "Epoch 2/25\n",
      "40000/40000 [==============================] - 145s - loss: 1.3700 - acc: 0.5072 - val_loss: 1.2209 - val_acc: 0.5688\n",
      "Epoch 3/25\n",
      "40000/40000 [==============================] - 173s - loss: 1.1922 - acc: 0.5780 - val_loss: 1.1088 - val_acc: 0.6071\n",
      "Epoch 4/25\n",
      "40000/40000 [==============================] - 173s - loss: 1.0717 - acc: 0.6189 - val_loss: 1.0463 - val_acc: 0.6321\n",
      "Epoch 5/25\n",
      "40000/40000 [==============================] - 173s - loss: 0.9743 - acc: 0.6530 - val_loss: 0.9731 - val_acc: 0.6573\n",
      "Epoch 6/25\n",
      "40000/40000 [==============================] - 174s - loss: 0.9031 - acc: 0.6795 - val_loss: 0.9492 - val_acc: 0.6661\n",
      "Epoch 7/25\n",
      "40000/40000 [==============================] - 173s - loss: 0.8254 - acc: 0.7067 - val_loss: 0.9454 - val_acc: 0.6687\n",
      "Epoch 8/25\n",
      "40000/40000 [==============================] - 172s - loss: 0.7661 - acc: 0.7302 - val_loss: 0.9251 - val_acc: 0.6807\n",
      "Epoch 9/25\n",
      "40000/40000 [==============================] - 172s - loss: 0.7123 - acc: 0.7489 - val_loss: 0.9221 - val_acc: 0.6878\n",
      "Epoch 10/25\n",
      "40000/40000 [==============================] - 172s - loss: 0.6583 - acc: 0.7672 - val_loss: 0.9201 - val_acc: 0.6860\n",
      "Epoch 11/25\n",
      "40000/40000 [==============================] - 172s - loss: 0.6161 - acc: 0.7816 - val_loss: 0.9207 - val_acc: 0.6911\n",
      "Epoch 12/25\n",
      "40000/40000 [==============================] - 173s - loss: 0.5663 - acc: 0.7997 - val_loss: 0.9359 - val_acc: 0.6921\n",
      "Epoch 13/25\n",
      "40000/40000 [==============================] - 173s - loss: 0.5303 - acc: 0.8108 - val_loss: 0.9372 - val_acc: 0.6927\n",
      "Epoch 14/25\n",
      "40000/40000 [==============================] - 172s - loss: 0.4942 - acc: 0.8254 - val_loss: 0.9334 - val_acc: 0.6972\n",
      "Epoch 15/25\n",
      "40000/40000 [==============================] - 172s - loss: 0.4620 - acc: 0.8386 - val_loss: 0.9731 - val_acc: 0.6916\n",
      "Epoch 16/25\n",
      "40000/40000 [==============================] - 173s - loss: 0.4264 - acc: 0.8496 - val_loss: 0.9602 - val_acc: 0.6939\n",
      "Epoch 17/25\n",
      "40000/40000 [==============================] - 173s - loss: 0.4002 - acc: 0.8587 - val_loss: 0.9790 - val_acc: 0.6964\n",
      "Epoch 18/25\n",
      "40000/40000 [==============================] - 173s - loss: 0.3844 - acc: 0.8640 - val_loss: 0.9957 - val_acc: 0.7016\n",
      "Epoch 19/25\n",
      "40000/40000 [==============================] - 172s - loss: 0.3537 - acc: 0.8755 - val_loss: 1.0040 - val_acc: 0.6973\n",
      "Epoch 20/25\n",
      "40000/40000 [==============================] - 178s - loss: 0.3250 - acc: 0.8869 - val_loss: 1.0332 - val_acc: 0.6986\n",
      "Epoch 21/25\n",
      "40000/40000 [==============================] - 179s - loss: 0.3156 - acc: 0.8898 - val_loss: 1.0381 - val_acc: 0.6950\n",
      "Epoch 22/25\n",
      "40000/40000 [==============================] - 179s - loss: 0.2945 - acc: 0.8970 - val_loss: 1.0585 - val_acc: 0.6976\n",
      "Epoch 23/25\n",
      "40000/40000 [==============================] - 179s - loss: 0.2826 - acc: 0.9001 - val_loss: 1.0591 - val_acc: 0.7008\n",
      "Epoch 24/25\n",
      "40000/40000 [==============================] - 179s - loss: 0.2675 - acc: 0.9062 - val_loss: 1.0872 - val_acc: 0.6973\n",
      "Epoch 25/25\n",
      "40000/40000 [==============================] - 179s - loss: 0.2514 - acc: 0.9117 - val_loss: 1.0910 - val_acc: 0.6987\n",
      "2017-04-21 09:21:20.589059\n"
     ]
    }
   ],
   "source": [
    "# printing the time when the training starts\n",
    "print(datetime.datetime.now())\n",
    "\n",
    "# Fit the model\n",
    "model.fit(x_train, y_train, validation_split=0.2, nb_epoch=epochs, batch_size=32)\n",
    "\n",
    "# printing the time when the training finishes\n",
    "print(datetime.datetime.now())\n"
   ]
  },
  {
   "cell_type": "code",
   "execution_count": 9,
   "metadata": {
    "collapsed": false
   },
   "outputs": [
    {
     "name": "stdout",
     "output_type": "stream",
     "text": [
      "Accuracy: 69.01%\n"
     ]
    }
   ],
   "source": [
    "# Final evaluation of the model\n",
    "scores = model.evaluate(x_test, y_test, verbose=0)\n",
    "print(\"Accuracy: %.2f%%\" % (scores[1]*100))"
   ]
  }
 ],
 "metadata": {
  "anaconda-cloud": {},
  "kernelspec": {
   "display_name": "Python [default]",
   "language": "python",
   "name": "python3"
  },
  "language_info": {
   "codemirror_mode": {
    "name": "ipython",
    "version": 3
   },
   "file_extension": ".py",
   "mimetype": "text/x-python",
   "name": "python",
   "nbconvert_exporter": "python",
   "pygments_lexer": "ipython3",
   "version": "3.5.2"
  }
 },
 "nbformat": 4,
 "nbformat_minor": 1
}
