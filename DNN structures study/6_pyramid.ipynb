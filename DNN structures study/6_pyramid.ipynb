{
 "cells": [
  {
   "cell_type": "code",
   "execution_count": 1,
   "metadata": {
    "collapsed": false
   },
   "outputs": [
    {
     "name": "stderr",
     "output_type": "stream",
     "text": [
      "Using TensorFlow backend.\n"
     ]
    }
   ],
   "source": [
    "# Program for learning the performance of 6 layer deep neural network pyramid strucuture\n",
    "\n",
    "import numpy\n",
    "from keras.datasets import cifar10\n",
    "from keras.models import Sequential\n",
    "from keras.layers import Dense\n",
    "from keras.layers import Dropout\n",
    "from keras.layers import Flatten\n",
    "from keras.constraints import maxnorm\n",
    "from keras.optimizers import SGD\n",
    "from keras.layers.convolutional import Convolution2D\n",
    "from keras.layers.convolutional import MaxPooling2D\n",
    "from keras.utils import np_utils\n",
    "from keras import backend as K\n",
    "from keras.datasets import cifar10\n",
    "from matplotlib import pyplot \n",
    "from scipy.misc import toimage\n",
    "import datetime\n",
    "from keras.layers import Activation, Dense\n",
    "\n",
    "K.set_image_dim_ordering('th')"
   ]
  },
  {
   "cell_type": "code",
   "execution_count": 2,
   "metadata": {
    "collapsed": true
   },
   "outputs": [],
   "source": [
    "# fix random seed for reproducibility\n",
    "seed = 7\n",
    "numpy.random.seed(seed)\n",
    "\n",
    "#dataset image parameters\n",
    "img_rows=32\n",
    "img_cols=32\n",
    "channel=3\n",
    "nb_classes=10"
   ]
  },
  {
   "cell_type": "code",
   "execution_count": 3,
   "metadata": {
    "collapsed": true
   },
   "outputs": [],
   "source": [
    "(x_train, y_train),(x_test,y_test)=cifar10.load_data()\n",
    "\n",
    "x_train = x_train.reshape(x_train.shape[0], channel,img_rows, img_cols)\n",
    "x_test = x_test.reshape(x_test.shape[0], channel,img_rows, img_cols)\n",
    "input_shape=(3,img_rows,img_cols)"
   ]
  },
  {
   "cell_type": "code",
   "execution_count": 4,
   "metadata": {
    "collapsed": true
   },
   "outputs": [],
   "source": [
    "x_test=x_test.astype('float32')\n",
    "x_train=x_train.astype('float32')\n",
    "x_test=x_test/255.\n",
    "x_train=x_train/255."
   ]
  },
  {
   "cell_type": "code",
   "execution_count": 5,
   "metadata": {
    "collapsed": true
   },
   "outputs": [],
   "source": [
    "# one hot encode outputs\n",
    "y_train = np_utils.to_categorical(y_train)\n",
    "y_test = np_utils.to_categorical(y_test)\n",
    "num_classes = y_test.shape[1]\n"
   ]
  },
  {
   "cell_type": "code",
   "execution_count": 6,
   "metadata": {
    "collapsed": false
   },
   "outputs": [
    {
     "name": "stdout",
     "output_type": "stream",
     "text": [
      "____________________________________________________________________________________________________\n",
      "Layer (type)                     Output Shape          Param #     Connected to                     \n",
      "====================================================================================================\n",
      "convolution2d_1 (Convolution2D)  (None, 5, 31, 31)     65          convolution2d_input_1[0][0]      \n",
      "____________________________________________________________________________________________________\n",
      "activation_1 (Activation)        (None, 5, 31, 31)     0           convolution2d_1[0][0]            \n",
      "____________________________________________________________________________________________________\n",
      "convolution2d_2 (Convolution2D)  (None, 10, 30, 30)    210         activation_1[0][0]               \n",
      "____________________________________________________________________________________________________\n",
      "activation_2 (Activation)        (None, 10, 30, 30)    0           convolution2d_2[0][0]            \n",
      "____________________________________________________________________________________________________\n",
      "maxpooling2d_1 (MaxPooling2D)    (None, 10, 15, 15)    0           activation_2[0][0]               \n",
      "____________________________________________________________________________________________________\n",
      "convolution2d_3 (Convolution2D)  (None, 15, 14, 14)    615         maxpooling2d_1[0][0]             \n",
      "____________________________________________________________________________________________________\n",
      "activation_3 (Activation)        (None, 15, 14, 14)    0           convolution2d_3[0][0]            \n",
      "____________________________________________________________________________________________________\n",
      "convolution2d_4 (Convolution2D)  (None, 20, 13, 13)    1220        activation_3[0][0]               \n",
      "____________________________________________________________________________________________________\n",
      "activation_4 (Activation)        (None, 20, 13, 13)    0           convolution2d_4[0][0]            \n",
      "____________________________________________________________________________________________________\n",
      "maxpooling2d_2 (MaxPooling2D)    (None, 20, 6, 6)      0           activation_4[0][0]               \n",
      "____________________________________________________________________________________________________\n",
      "convolution2d_5 (Convolution2D)  (None, 30, 5, 5)      2430        maxpooling2d_2[0][0]             \n",
      "____________________________________________________________________________________________________\n",
      "activation_5 (Activation)        (None, 30, 5, 5)      0           convolution2d_5[0][0]            \n",
      "____________________________________________________________________________________________________\n",
      "convolution2d_6 (Convolution2D)  (None, 40, 4, 4)      4840        activation_5[0][0]               \n",
      "____________________________________________________________________________________________________\n",
      "activation_6 (Activation)        (None, 40, 4, 4)      0           convolution2d_6[0][0]            \n",
      "____________________________________________________________________________________________________\n",
      "flatten_1 (Flatten)              (None, 640)           0           activation_6[0][0]               \n",
      "____________________________________________________________________________________________________\n",
      "dense_1 (Dense)                  (None, 200)           128200      flatten_1[0][0]                  \n",
      "____________________________________________________________________________________________________\n",
      "dropout_1 (Dropout)              (None, 200)           0           dense_1[0][0]                    \n",
      "____________________________________________________________________________________________________\n",
      "activation_7 (Activation)        (None, 200)           0           dropout_1[0][0]                  \n",
      "____________________________________________________________________________________________________\n",
      "dense_2 (Dense)                  (None, 10)            2010        activation_7[0][0]               \n",
      "====================================================================================================\n",
      "Total params: 139590\n",
      "____________________________________________________________________________________________________\n",
      "None\n"
     ]
    }
   ],
   "source": [
    "# Defining model\n",
    "vgg = Sequential()\n",
    "vgg.add(Convolution2D(5, 2, 2, input_shape=input_shape, border_mode='valid'))\n",
    "vgg.add(Activation('relu'))\n",
    "#vgg.add(MaxPooling2D((2, 2), strides=(2, 2), border_mode='valid'))\n",
    "\n",
    "vgg.add(Convolution2D(10, 2, 2, border_mode='valid'))\n",
    "vgg.add(Activation('relu'))\n",
    "vgg.add(MaxPooling2D((2, 2), strides=(2, 2), border_mode='valid'))\n",
    "\n",
    "vgg.add(Convolution2D(15, 2, 2, border_mode='valid'))\n",
    "vgg.add(Activation('relu'))\n",
    "#vgg.add(MaxPooling2D((2, 2), strides=(2, 2), border_mode='valid'))\n",
    "\n",
    "vgg.add(Convolution2D(20, 2, 2, border_mode='valid'))\n",
    "vgg.add(Activation('relu'))\n",
    "vgg.add(MaxPooling2D((2, 2), strides=(2, 2), border_mode='valid'))\n",
    "\n",
    "vgg.add(Convolution2D(30, 2, 2, border_mode='valid'))\n",
    "vgg.add(Activation('relu'))\n",
    "#vgg.add(MaxPooling2D((2, 2), strides=(2, 2), border_mode='valid'))\n",
    "\n",
    "vgg.add(Convolution2D(40, 2, 2, border_mode='valid'))\n",
    "vgg.add(Activation('relu'))\n",
    "#vgg.add(MaxPooling2D((2, 2), strides=(2, 2), border_mode='valid'))\n",
    "\n",
    "vgg.add(Flatten())\n",
    "vgg.add(Dense(200))\n",
    "vgg.add(Dropout(0.5))\n",
    "vgg.add(Activation('relu'))\n",
    "vgg.add(Dense(nb_classes, activation='softmax'))\n",
    "\n",
    "model = vgg\n",
    "print (model.summary())"
   ]
  },
  {
   "cell_type": "code",
   "execution_count": 7,
   "metadata": {
    "collapsed": false
   },
   "outputs": [
    {
     "name": "stdout",
     "output_type": "stream",
     "text": [
      "____________________________________________________________________________________________________\n",
      "Layer (type)                     Output Shape          Param #     Connected to                     \n",
      "====================================================================================================\n",
      "convolution2d_1 (Convolution2D)  (None, 5, 31, 31)     65          convolution2d_input_1[0][0]      \n",
      "____________________________________________________________________________________________________\n",
      "activation_1 (Activation)        (None, 5, 31, 31)     0           convolution2d_1[0][0]            \n",
      "____________________________________________________________________________________________________\n",
      "convolution2d_2 (Convolution2D)  (None, 10, 30, 30)    210         activation_1[0][0]               \n",
      "____________________________________________________________________________________________________\n",
      "activation_2 (Activation)        (None, 10, 30, 30)    0           convolution2d_2[0][0]            \n",
      "____________________________________________________________________________________________________\n",
      "maxpooling2d_1 (MaxPooling2D)    (None, 10, 15, 15)    0           activation_2[0][0]               \n",
      "____________________________________________________________________________________________________\n",
      "convolution2d_3 (Convolution2D)  (None, 15, 14, 14)    615         maxpooling2d_1[0][0]             \n",
      "____________________________________________________________________________________________________\n",
      "activation_3 (Activation)        (None, 15, 14, 14)    0           convolution2d_3[0][0]            \n",
      "____________________________________________________________________________________________________\n",
      "convolution2d_4 (Convolution2D)  (None, 20, 13, 13)    1220        activation_3[0][0]               \n",
      "____________________________________________________________________________________________________\n",
      "activation_4 (Activation)        (None, 20, 13, 13)    0           convolution2d_4[0][0]            \n",
      "____________________________________________________________________________________________________\n",
      "maxpooling2d_2 (MaxPooling2D)    (None, 20, 6, 6)      0           activation_4[0][0]               \n",
      "____________________________________________________________________________________________________\n",
      "convolution2d_5 (Convolution2D)  (None, 30, 5, 5)      2430        maxpooling2d_2[0][0]             \n",
      "____________________________________________________________________________________________________\n",
      "activation_5 (Activation)        (None, 30, 5, 5)      0           convolution2d_5[0][0]            \n",
      "____________________________________________________________________________________________________\n",
      "convolution2d_6 (Convolution2D)  (None, 40, 4, 4)      4840        activation_5[0][0]               \n",
      "____________________________________________________________________________________________________\n",
      "activation_6 (Activation)        (None, 40, 4, 4)      0           convolution2d_6[0][0]            \n",
      "____________________________________________________________________________________________________\n",
      "flatten_1 (Flatten)              (None, 640)           0           activation_6[0][0]               \n",
      "____________________________________________________________________________________________________\n",
      "dense_1 (Dense)                  (None, 200)           128200      flatten_1[0][0]                  \n",
      "____________________________________________________________________________________________________\n",
      "dropout_1 (Dropout)              (None, 200)           0           dense_1[0][0]                    \n",
      "____________________________________________________________________________________________________\n",
      "activation_7 (Activation)        (None, 200)           0           dropout_1[0][0]                  \n",
      "____________________________________________________________________________________________________\n",
      "dense_2 (Dense)                  (None, 10)            2010        activation_7[0][0]               \n",
      "====================================================================================================\n",
      "Total params: 139590\n",
      "____________________________________________________________________________________________________\n",
      "None\n"
     ]
    }
   ],
   "source": [
    "# Compile model\n",
    "epochs = 25\n",
    "lrate = 0.01\n",
    "decay = lrate/epochs\n",
    "sgd = SGD(lr=lrate, momentum=0.9, decay=decay, nesterov=False)\n",
    "model.compile(loss='categorical_crossentropy', optimizer=sgd, metrics=['accuracy'])\n",
    "print(model.summary())"
   ]
  },
  {
   "cell_type": "code",
   "execution_count": 8,
   "metadata": {
    "collapsed": false
   },
   "outputs": [
    {
     "name": "stdout",
     "output_type": "stream",
     "text": [
      "2017-04-20 19:11:41.756472\n",
      "Train on 40000 samples, validate on 10000 samples\n",
      "Epoch 1/25\n",
      "40000/40000 [==============================] - 79s - loss: 2.0950 - acc: 0.2090 - val_loss: 1.6790 - val_acc: 0.3738\n",
      "Epoch 2/25\n",
      "40000/40000 [==============================] - 78s - loss: 1.6449 - acc: 0.3987 - val_loss: 1.4814 - val_acc: 0.4573\n",
      "Epoch 3/25\n",
      "40000/40000 [==============================] - 78s - loss: 1.4806 - acc: 0.4652 - val_loss: 1.3525 - val_acc: 0.5123\n",
      "Epoch 4/25\n",
      "40000/40000 [==============================] - 78s - loss: 1.3751 - acc: 0.5058 - val_loss: 1.2658 - val_acc: 0.5434\n",
      "Epoch 5/25\n",
      "40000/40000 [==============================] - 78s - loss: 1.3044 - acc: 0.5342 - val_loss: 1.3342 - val_acc: 0.5343\n",
      "Epoch 6/25\n",
      "40000/40000 [==============================] - 78s - loss: 1.2424 - acc: 0.5558 - val_loss: 1.1841 - val_acc: 0.5781\n",
      "Epoch 7/25\n",
      "40000/40000 [==============================] - 78s - loss: 1.1984 - acc: 0.5752 - val_loss: 1.1360 - val_acc: 0.5931\n",
      "Epoch 8/25\n",
      "40000/40000 [==============================] - 78s - loss: 1.1531 - acc: 0.5913 - val_loss: 1.1115 - val_acc: 0.5993\n",
      "Epoch 9/25\n",
      "40000/40000 [==============================] - 78s - loss: 1.1173 - acc: 0.6010 - val_loss: 1.1018 - val_acc: 0.6027\n",
      "Epoch 10/25\n",
      "40000/40000 [==============================] - 78s - loss: 1.0897 - acc: 0.6146 - val_loss: 1.0709 - val_acc: 0.6165\n",
      "Epoch 11/25\n",
      "40000/40000 [==============================] - 78s - loss: 1.0583 - acc: 0.6257 - val_loss: 1.0907 - val_acc: 0.6118\n",
      "Epoch 12/25\n",
      "40000/40000 [==============================] - 78s - loss: 1.0368 - acc: 0.6333 - val_loss: 1.0376 - val_acc: 0.6299\n",
      "Epoch 13/25\n",
      "40000/40000 [==============================] - 78s - loss: 1.0128 - acc: 0.6405 - val_loss: 1.0241 - val_acc: 0.6344\n",
      "Epoch 14/25\n",
      "40000/40000 [==============================] - 78s - loss: 0.9957 - acc: 0.6460 - val_loss: 1.0162 - val_acc: 0.6368\n",
      "Epoch 15/25\n",
      "40000/40000 [==============================] - 78s - loss: 0.9751 - acc: 0.6543 - val_loss: 1.0210 - val_acc: 0.6394\n",
      "Epoch 16/25\n",
      "40000/40000 [==============================] - 78s - loss: 0.9637 - acc: 0.6568 - val_loss: 1.0273 - val_acc: 0.6347\n",
      "Epoch 17/25\n",
      "40000/40000 [==============================] - 78s - loss: 0.9424 - acc: 0.6639 - val_loss: 0.9993 - val_acc: 0.6446\n",
      "Epoch 18/25\n",
      "40000/40000 [==============================] - 78s - loss: 0.9308 - acc: 0.6697 - val_loss: 1.0011 - val_acc: 0.6490\n",
      "Epoch 19/25\n",
      "40000/40000 [==============================] - 78s - loss: 0.9187 - acc: 0.6727 - val_loss: 0.9776 - val_acc: 0.6586\n",
      "Epoch 20/25\n",
      "40000/40000 [==============================] - 77s - loss: 0.9056 - acc: 0.6761 - val_loss: 0.9790 - val_acc: 0.6530\n",
      "Epoch 21/25\n",
      "40000/40000 [==============================] - 78s - loss: 0.8955 - acc: 0.6817 - val_loss: 0.9927 - val_acc: 0.6523\n",
      "Epoch 22/25\n",
      "40000/40000 [==============================] - 79s - loss: 0.8740 - acc: 0.6904 - val_loss: 0.9760 - val_acc: 0.6541\n",
      "Epoch 23/25\n",
      "40000/40000 [==============================] - 78s - loss: 0.8635 - acc: 0.6904 - val_loss: 0.9651 - val_acc: 0.6582\n",
      "Epoch 24/25\n",
      "40000/40000 [==============================] - 78s - loss: 0.8597 - acc: 0.6949 - val_loss: 0.9685 - val_acc: 0.6570\n",
      "Epoch 25/25\n",
      "40000/40000 [==============================] - 78s - loss: 0.8417 - acc: 0.6998 - val_loss: 0.9778 - val_acc: 0.6573\n",
      "2017-04-20 19:44:25.550613\n"
     ]
    }
   ],
   "source": [
    "# printing the time when the training starts\n",
    "print(datetime.datetime.now())\n",
    "\n",
    "# Fit the model\n",
    "model.fit(x_train, y_train, validation_split=0.2, nb_epoch=epochs, batch_size=32)\n",
    "\n",
    "# printing the time when the training finishes\n",
    "print(datetime.datetime.now())\n"
   ]
  },
  {
   "cell_type": "code",
   "execution_count": 9,
   "metadata": {
    "collapsed": false
   },
   "outputs": [
    {
     "name": "stdout",
     "output_type": "stream",
     "text": [
      "Accuracy: 64.90%\n"
     ]
    }
   ],
   "source": [
    "# Final evaluation of the model\n",
    "scores = model.evaluate(x_test, y_test, verbose=0)\n",
    "print(\"Accuracy: %.2f%%\" % (scores[1]*100))"
   ]
  }
 ],
 "metadata": {
  "anaconda-cloud": {},
  "kernelspec": {
   "display_name": "Python [default]",
   "language": "python",
   "name": "python3"
  },
  "language_info": {
   "codemirror_mode": {
    "name": "ipython",
    "version": 3
   },
   "file_extension": ".py",
   "mimetype": "text/x-python",
   "name": "python",
   "nbconvert_exporter": "python",
   "pygments_lexer": "ipython3",
   "version": "3.5.2"
  }
 },
 "nbformat": 4,
 "nbformat_minor": 1
}
