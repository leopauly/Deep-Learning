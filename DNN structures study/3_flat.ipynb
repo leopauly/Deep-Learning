{
 "cells": [
  {
   "cell_type": "code",
   "execution_count": 1,
   "metadata": {
    "collapsed": false
   },
   "outputs": [
    {
     "name": "stderr",
     "output_type": "stream",
     "text": [
      "Using TensorFlow backend.\n"
     ]
    }
   ],
   "source": [
    "# Program for learning the performance of 5 layer deep neural network flat strucuture\n",
    "\n",
    "import numpy\n",
    "from keras.datasets import cifar10\n",
    "from keras.models import Sequential\n",
    "from keras.layers import Dense\n",
    "from keras.layers import Dropout\n",
    "from keras.layers import Flatten\n",
    "from keras.constraints import maxnorm\n",
    "from keras.optimizers import SGD\n",
    "from keras.layers.convolutional import Convolution2D\n",
    "from keras.layers.convolutional import MaxPooling2D\n",
    "from keras.utils import np_utils\n",
    "from keras import backend as K\n",
    "from keras.datasets import cifar10\n",
    "from matplotlib import pyplot \n",
    "from scipy.misc import toimage\n",
    "import datetime\n",
    "from keras.layers import Activation, Dense\n",
    "\n",
    "K.set_image_dim_ordering('th')"
   ]
  },
  {
   "cell_type": "code",
   "execution_count": 2,
   "metadata": {
    "collapsed": true
   },
   "outputs": [],
   "source": [
    "# fix random seed for reproducibility\n",
    "seed = 7\n",
    "numpy.random.seed(seed)\n",
    "\n",
    "#dataset image parameters\n",
    "img_rows=32\n",
    "img_cols=32\n",
    "channel=3\n",
    "nb_classes=10"
   ]
  },
  {
   "cell_type": "code",
   "execution_count": 3,
   "metadata": {
    "collapsed": true
   },
   "outputs": [],
   "source": [
    "(x_train, y_train),(x_test,y_test)=cifar10.load_data()\n",
    "\n",
    "x_train = x_train.reshape(x_train.shape[0], channel,img_rows, img_cols)\n",
    "x_test = x_test.reshape(x_test.shape[0], channel,img_rows, img_cols)\n",
    "input_shape=(3,img_rows,img_cols)"
   ]
  },
  {
   "cell_type": "code",
   "execution_count": 4,
   "metadata": {
    "collapsed": true
   },
   "outputs": [],
   "source": [
    "x_test=x_test.astype('float32')\n",
    "x_train=x_train.astype('float32')\n",
    "x_test=x_test/255.\n",
    "x_train=x_train/255."
   ]
  },
  {
   "cell_type": "code",
   "execution_count": 5,
   "metadata": {
    "collapsed": true
   },
   "outputs": [],
   "source": [
    "# one hot encode outputs\n",
    "y_train = np_utils.to_categorical(y_train)\n",
    "y_test = np_utils.to_categorical(y_test)\n",
    "num_classes = y_test.shape[1]\n"
   ]
  },
  {
   "cell_type": "code",
   "execution_count": 6,
   "metadata": {
    "collapsed": false
   },
   "outputs": [
    {
     "name": "stdout",
     "output_type": "stream",
     "text": [
      "____________________________________________________________________________________________________\n",
      "Layer (type)                     Output Shape          Param #     Connected to                     \n",
      "====================================================================================================\n",
      "convolution2d_1 (Convolution2D)  (None, 40, 31, 31)    520         convolution2d_input_1[0][0]      \n",
      "____________________________________________________________________________________________________\n",
      "activation_1 (Activation)        (None, 40, 31, 31)    0           convolution2d_1[0][0]            \n",
      "____________________________________________________________________________________________________\n",
      "convolution2d_2 (Convolution2D)  (None, 40, 30, 30)    6440        activation_1[0][0]               \n",
      "____________________________________________________________________________________________________\n",
      "activation_2 (Activation)        (None, 40, 30, 30)    0           convolution2d_2[0][0]            \n",
      "____________________________________________________________________________________________________\n",
      "maxpooling2d_1 (MaxPooling2D)    (None, 40, 15, 15)    0           activation_2[0][0]               \n",
      "____________________________________________________________________________________________________\n",
      "convolution2d_3 (Convolution2D)  (None, 40, 14, 14)    6440        maxpooling2d_1[0][0]             \n",
      "____________________________________________________________________________________________________\n",
      "activation_3 (Activation)        (None, 40, 14, 14)    0           convolution2d_3[0][0]            \n",
      "____________________________________________________________________________________________________\n",
      "flatten_1 (Flatten)              (None, 7840)          0           activation_3[0][0]               \n",
      "____________________________________________________________________________________________________\n",
      "dense_1 (Dense)                  (None, 200)           1568200     flatten_1[0][0]                  \n",
      "____________________________________________________________________________________________________\n",
      "dropout_1 (Dropout)              (None, 200)           0           dense_1[0][0]                    \n",
      "____________________________________________________________________________________________________\n",
      "activation_4 (Activation)        (None, 200)           0           dropout_1[0][0]                  \n",
      "____________________________________________________________________________________________________\n",
      "dense_2 (Dense)                  (None, 10)            2010        activation_4[0][0]               \n",
      "====================================================================================================\n",
      "Total params: 1583610\n",
      "____________________________________________________________________________________________________\n",
      "None\n"
     ]
    }
   ],
   "source": [
    "# Defining model\n",
    "vgg = Sequential()\n",
    "vgg.add(Convolution2D(40, 2, 2, input_shape=input_shape, border_mode='valid'))\n",
    "vgg.add(Activation('relu'))\n",
    "#vgg.add(MaxPooling2D((2, 2), strides=(2, 2), border_mode='valid'))\n",
    "\n",
    "vgg.add(Convolution2D(40, 2, 2, border_mode='valid'))\n",
    "vgg.add(Activation('relu'))\n",
    "vgg.add(MaxPooling2D((2, 2), strides=(2, 2), border_mode='valid'))\n",
    "\n",
    "vgg.add(Convolution2D(40, 2, 2, border_mode='valid'))\n",
    "vgg.add(Activation('relu'))\n",
    "#vgg.add(MaxPooling2D((2, 2), strides=(2, 2), border_mode='valid'))\n",
    "\n",
    "vgg.add(Flatten())\n",
    "vgg.add(Dense(200))\n",
    "vgg.add(Dropout(0.5))\n",
    "vgg.add(Activation('relu'))\n",
    "vgg.add(Dense(nb_classes, activation='softmax'))\n",
    "\n",
    "model = vgg\n",
    "print (model.summary())"
   ]
  },
  {
   "cell_type": "code",
   "execution_count": 7,
   "metadata": {
    "collapsed": false
   },
   "outputs": [
    {
     "name": "stdout",
     "output_type": "stream",
     "text": [
      "____________________________________________________________________________________________________\n",
      "Layer (type)                     Output Shape          Param #     Connected to                     \n",
      "====================================================================================================\n",
      "convolution2d_1 (Convolution2D)  (None, 40, 31, 31)    520         convolution2d_input_1[0][0]      \n",
      "____________________________________________________________________________________________________\n",
      "activation_1 (Activation)        (None, 40, 31, 31)    0           convolution2d_1[0][0]            \n",
      "____________________________________________________________________________________________________\n",
      "convolution2d_2 (Convolution2D)  (None, 40, 30, 30)    6440        activation_1[0][0]               \n",
      "____________________________________________________________________________________________________\n",
      "activation_2 (Activation)        (None, 40, 30, 30)    0           convolution2d_2[0][0]            \n",
      "____________________________________________________________________________________________________\n",
      "maxpooling2d_1 (MaxPooling2D)    (None, 40, 15, 15)    0           activation_2[0][0]               \n",
      "____________________________________________________________________________________________________\n",
      "convolution2d_3 (Convolution2D)  (None, 40, 14, 14)    6440        maxpooling2d_1[0][0]             \n",
      "____________________________________________________________________________________________________\n",
      "activation_3 (Activation)        (None, 40, 14, 14)    0           convolution2d_3[0][0]            \n",
      "____________________________________________________________________________________________________\n",
      "flatten_1 (Flatten)              (None, 7840)          0           activation_3[0][0]               \n",
      "____________________________________________________________________________________________________\n",
      "dense_1 (Dense)                  (None, 200)           1568200     flatten_1[0][0]                  \n",
      "____________________________________________________________________________________________________\n",
      "dropout_1 (Dropout)              (None, 200)           0           dense_1[0][0]                    \n",
      "____________________________________________________________________________________________________\n",
      "activation_4 (Activation)        (None, 200)           0           dropout_1[0][0]                  \n",
      "____________________________________________________________________________________________________\n",
      "dense_2 (Dense)                  (None, 10)            2010        activation_4[0][0]               \n",
      "====================================================================================================\n",
      "Total params: 1583610\n",
      "____________________________________________________________________________________________________\n",
      "None\n"
     ]
    }
   ],
   "source": [
    "# Compile model\n",
    "epochs = 25\n",
    "lrate = 0.01\n",
    "decay = lrate/epochs\n",
    "sgd = SGD(lr=lrate, momentum=0.9, decay=decay, nesterov=False)\n",
    "model.compile(loss='categorical_crossentropy', optimizer=sgd, metrics=['accuracy'])\n",
    "print(model.summary())"
   ]
  },
  {
   "cell_type": "code",
   "execution_count": 8,
   "metadata": {
    "collapsed": false
   },
   "outputs": [
    {
     "name": "stdout",
     "output_type": "stream",
     "text": [
      "2017-04-20 22:12:14.751023\n",
      "Train on 40000 samples, validate on 10000 samples\n",
      "Epoch 1/25\n",
      "40000/40000 [==============================] - 211s - loss: 1.7916 - acc: 0.3458 - val_loss: 1.4578 - val_acc: 0.4699\n",
      "Epoch 2/25\n",
      "40000/40000 [==============================] - 212s - loss: 1.4130 - acc: 0.4895 - val_loss: 1.2534 - val_acc: 0.5533\n",
      "Epoch 3/25\n",
      "40000/40000 [==============================] - 212s - loss: 1.1890 - acc: 0.5754 - val_loss: 1.0580 - val_acc: 0.6268\n",
      "Epoch 4/25\n",
      "40000/40000 [==============================] - 212s - loss: 1.0441 - acc: 0.6288 - val_loss: 0.9956 - val_acc: 0.6460\n",
      "Epoch 5/25\n",
      "40000/40000 [==============================] - 212s - loss: 0.9376 - acc: 0.6650 - val_loss: 0.9326 - val_acc: 0.6727\n",
      "Epoch 6/25\n",
      "40000/40000 [==============================] - 212s - loss: 0.8492 - acc: 0.6995 - val_loss: 0.8921 - val_acc: 0.6856\n",
      "Epoch 7/25\n",
      "40000/40000 [==============================] - 212s - loss: 0.7644 - acc: 0.7297 - val_loss: 0.9020 - val_acc: 0.6826\n",
      "Epoch 8/25\n",
      "40000/40000 [==============================] - 212s - loss: 0.7018 - acc: 0.7529 - val_loss: 0.9002 - val_acc: 0.6887\n",
      "Epoch 9/25\n",
      "40000/40000 [==============================] - 212s - loss: 0.6391 - acc: 0.7731 - val_loss: 0.8896 - val_acc: 0.6942\n",
      "Epoch 10/25\n",
      "40000/40000 [==============================] - 212s - loss: 0.5765 - acc: 0.7951 - val_loss: 0.8895 - val_acc: 0.7001\n",
      "Epoch 11/25\n",
      "40000/40000 [==============================] - 212s - loss: 0.5280 - acc: 0.8103 - val_loss: 0.8944 - val_acc: 0.7024\n",
      "Epoch 12/25\n",
      "40000/40000 [==============================] - 211s - loss: 0.4736 - acc: 0.8303 - val_loss: 0.9086 - val_acc: 0.7071\n",
      "Epoch 13/25\n",
      "40000/40000 [==============================] - 212s - loss: 0.4300 - acc: 0.8454 - val_loss: 0.9443 - val_acc: 0.7039\n",
      "Epoch 14/25\n",
      "40000/40000 [==============================] - 211s - loss: 0.3971 - acc: 0.8579 - val_loss: 0.9359 - val_acc: 0.7026\n",
      "Epoch 15/25\n",
      "40000/40000 [==============================] - 211s - loss: 0.3594 - acc: 0.8718 - val_loss: 0.9798 - val_acc: 0.7019\n",
      "Epoch 16/25\n",
      "40000/40000 [==============================] - 212s - loss: 0.3244 - acc: 0.8840 - val_loss: 0.9768 - val_acc: 0.7038\n",
      "Epoch 17/25\n",
      "40000/40000 [==============================] - 212s - loss: 0.2974 - acc: 0.8948 - val_loss: 1.0090 - val_acc: 0.7035\n",
      "Epoch 18/25\n",
      "40000/40000 [==============================] - 213s - loss: 0.2730 - acc: 0.9037 - val_loss: 1.0339 - val_acc: 0.7067\n",
      "Epoch 19/25\n",
      "40000/40000 [==============================] - 212s - loss: 0.2502 - acc: 0.9108 - val_loss: 1.0668 - val_acc: 0.7031\n",
      "Epoch 20/25\n",
      "40000/40000 [==============================] - 212s - loss: 0.2288 - acc: 0.9187 - val_loss: 1.0904 - val_acc: 0.7057\n",
      "Epoch 21/25\n",
      "40000/40000 [==============================] - 211s - loss: 0.2158 - acc: 0.9237 - val_loss: 1.1110 - val_acc: 0.7052\n",
      "Epoch 22/25\n",
      "40000/40000 [==============================] - 212s - loss: 0.2006 - acc: 0.9296 - val_loss: 1.1424 - val_acc: 0.7020\n",
      "Epoch 23/25\n",
      "40000/40000 [==============================] - 169s - loss: 0.1910 - acc: 0.9327 - val_loss: 1.1598 - val_acc: 0.7063\n",
      "Epoch 24/25\n",
      "40000/40000 [==============================] - 158s - loss: 0.1731 - acc: 0.9386 - val_loss: 1.1680 - val_acc: 0.7062\n",
      "Epoch 25/25\n",
      "40000/40000 [==============================] - 159s - loss: 0.1660 - acc: 0.9405 - val_loss: 1.1955 - val_acc: 0.7044\n",
      "2017-04-20 23:38:13.436466\n"
     ]
    }
   ],
   "source": [
    "# printing the time when the training starts\n",
    "print(datetime.datetime.now())\n",
    "\n",
    "# Fit the model\n",
    "model.fit(x_train, y_train, validation_split=0.2, nb_epoch=epochs, batch_size=32)\n",
    "\n",
    "# printing the time when the training finishes\n",
    "print(datetime.datetime.now())\n"
   ]
  },
  {
   "cell_type": "code",
   "execution_count": 9,
   "metadata": {
    "collapsed": false
   },
   "outputs": [
    {
     "name": "stdout",
     "output_type": "stream",
     "text": [
      "Accuracy: 70.24%\n"
     ]
    }
   ],
   "source": [
    "# Final evaluation of the model\n",
    "scores = model.evaluate(x_test, y_test, verbose=0)\n",
    "print(\"Accuracy: %.2f%%\" % (scores[1]*100))"
   ]
  }
 ],
 "metadata": {
  "anaconda-cloud": {},
  "kernelspec": {
   "display_name": "Python [default]",
   "language": "python",
   "name": "python3"
  },
  "language_info": {
   "codemirror_mode": {
    "name": "ipython",
    "version": 3
   },
   "file_extension": ".py",
   "mimetype": "text/x-python",
   "name": "python",
   "nbconvert_exporter": "python",
   "pygments_lexer": "ipython3",
   "version": "3.5.2"
  }
 },
 "nbformat": 4,
 "nbformat_minor": 1
}
