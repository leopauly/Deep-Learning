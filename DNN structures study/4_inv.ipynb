{
 "cells": [
  {
   "cell_type": "code",
   "execution_count": 1,
   "metadata": {
    "collapsed": false
   },
   "outputs": [
    {
     "name": "stderr",
     "output_type": "stream",
     "text": [
      "Using TensorFlow backend.\n"
     ]
    }
   ],
   "source": [
    "# Program for learning the performance of 4 layer deep neural network inverted pyramid strucuture\n",
    "\n",
    "import numpy\n",
    "from keras.datasets import cifar10\n",
    "from keras.models import Sequential\n",
    "from keras.layers import Dense\n",
    "from keras.layers import Dropout\n",
    "from keras.layers import Flatten\n",
    "from keras.constraints import maxnorm\n",
    "from keras.optimizers import SGD\n",
    "from keras.layers.convolutional import Convolution2D\n",
    "from keras.layers.convolutional import MaxPooling2D\n",
    "from keras.utils import np_utils\n",
    "from keras import backend as K\n",
    "from keras.datasets import cifar10\n",
    "from matplotlib import pyplot \n",
    "from scipy.misc import toimage\n",
    "import datetime\n",
    "from keras.layers import Activation, Dense\n",
    "\n",
    "K.set_image_dim_ordering('th')"
   ]
  },
  {
   "cell_type": "code",
   "execution_count": 2,
   "metadata": {
    "collapsed": true
   },
   "outputs": [],
   "source": [
    "# fix random seed for reproducibility\n",
    "seed = 7\n",
    "numpy.random.seed(seed)\n",
    "\n",
    "#dataset image parameters\n",
    "img_rows=32\n",
    "img_cols=32\n",
    "channel=3\n",
    "nb_classes=10"
   ]
  },
  {
   "cell_type": "code",
   "execution_count": 3,
   "metadata": {
    "collapsed": true
   },
   "outputs": [],
   "source": [
    "(x_train, y_train),(x_test,y_test)=cifar10.load_data()\n",
    "\n",
    "x_train = x_train.reshape(x_train.shape[0], channel,img_rows, img_cols)\n",
    "x_test = x_test.reshape(x_test.shape[0], channel,img_rows, img_cols)\n",
    "input_shape=(3,img_rows,img_cols)"
   ]
  },
  {
   "cell_type": "code",
   "execution_count": 4,
   "metadata": {
    "collapsed": true
   },
   "outputs": [],
   "source": [
    "x_test=x_test.astype('float32')\n",
    "x_train=x_train.astype('float32')\n",
    "x_test=x_test/255.\n",
    "x_train=x_train/255."
   ]
  },
  {
   "cell_type": "code",
   "execution_count": 5,
   "metadata": {
    "collapsed": true
   },
   "outputs": [],
   "source": [
    "# one hot encode outputs\n",
    "y_train = np_utils.to_categorical(y_train)\n",
    "y_test = np_utils.to_categorical(y_test)\n",
    "num_classes = y_test.shape[1]\n"
   ]
  },
  {
   "cell_type": "code",
   "execution_count": 6,
   "metadata": {
    "collapsed": false
   },
   "outputs": [
    {
     "name": "stdout",
     "output_type": "stream",
     "text": [
      "____________________________________________________________________________________________________\n",
      "Layer (type)                     Output Shape          Param #     Connected to                     \n",
      "====================================================================================================\n",
      "convolution2d_1 (Convolution2D)  (None, 40, 31, 31)    520         convolution2d_input_1[0][0]      \n",
      "____________________________________________________________________________________________________\n",
      "activation_1 (Activation)        (None, 40, 31, 31)    0           convolution2d_1[0][0]            \n",
      "____________________________________________________________________________________________________\n",
      "convolution2d_2 (Convolution2D)  (None, 30, 30, 30)    4830        activation_1[0][0]               \n",
      "____________________________________________________________________________________________________\n",
      "activation_2 (Activation)        (None, 30, 30, 30)    0           convolution2d_2[0][0]            \n",
      "____________________________________________________________________________________________________\n",
      "maxpooling2d_1 (MaxPooling2D)    (None, 30, 15, 15)    0           activation_2[0][0]               \n",
      "____________________________________________________________________________________________________\n",
      "convolution2d_3 (Convolution2D)  (None, 20, 14, 14)    2420        maxpooling2d_1[0][0]             \n",
      "____________________________________________________________________________________________________\n",
      "activation_3 (Activation)        (None, 20, 14, 14)    0           convolution2d_3[0][0]            \n",
      "____________________________________________________________________________________________________\n",
      "convolution2d_4 (Convolution2D)  (None, 10, 13, 13)    810         activation_3[0][0]               \n",
      "____________________________________________________________________________________________________\n",
      "activation_4 (Activation)        (None, 10, 13, 13)    0           convolution2d_4[0][0]            \n",
      "____________________________________________________________________________________________________\n",
      "maxpooling2d_2 (MaxPooling2D)    (None, 10, 6, 6)      0           activation_4[0][0]               \n",
      "____________________________________________________________________________________________________\n",
      "flatten_1 (Flatten)              (None, 360)           0           maxpooling2d_2[0][0]             \n",
      "____________________________________________________________________________________________________\n",
      "dense_1 (Dense)                  (None, 200)           72200       flatten_1[0][0]                  \n",
      "____________________________________________________________________________________________________\n",
      "dropout_1 (Dropout)              (None, 200)           0           dense_1[0][0]                    \n",
      "____________________________________________________________________________________________________\n",
      "activation_5 (Activation)        (None, 200)           0           dropout_1[0][0]                  \n",
      "____________________________________________________________________________________________________\n",
      "dense_2 (Dense)                  (None, 10)            2010        activation_5[0][0]               \n",
      "====================================================================================================\n",
      "Total params: 82790\n",
      "____________________________________________________________________________________________________\n",
      "None\n"
     ]
    }
   ],
   "source": [
    "# Defining model\n",
    "vgg = Sequential()\n",
    "vgg.add(Convolution2D(40, 2, 2, input_shape=input_shape, border_mode='valid'))\n",
    "vgg.add(Activation('relu'))\n",
    "#vgg.add(MaxPooling2D((2, 2), strides=(2, 2), border_mode='valid'))\n",
    "\n",
    "vgg.add(Convolution2D(30, 2, 2, border_mode='valid'))\n",
    "vgg.add(Activation('relu'))\n",
    "vgg.add(MaxPooling2D((2, 2), strides=(2, 2), border_mode='valid'))\n",
    "\n",
    "vgg.add(Convolution2D(20, 2, 2, border_mode='valid'))\n",
    "vgg.add(Activation('relu'))\n",
    "#vgg.add(MaxPooling2D((2, 2), strides=(2, 2), border_mode='valid'))\n",
    "\n",
    "vgg.add(Convolution2D(10, 2, 2, border_mode='valid'))\n",
    "vgg.add(Activation('relu'))\n",
    "vgg.add(MaxPooling2D((2, 2), strides=(2, 2), border_mode='valid'))\n",
    "\n",
    "\n",
    "vgg.add(Flatten())\n",
    "vgg.add(Dense(200))\n",
    "vgg.add(Dropout(0.5))\n",
    "vgg.add(Activation('relu'))\n",
    "vgg.add(Dense(nb_classes, activation='softmax'))\n",
    "\n",
    "model = vgg\n",
    "print (model.summary())"
   ]
  },
  {
   "cell_type": "code",
   "execution_count": 7,
   "metadata": {
    "collapsed": false
   },
   "outputs": [
    {
     "name": "stdout",
     "output_type": "stream",
     "text": [
      "____________________________________________________________________________________________________\n",
      "Layer (type)                     Output Shape          Param #     Connected to                     \n",
      "====================================================================================================\n",
      "convolution2d_1 (Convolution2D)  (None, 40, 31, 31)    520         convolution2d_input_1[0][0]      \n",
      "____________________________________________________________________________________________________\n",
      "activation_1 (Activation)        (None, 40, 31, 31)    0           convolution2d_1[0][0]            \n",
      "____________________________________________________________________________________________________\n",
      "convolution2d_2 (Convolution2D)  (None, 30, 30, 30)    4830        activation_1[0][0]               \n",
      "____________________________________________________________________________________________________\n",
      "activation_2 (Activation)        (None, 30, 30, 30)    0           convolution2d_2[0][0]            \n",
      "____________________________________________________________________________________________________\n",
      "maxpooling2d_1 (MaxPooling2D)    (None, 30, 15, 15)    0           activation_2[0][0]               \n",
      "____________________________________________________________________________________________________\n",
      "convolution2d_3 (Convolution2D)  (None, 20, 14, 14)    2420        maxpooling2d_1[0][0]             \n",
      "____________________________________________________________________________________________________\n",
      "activation_3 (Activation)        (None, 20, 14, 14)    0           convolution2d_3[0][0]            \n",
      "____________________________________________________________________________________________________\n",
      "convolution2d_4 (Convolution2D)  (None, 10, 13, 13)    810         activation_3[0][0]               \n",
      "____________________________________________________________________________________________________\n",
      "activation_4 (Activation)        (None, 10, 13, 13)    0           convolution2d_4[0][0]            \n",
      "____________________________________________________________________________________________________\n",
      "maxpooling2d_2 (MaxPooling2D)    (None, 10, 6, 6)      0           activation_4[0][0]               \n",
      "____________________________________________________________________________________________________\n",
      "flatten_1 (Flatten)              (None, 360)           0           maxpooling2d_2[0][0]             \n",
      "____________________________________________________________________________________________________\n",
      "dense_1 (Dense)                  (None, 200)           72200       flatten_1[0][0]                  \n",
      "____________________________________________________________________________________________________\n",
      "dropout_1 (Dropout)              (None, 200)           0           dense_1[0][0]                    \n",
      "____________________________________________________________________________________________________\n",
      "activation_5 (Activation)        (None, 200)           0           dropout_1[0][0]                  \n",
      "____________________________________________________________________________________________________\n",
      "dense_2 (Dense)                  (None, 10)            2010        activation_5[0][0]               \n",
      "====================================================================================================\n",
      "Total params: 82790\n",
      "____________________________________________________________________________________________________\n",
      "None\n"
     ]
    }
   ],
   "source": [
    "# Compile model\n",
    "epochs = 25\n",
    "lrate = 0.01\n",
    "decay = lrate/epochs\n",
    "sgd = SGD(lr=lrate, momentum=0.9, decay=decay, nesterov=False)\n",
    "model.compile(loss='categorical_crossentropy', optimizer=sgd, metrics=['accuracy'])\n",
    "print(model.summary())"
   ]
  },
  {
   "cell_type": "code",
   "execution_count": 8,
   "metadata": {
    "collapsed": false
   },
   "outputs": [
    {
     "name": "stdout",
     "output_type": "stream",
     "text": [
      "2017-04-20 21:01:52.421901\n",
      "Train on 40000 samples, validate on 10000 samples\n",
      "Epoch 1/25\n",
      "40000/40000 [==============================] - 174s - loss: 1.9979 - acc: 0.2628 - val_loss: 1.7365 - val_acc: 0.3572\n",
      "Epoch 2/25\n",
      "40000/40000 [==============================] - 216s - loss: 1.6780 - acc: 0.3883 - val_loss: 1.5562 - val_acc: 0.4312\n",
      "Epoch 3/25\n",
      "40000/40000 [==============================] - 222s - loss: 1.5207 - acc: 0.4471 - val_loss: 1.3899 - val_acc: 0.5014\n",
      "Epoch 4/25\n",
      "40000/40000 [==============================] - 222s - loss: 1.4195 - acc: 0.4867 - val_loss: 1.3019 - val_acc: 0.5426\n",
      "Epoch 5/25\n",
      "40000/40000 [==============================] - 211s - loss: 1.3434 - acc: 0.5169 - val_loss: 1.2468 - val_acc: 0.5619\n",
      "Epoch 6/25\n",
      "40000/40000 [==============================] - 172s - loss: 1.2817 - acc: 0.5385 - val_loss: 1.1898 - val_acc: 0.5773\n",
      "Epoch 7/25\n",
      "40000/40000 [==============================] - 172s - loss: 1.2379 - acc: 0.5553 - val_loss: 1.1840 - val_acc: 0.5825\n",
      "Epoch 8/25\n",
      "40000/40000 [==============================] - 171s - loss: 1.1978 - acc: 0.5728 - val_loss: 1.1375 - val_acc: 0.5996\n",
      "Epoch 9/25\n",
      "40000/40000 [==============================] - 172s - loss: 1.1695 - acc: 0.5852 - val_loss: 1.1186 - val_acc: 0.6028\n",
      "Epoch 10/25\n",
      "40000/40000 [==============================] - 171s - loss: 1.1372 - acc: 0.5926 - val_loss: 1.0939 - val_acc: 0.6140\n",
      "Epoch 11/25\n",
      "40000/40000 [==============================] - 172s - loss: 1.1162 - acc: 0.6020 - val_loss: 1.0912 - val_acc: 0.6129\n",
      "Epoch 12/25\n",
      "40000/40000 [==============================] - 172s - loss: 1.1026 - acc: 0.6075 - val_loss: 1.0500 - val_acc: 0.6303\n",
      "Epoch 13/25\n",
      "40000/40000 [==============================] - 172s - loss: 1.0781 - acc: 0.6164 - val_loss: 1.0489 - val_acc: 0.6313\n",
      "Epoch 14/25\n",
      "40000/40000 [==============================] - 171s - loss: 1.0605 - acc: 0.6251 - val_loss: 1.0465 - val_acc: 0.6300\n",
      "Epoch 15/25\n",
      "40000/40000 [==============================] - 171s - loss: 1.0462 - acc: 0.6295 - val_loss: 1.0392 - val_acc: 0.6354\n",
      "Epoch 16/25\n",
      "40000/40000 [==============================] - 171s - loss: 1.0308 - acc: 0.6362 - val_loss: 1.0042 - val_acc: 0.6449\n",
      "Epoch 17/25\n",
      "40000/40000 [==============================] - 172s - loss: 1.0191 - acc: 0.6371 - val_loss: 1.0131 - val_acc: 0.6451\n",
      "Epoch 18/25\n",
      "40000/40000 [==============================] - 158s - loss: 1.0107 - acc: 0.6421 - val_loss: 0.9973 - val_acc: 0.6559\n",
      "Epoch 19/25\n",
      "40000/40000 [==============================] - 127s - loss: 0.9943 - acc: 0.6453 - val_loss: 0.9986 - val_acc: 0.6542\n",
      "Epoch 20/25\n",
      "40000/40000 [==============================] - 127s - loss: 0.9856 - acc: 0.6487 - val_loss: 0.9854 - val_acc: 0.6557\n",
      "Epoch 21/25\n",
      "40000/40000 [==============================] - 127s - loss: 0.9817 - acc: 0.6509 - val_loss: 0.9812 - val_acc: 0.6594\n",
      "Epoch 22/25\n",
      "40000/40000 [==============================] - 127s - loss: 0.9717 - acc: 0.6547 - val_loss: 0.9734 - val_acc: 0.6596\n",
      "Epoch 23/25\n",
      "40000/40000 [==============================] - 127s - loss: 0.9630 - acc: 0.6603 - val_loss: 0.9739 - val_acc: 0.6608\n",
      "Epoch 24/25\n",
      "40000/40000 [==============================] - 96s - loss: 0.9599 - acc: 0.6585 - val_loss: 0.9755 - val_acc: 0.6621\n",
      "Epoch 25/25\n",
      "40000/40000 [==============================] - 79s - loss: 0.9409 - acc: 0.6657 - val_loss: 0.9582 - val_acc: 0.6684\n",
      "2017-04-20 22:09:58.933737\n"
     ]
    }
   ],
   "source": [
    "# printing the time when the training starts\n",
    "print(datetime.datetime.now())\n",
    "\n",
    "# Fit the model\n",
    "model.fit(x_train, y_train, validation_split=0.2, nb_epoch=epochs, batch_size=32)\n",
    "\n",
    "# printing the time when the training finishes\n",
    "print(datetime.datetime.now())\n"
   ]
  },
  {
   "cell_type": "code",
   "execution_count": 9,
   "metadata": {
    "collapsed": false
   },
   "outputs": [
    {
     "name": "stdout",
     "output_type": "stream",
     "text": [
      "Accuracy: 66.66%\n"
     ]
    }
   ],
   "source": [
    "# Final evaluation of the model\n",
    "scores = model.evaluate(x_test, y_test, verbose=0)\n",
    "print(\"Accuracy: %.2f%%\" % (scores[1]*100))"
   ]
  }
 ],
 "metadata": {
  "anaconda-cloud": {},
  "kernelspec": {
   "display_name": "Python [default]",
   "language": "python",
   "name": "python3"
  },
  "language_info": {
   "codemirror_mode": {
    "name": "ipython",
    "version": 3
   },
   "file_extension": ".py",
   "mimetype": "text/x-python",
   "name": "python",
   "nbconvert_exporter": "python",
   "pygments_lexer": "ipython3",
   "version": "3.5.2"
  }
 },
 "nbformat": 4,
 "nbformat_minor": 1
}
