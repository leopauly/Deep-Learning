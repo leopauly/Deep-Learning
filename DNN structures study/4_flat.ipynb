{
 "cells": [
  {
   "cell_type": "code",
   "execution_count": 1,
   "metadata": {
    "collapsed": false
   },
   "outputs": [
    {
     "name": "stderr",
     "output_type": "stream",
     "text": [
      "Using TensorFlow backend.\n"
     ]
    }
   ],
   "source": [
    "# Program for learning the performance of 4 layer deep neural network flat strucuture\n",
    "\n",
    "import numpy\n",
    "from keras.datasets import cifar10\n",
    "from keras.models import Sequential\n",
    "from keras.layers import Dense\n",
    "from keras.layers import Dropout\n",
    "from keras.layers import Flatten\n",
    "from keras.constraints import maxnorm\n",
    "from keras.optimizers import SGD\n",
    "from keras.layers.convolutional import Convolution2D\n",
    "from keras.layers.convolutional import MaxPooling2D\n",
    "from keras.utils import np_utils\n",
    "from keras import backend as K\n",
    "from keras.datasets import cifar10\n",
    "from matplotlib import pyplot \n",
    "from scipy.misc import toimage\n",
    "import datetime\n",
    "from keras.layers import Activation, Dense\n",
    "\n",
    "K.set_image_dim_ordering('th')"
   ]
  },
  {
   "cell_type": "code",
   "execution_count": 2,
   "metadata": {
    "collapsed": true
   },
   "outputs": [],
   "source": [
    "# fix random seed for reproducibility\n",
    "seed = 7\n",
    "numpy.random.seed(seed)\n",
    "\n",
    "#dataset image parameters\n",
    "img_rows=32\n",
    "img_cols=32\n",
    "channel=3\n",
    "nb_classes=10"
   ]
  },
  {
   "cell_type": "code",
   "execution_count": 3,
   "metadata": {
    "collapsed": true
   },
   "outputs": [],
   "source": [
    "(x_train, y_train),(x_test,y_test)=cifar10.load_data()\n",
    "\n",
    "x_train = x_train.reshape(x_train.shape[0], channel,img_rows, img_cols)\n",
    "x_test = x_test.reshape(x_test.shape[0], channel,img_rows, img_cols)\n",
    "input_shape=(3,img_rows,img_cols)"
   ]
  },
  {
   "cell_type": "code",
   "execution_count": 4,
   "metadata": {
    "collapsed": true
   },
   "outputs": [],
   "source": [
    "x_test=x_test.astype('float32')\n",
    "x_train=x_train.astype('float32')\n",
    "x_test=x_test/255.\n",
    "x_train=x_train/255."
   ]
  },
  {
   "cell_type": "code",
   "execution_count": 5,
   "metadata": {
    "collapsed": true
   },
   "outputs": [],
   "source": [
    "# one hot encode outputs\n",
    "y_train = np_utils.to_categorical(y_train)\n",
    "y_test = np_utils.to_categorical(y_test)\n",
    "num_classes = y_test.shape[1]\n"
   ]
  },
  {
   "cell_type": "code",
   "execution_count": 6,
   "metadata": {
    "collapsed": false
   },
   "outputs": [
    {
     "name": "stdout",
     "output_type": "stream",
     "text": [
      "____________________________________________________________________________________________________\n",
      "Layer (type)                     Output Shape          Param #     Connected to                     \n",
      "====================================================================================================\n",
      "convolution2d_1 (Convolution2D)  (None, 25, 31, 31)    325         convolution2d_input_1[0][0]      \n",
      "____________________________________________________________________________________________________\n",
      "activation_1 (Activation)        (None, 25, 31, 31)    0           convolution2d_1[0][0]            \n",
      "____________________________________________________________________________________________________\n",
      "convolution2d_2 (Convolution2D)  (None, 25, 30, 30)    2525        activation_1[0][0]               \n",
      "____________________________________________________________________________________________________\n",
      "activation_2 (Activation)        (None, 25, 30, 30)    0           convolution2d_2[0][0]            \n",
      "____________________________________________________________________________________________________\n",
      "maxpooling2d_1 (MaxPooling2D)    (None, 25, 15, 15)    0           activation_2[0][0]               \n",
      "____________________________________________________________________________________________________\n",
      "convolution2d_3 (Convolution2D)  (None, 25, 14, 14)    2525        maxpooling2d_1[0][0]             \n",
      "____________________________________________________________________________________________________\n",
      "activation_3 (Activation)        (None, 25, 14, 14)    0           convolution2d_3[0][0]            \n",
      "____________________________________________________________________________________________________\n",
      "convolution2d_4 (Convolution2D)  (None, 25, 13, 13)    2525        activation_3[0][0]               \n",
      "____________________________________________________________________________________________________\n",
      "activation_4 (Activation)        (None, 25, 13, 13)    0           convolution2d_4[0][0]            \n",
      "____________________________________________________________________________________________________\n",
      "maxpooling2d_2 (MaxPooling2D)    (None, 25, 6, 6)      0           activation_4[0][0]               \n",
      "____________________________________________________________________________________________________\n",
      "flatten_1 (Flatten)              (None, 900)           0           maxpooling2d_2[0][0]             \n",
      "____________________________________________________________________________________________________\n",
      "dense_1 (Dense)                  (None, 200)           180200      flatten_1[0][0]                  \n",
      "____________________________________________________________________________________________________\n",
      "dropout_1 (Dropout)              (None, 200)           0           dense_1[0][0]                    \n",
      "____________________________________________________________________________________________________\n",
      "activation_5 (Activation)        (None, 200)           0           dropout_1[0][0]                  \n",
      "____________________________________________________________________________________________________\n",
      "dense_2 (Dense)                  (None, 10)            2010        activation_5[0][0]               \n",
      "====================================================================================================\n",
      "Total params: 190110\n",
      "____________________________________________________________________________________________________\n",
      "None\n"
     ]
    }
   ],
   "source": [
    "# Defining model\n",
    "vgg = Sequential()\n",
    "vgg.add(Convolution2D(25, 2, 2, input_shape=input_shape, border_mode='valid'))\n",
    "vgg.add(Activation('relu'))\n",
    "#vgg.add(MaxPooling2D((2, 2), strides=(2, 2), border_mode='valid'))\n",
    "\n",
    "vgg.add(Convolution2D(25, 2, 2, border_mode='valid'))\n",
    "vgg.add(Activation('relu'))\n",
    "vgg.add(MaxPooling2D((2, 2), strides=(2, 2), border_mode='valid'))\n",
    "\n",
    "vgg.add(Convolution2D(25, 2, 2, border_mode='valid'))\n",
    "vgg.add(Activation('relu'))\n",
    "#vgg.add(MaxPooling2D((2, 2), strides=(2, 2), border_mode='valid'))\n",
    "\n",
    "vgg.add(Convolution2D(25, 2, 2, border_mode='valid'))\n",
    "vgg.add(Activation('relu'))\n",
    "vgg.add(MaxPooling2D((2, 2), strides=(2, 2), border_mode='valid'))\n",
    "\n",
    "\n",
    "vgg.add(Flatten())\n",
    "vgg.add(Dense(200))\n",
    "vgg.add(Dropout(0.5))\n",
    "vgg.add(Activation('relu'))\n",
    "vgg.add(Dense(nb_classes, activation='softmax'))\n",
    "\n",
    "model = vgg\n",
    "print (model.summary())"
   ]
  },
  {
   "cell_type": "code",
   "execution_count": 7,
   "metadata": {
    "collapsed": false
   },
   "outputs": [
    {
     "name": "stdout",
     "output_type": "stream",
     "text": [
      "____________________________________________________________________________________________________\n",
      "Layer (type)                     Output Shape          Param #     Connected to                     \n",
      "====================================================================================================\n",
      "convolution2d_1 (Convolution2D)  (None, 25, 31, 31)    325         convolution2d_input_1[0][0]      \n",
      "____________________________________________________________________________________________________\n",
      "activation_1 (Activation)        (None, 25, 31, 31)    0           convolution2d_1[0][0]            \n",
      "____________________________________________________________________________________________________\n",
      "convolution2d_2 (Convolution2D)  (None, 25, 30, 30)    2525        activation_1[0][0]               \n",
      "____________________________________________________________________________________________________\n",
      "activation_2 (Activation)        (None, 25, 30, 30)    0           convolution2d_2[0][0]            \n",
      "____________________________________________________________________________________________________\n",
      "maxpooling2d_1 (MaxPooling2D)    (None, 25, 15, 15)    0           activation_2[0][0]               \n",
      "____________________________________________________________________________________________________\n",
      "convolution2d_3 (Convolution2D)  (None, 25, 14, 14)    2525        maxpooling2d_1[0][0]             \n",
      "____________________________________________________________________________________________________\n",
      "activation_3 (Activation)        (None, 25, 14, 14)    0           convolution2d_3[0][0]            \n",
      "____________________________________________________________________________________________________\n",
      "convolution2d_4 (Convolution2D)  (None, 25, 13, 13)    2525        activation_3[0][0]               \n",
      "____________________________________________________________________________________________________\n",
      "activation_4 (Activation)        (None, 25, 13, 13)    0           convolution2d_4[0][0]            \n",
      "____________________________________________________________________________________________________\n",
      "maxpooling2d_2 (MaxPooling2D)    (None, 25, 6, 6)      0           activation_4[0][0]               \n",
      "____________________________________________________________________________________________________\n",
      "flatten_1 (Flatten)              (None, 900)           0           maxpooling2d_2[0][0]             \n",
      "____________________________________________________________________________________________________\n",
      "dense_1 (Dense)                  (None, 200)           180200      flatten_1[0][0]                  \n",
      "____________________________________________________________________________________________________\n",
      "dropout_1 (Dropout)              (None, 200)           0           dense_1[0][0]                    \n",
      "____________________________________________________________________________________________________\n",
      "activation_5 (Activation)        (None, 200)           0           dropout_1[0][0]                  \n",
      "____________________________________________________________________________________________________\n",
      "dense_2 (Dense)                  (None, 10)            2010        activation_5[0][0]               \n",
      "====================================================================================================\n",
      "Total params: 190110\n",
      "____________________________________________________________________________________________________\n",
      "None\n"
     ]
    }
   ],
   "source": [
    "# Compile model\n",
    "epochs = 25\n",
    "lrate = 0.01\n",
    "decay = lrate/epochs\n",
    "sgd = SGD(lr=lrate, momentum=0.9, decay=decay, nesterov=False)\n",
    "model.compile(loss='categorical_crossentropy', optimizer=sgd, metrics=['accuracy'])\n",
    "print(model.summary())"
   ]
  },
  {
   "cell_type": "code",
   "execution_count": 8,
   "metadata": {
    "collapsed": false
   },
   "outputs": [
    {
     "name": "stdout",
     "output_type": "stream",
     "text": [
      "2017-04-20 21:05:07.687900\n",
      "Train on 40000 samples, validate on 10000 samples\n",
      "Epoch 1/25\n",
      "40000/40000 [==============================] - 195s - loss: 1.8860 - acc: 0.3040 - val_loss: 1.5302 - val_acc: 0.4444\n",
      "Epoch 2/25\n",
      "40000/40000 [==============================] - 195s - loss: 1.5270 - acc: 0.4483 - val_loss: 1.3663 - val_acc: 0.5144\n",
      "Epoch 3/25\n",
      "40000/40000 [==============================] - 195s - loss: 1.3858 - acc: 0.5039 - val_loss: 1.2425 - val_acc: 0.5614\n",
      "Epoch 4/25\n",
      "40000/40000 [==============================] - 195s - loss: 1.2797 - acc: 0.5409 - val_loss: 1.2039 - val_acc: 0.5720\n",
      "Epoch 5/25\n",
      "40000/40000 [==============================] - 160s - loss: 1.1927 - acc: 0.5746 - val_loss: 1.1093 - val_acc: 0.6098\n",
      "Epoch 6/25\n",
      "40000/40000 [==============================] - 153s - loss: 1.1290 - acc: 0.5970 - val_loss: 1.0737 - val_acc: 0.6210\n",
      "Epoch 7/25\n",
      "40000/40000 [==============================] - 153s - loss: 1.0835 - acc: 0.6137 - val_loss: 1.0624 - val_acc: 0.6317\n",
      "Epoch 8/25\n",
      "40000/40000 [==============================] - 152s - loss: 1.0375 - acc: 0.6307 - val_loss: 1.0104 - val_acc: 0.6499\n",
      "Epoch 9/25\n",
      "40000/40000 [==============================] - 153s - loss: 1.0010 - acc: 0.6459 - val_loss: 0.9846 - val_acc: 0.6570\n",
      "Epoch 10/25\n",
      "40000/40000 [==============================] - 153s - loss: 0.9599 - acc: 0.6584 - val_loss: 0.9770 - val_acc: 0.6584\n",
      "Epoch 11/25\n",
      "40000/40000 [==============================] - 152s - loss: 0.9398 - acc: 0.6669 - val_loss: 0.9431 - val_acc: 0.6722\n",
      "Epoch 12/25\n",
      "40000/40000 [==============================] - 152s - loss: 0.9147 - acc: 0.6740 - val_loss: 0.9391 - val_acc: 0.6740\n",
      "Epoch 13/25\n",
      "40000/40000 [==============================] - 152s - loss: 0.8884 - acc: 0.6838 - val_loss: 0.9368 - val_acc: 0.6792\n",
      "Epoch 14/25\n",
      "40000/40000 [==============================] - 152s - loss: 0.8669 - acc: 0.6931 - val_loss: 0.9226 - val_acc: 0.6820\n",
      "Epoch 15/25\n",
      "40000/40000 [==============================] - 152s - loss: 0.8500 - acc: 0.6984 - val_loss: 0.9207 - val_acc: 0.6799\n",
      "Epoch 16/25\n",
      "40000/40000 [==============================] - 153s - loss: 0.8274 - acc: 0.7074 - val_loss: 0.8947 - val_acc: 0.6908\n",
      "Epoch 17/25\n",
      "40000/40000 [==============================] - 152s - loss: 0.8144 - acc: 0.7103 - val_loss: 0.8962 - val_acc: 0.6913\n",
      "Epoch 18/25\n",
      "40000/40000 [==============================] - 152s - loss: 0.7954 - acc: 0.7144 - val_loss: 0.8873 - val_acc: 0.6886\n",
      "Epoch 19/25\n",
      "40000/40000 [==============================] - 141s - loss: 0.7776 - acc: 0.7239 - val_loss: 0.8992 - val_acc: 0.6901\n",
      "Epoch 20/25\n",
      "40000/40000 [==============================] - 112s - loss: 0.7687 - acc: 0.7255 - val_loss: 0.8977 - val_acc: 0.6889\n",
      "Epoch 21/25\n",
      "40000/40000 [==============================] - 112s - loss: 0.7497 - acc: 0.7352 - val_loss: 0.9017 - val_acc: 0.6898\n",
      "Epoch 22/25\n",
      "40000/40000 [==============================] - 112s - loss: 0.7409 - acc: 0.7353 - val_loss: 0.8913 - val_acc: 0.6921\n",
      "Epoch 23/25\n",
      "40000/40000 [==============================] - 112s - loss: 0.7294 - acc: 0.7401 - val_loss: 0.8952 - val_acc: 0.6973\n",
      "Epoch 24/25\n",
      "40000/40000 [==============================] - 112s - loss: 0.7174 - acc: 0.7416 - val_loss: 0.9052 - val_acc: 0.6913\n",
      "Epoch 25/25\n",
      "40000/40000 [==============================] - 112s - loss: 0.7042 - acc: 0.7500 - val_loss: 0.8884 - val_acc: 0.6979\n",
      "2017-04-20 22:07:34.434181\n"
     ]
    }
   ],
   "source": [
    "# printing the time when the training starts\n",
    "print(datetime.datetime.now())\n",
    "\n",
    "# Fit the model\n",
    "model.fit(x_train, y_train, validation_split=0.2, nb_epoch=epochs, batch_size=32)\n",
    "\n",
    "# printing the time when the training finishes\n",
    "print(datetime.datetime.now())\n"
   ]
  },
  {
   "cell_type": "code",
   "execution_count": 9,
   "metadata": {
    "collapsed": false
   },
   "outputs": [
    {
     "name": "stdout",
     "output_type": "stream",
     "text": [
      "Accuracy: 69.16%\n"
     ]
    }
   ],
   "source": [
    "# Final evaluation of the model\n",
    "scores = model.evaluate(x_test, y_test, verbose=0)\n",
    "print(\"Accuracy: %.2f%%\" % (scores[1]*100))"
   ]
  }
 ],
 "metadata": {
  "anaconda-cloud": {},
  "kernelspec": {
   "display_name": "Python [default]",
   "language": "python",
   "name": "python3"
  },
  "language_info": {
   "codemirror_mode": {
    "name": "ipython",
    "version": 3
   },
   "file_extension": ".py",
   "mimetype": "text/x-python",
   "name": "python",
   "nbconvert_exporter": "python",
   "pygments_lexer": "ipython3",
   "version": "3.5.2"
  }
 },
 "nbformat": 4,
 "nbformat_minor": 1
}
