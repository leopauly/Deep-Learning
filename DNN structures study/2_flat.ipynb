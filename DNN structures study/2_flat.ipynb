{
 "cells": [
  {
   "cell_type": "code",
   "execution_count": 1,
   "metadata": {
    "collapsed": false
   },
   "outputs": [
    {
     "name": "stderr",
     "output_type": "stream",
     "text": [
      "Using TensorFlow backend.\n"
     ]
    }
   ],
   "source": [
    "# Program for learning the performance of 5 layer deep neural network flat strucuture\n",
    "\n",
    "import numpy\n",
    "from keras.datasets import cifar10\n",
    "from keras.models import Sequential\n",
    "from keras.layers import Dense\n",
    "from keras.layers import Dropout\n",
    "from keras.layers import Flatten\n",
    "from keras.constraints import maxnorm\n",
    "from keras.optimizers import SGD\n",
    "from keras.layers.convolutional import Convolution2D\n",
    "from keras.layers.convolutional import MaxPooling2D\n",
    "from keras.utils import np_utils\n",
    "from keras import backend as K\n",
    "from keras.datasets import cifar10\n",
    "from matplotlib import pyplot \n",
    "from scipy.misc import toimage\n",
    "import datetime\n",
    "from keras.layers import Activation, Dense\n",
    "\n",
    "K.set_image_dim_ordering('th')"
   ]
  },
  {
   "cell_type": "code",
   "execution_count": 2,
   "metadata": {
    "collapsed": true
   },
   "outputs": [],
   "source": [
    "# fix random seed for reproducibility\n",
    "seed = 7\n",
    "numpy.random.seed(seed)\n",
    "\n",
    "#dataset image parameters\n",
    "img_rows=32\n",
    "img_cols=32\n",
    "channel=3\n",
    "nb_classes=10"
   ]
  },
  {
   "cell_type": "code",
   "execution_count": 3,
   "metadata": {
    "collapsed": true
   },
   "outputs": [],
   "source": [
    "(x_train, y_train),(x_test,y_test)=cifar10.load_data()\n",
    "\n",
    "x_train = x_train.reshape(x_train.shape[0], channel,img_rows, img_cols)\n",
    "x_test = x_test.reshape(x_test.shape[0], channel,img_rows, img_cols)\n",
    "input_shape=(3,img_rows,img_cols)"
   ]
  },
  {
   "cell_type": "code",
   "execution_count": 4,
   "metadata": {
    "collapsed": true
   },
   "outputs": [],
   "source": [
    "x_test=x_test.astype('float32')\n",
    "x_train=x_train.astype('float32')\n",
    "x_test=x_test/255.\n",
    "x_train=x_train/255."
   ]
  },
  {
   "cell_type": "code",
   "execution_count": 9,
   "metadata": {
    "collapsed": false
   },
   "outputs": [
    {
     "name": "stdout",
     "output_type": "stream",
     "text": [
      "(50000, 3, 32, 32)\n"
     ]
    }
   ],
   "source": [
    "                 \n",
    "print(x_train.shape)"
   ]
  },
  {
   "cell_type": "code",
   "execution_count": 5,
   "metadata": {
    "collapsed": true
   },
   "outputs": [],
   "source": [
    "# one hot encode outputs\n",
    "y_train = np_utils.to_categorical(y_train)\n",
    "y_test = np_utils.to_categorical(y_test)\n",
    "num_classes = y_test.shape[1]\n"
   ]
  },
  {
   "cell_type": "code",
   "execution_count": 6,
   "metadata": {
    "collapsed": false
   },
   "outputs": [
    {
     "name": "stdout",
     "output_type": "stream",
     "text": [
      "____________________________________________________________________________________________________\n",
      "Layer (type)                     Output Shape          Param #     Connected to                     \n",
      "====================================================================================================\n",
      "convolution2d_1 (Convolution2D)  (None, 35, 31, 31)    455         convolution2d_input_1[0][0]      \n",
      "____________________________________________________________________________________________________\n",
      "activation_1 (Activation)        (None, 35, 31, 31)    0           convolution2d_1[0][0]            \n",
      "____________________________________________________________________________________________________\n",
      "convolution2d_2 (Convolution2D)  (None, 35, 30, 30)    4935        activation_1[0][0]               \n",
      "____________________________________________________________________________________________________\n",
      "activation_2 (Activation)        (None, 35, 30, 30)    0           convolution2d_2[0][0]            \n",
      "____________________________________________________________________________________________________\n",
      "maxpooling2d_1 (MaxPooling2D)    (None, 35, 15, 15)    0           activation_2[0][0]               \n",
      "____________________________________________________________________________________________________\n",
      "flatten_1 (Flatten)              (None, 7875)          0           maxpooling2d_1[0][0]             \n",
      "____________________________________________________________________________________________________\n",
      "dense_1 (Dense)                  (None, 200)           1575200     flatten_1[0][0]                  \n",
      "____________________________________________________________________________________________________\n",
      "dropout_1 (Dropout)              (None, 200)           0           dense_1[0][0]                    \n",
      "____________________________________________________________________________________________________\n",
      "activation_3 (Activation)        (None, 200)           0           dropout_1[0][0]                  \n",
      "____________________________________________________________________________________________________\n",
      "dense_2 (Dense)                  (None, 10)            2010        activation_3[0][0]               \n",
      "====================================================================================================\n",
      "Total params: 1582600\n",
      "____________________________________________________________________________________________________\n",
      "None\n"
     ]
    }
   ],
   "source": [
    "# Defining model\n",
    "vgg = Sequential()\n",
    "vgg.add(Convolution2D(35, 2, 2, input_shape=input_shape, border_mode='valid'))\n",
    "vgg.add(Activation('relu'))\n",
    "#vgg.add(MaxPooling2D((2, 2), strides=(2, 2), border_mode='valid'))\n",
    "\n",
    "vgg.add(Convolution2D(35, 2, 2, border_mode='valid'))\n",
    "vgg.add(Activation('relu'))\n",
    "vgg.add(MaxPooling2D((2, 2), strides=(2, 2), border_mode='valid'))\n",
    "\n",
    "\n",
    "vgg.add(Flatten())\n",
    "vgg.add(Dense(200))\n",
    "vgg.add(Dropout(0.5))\n",
    "vgg.add(Activation('relu'))\n",
    "vgg.add(Dense(nb_classes, activation='softmax'))\n",
    "\n",
    "model = vgg\n",
    "print (model.summary())"
   ]
  },
  {
   "cell_type": "code",
   "execution_count": 7,
   "metadata": {
    "collapsed": false
   },
   "outputs": [
    {
     "name": "stdout",
     "output_type": "stream",
     "text": [
      "____________________________________________________________________________________________________\n",
      "Layer (type)                     Output Shape          Param #     Connected to                     \n",
      "====================================================================================================\n",
      "convolution2d_1 (Convolution2D)  (None, 35, 31, 31)    455         convolution2d_input_1[0][0]      \n",
      "____________________________________________________________________________________________________\n",
      "activation_1 (Activation)        (None, 35, 31, 31)    0           convolution2d_1[0][0]            \n",
      "____________________________________________________________________________________________________\n",
      "convolution2d_2 (Convolution2D)  (None, 35, 30, 30)    4935        activation_1[0][0]               \n",
      "____________________________________________________________________________________________________\n",
      "activation_2 (Activation)        (None, 35, 30, 30)    0           convolution2d_2[0][0]            \n",
      "____________________________________________________________________________________________________\n",
      "maxpooling2d_1 (MaxPooling2D)    (None, 35, 15, 15)    0           activation_2[0][0]               \n",
      "____________________________________________________________________________________________________\n",
      "flatten_1 (Flatten)              (None, 7875)          0           maxpooling2d_1[0][0]             \n",
      "____________________________________________________________________________________________________\n",
      "dense_1 (Dense)                  (None, 200)           1575200     flatten_1[0][0]                  \n",
      "____________________________________________________________________________________________________\n",
      "dropout_1 (Dropout)              (None, 200)           0           dense_1[0][0]                    \n",
      "____________________________________________________________________________________________________\n",
      "activation_3 (Activation)        (None, 200)           0           dropout_1[0][0]                  \n",
      "____________________________________________________________________________________________________\n",
      "dense_2 (Dense)                  (None, 10)            2010        activation_3[0][0]               \n",
      "====================================================================================================\n",
      "Total params: 1582600\n",
      "____________________________________________________________________________________________________\n",
      "None\n"
     ]
    }
   ],
   "source": [
    "# Compile model\n",
    "epochs = 25\n",
    "lrate = 0.01\n",
    "decay = lrate/epochs\n",
    "sgd = SGD(lr=lrate, momentum=0.9, decay=decay, nesterov=False)\n",
    "model.compile(loss='categorical_crossentropy', optimizer=sgd, metrics=['accuracy'])\n",
    "print(model.summary())"
   ]
  },
  {
   "cell_type": "code",
   "execution_count": 8,
   "metadata": {
    "collapsed": false
   },
   "outputs": [
    {
     "name": "stdout",
     "output_type": "stream",
     "text": [
      "2017-04-21 08:11:54.533201\n",
      "Train on 40000 samples, validate on 10000 samples\n",
      "Epoch 1/25\n",
      "40000/40000 [==============================] - 146s - loss: 1.7627 - acc: 0.3592 - val_loss: 1.3854 - val_acc: 0.4998\n",
      "Epoch 2/25\n",
      "40000/40000 [==============================] - 173s - loss: 1.3534 - acc: 0.5119 - val_loss: 1.2276 - val_acc: 0.5657\n",
      "Epoch 3/25\n",
      "40000/40000 [==============================] - 174s - loss: 1.1686 - acc: 0.5857 - val_loss: 1.0690 - val_acc: 0.6253\n",
      "Epoch 4/25\n",
      "40000/40000 [==============================] - 174s - loss: 1.0474 - acc: 0.6263 - val_loss: 1.0191 - val_acc: 0.6450\n",
      "Epoch 5/25\n",
      "40000/40000 [==============================] - 174s - loss: 0.9533 - acc: 0.6583 - val_loss: 0.9697 - val_acc: 0.6591\n",
      "Epoch 6/25\n",
      "40000/40000 [==============================] - 173s - loss: 0.8814 - acc: 0.6878 - val_loss: 0.9619 - val_acc: 0.6643\n",
      "Epoch 7/25\n",
      "40000/40000 [==============================] - 173s - loss: 0.8105 - acc: 0.7132 - val_loss: 0.9460 - val_acc: 0.6710\n",
      "Epoch 8/25\n",
      "40000/40000 [==============================] - 173s - loss: 0.7481 - acc: 0.7341 - val_loss: 0.9417 - val_acc: 0.6752\n",
      "Epoch 9/25\n",
      "40000/40000 [==============================] - 174s - loss: 0.6957 - acc: 0.7525 - val_loss: 0.9346 - val_acc: 0.6830\n",
      "Epoch 10/25\n",
      "40000/40000 [==============================] - 174s - loss: 0.6478 - acc: 0.7700 - val_loss: 0.9264 - val_acc: 0.6853\n",
      "Epoch 11/25\n",
      "40000/40000 [==============================] - 174s - loss: 0.6058 - acc: 0.7834 - val_loss: 0.9399 - val_acc: 0.6798\n",
      "Epoch 12/25\n",
      "40000/40000 [==============================] - 173s - loss: 0.5650 - acc: 0.7988 - val_loss: 0.9484 - val_acc: 0.6861\n",
      "Epoch 13/25\n",
      "40000/40000 [==============================] - 174s - loss: 0.5220 - acc: 0.8146 - val_loss: 0.9500 - val_acc: 0.6877\n",
      "Epoch 14/25\n",
      "40000/40000 [==============================] - 173s - loss: 0.4880 - acc: 0.8277 - val_loss: 0.9586 - val_acc: 0.6910\n",
      "Epoch 15/25\n",
      "40000/40000 [==============================] - 173s - loss: 0.4575 - acc: 0.8393 - val_loss: 0.9745 - val_acc: 0.6921\n",
      "Epoch 16/25\n",
      "40000/40000 [==============================] - 173s - loss: 0.4246 - acc: 0.8490 - val_loss: 0.9767 - val_acc: 0.6951\n",
      "Epoch 17/25\n",
      "40000/40000 [==============================] - 174s - loss: 0.4011 - acc: 0.8581 - val_loss: 1.0004 - val_acc: 0.6928\n",
      "Epoch 18/25\n",
      "40000/40000 [==============================] - 174s - loss: 0.3796 - acc: 0.8650 - val_loss: 1.0257 - val_acc: 0.6907\n",
      "Epoch 19/25\n",
      "40000/40000 [==============================] - 178s - loss: 0.3515 - acc: 0.8745 - val_loss: 1.0345 - val_acc: 0.6958\n",
      "Epoch 20/25\n",
      "40000/40000 [==============================] - 179s - loss: 0.3385 - acc: 0.8801 - val_loss: 1.0494 - val_acc: 0.6953\n",
      "Epoch 21/25\n",
      "40000/40000 [==============================] - 180s - loss: 0.3125 - acc: 0.8894 - val_loss: 1.0578 - val_acc: 0.6919\n",
      "Epoch 22/25\n",
      "40000/40000 [==============================] - 180s - loss: 0.2980 - acc: 0.8959 - val_loss: 1.0657 - val_acc: 0.6937\n",
      "Epoch 23/25\n",
      "40000/40000 [==============================] - 179s - loss: 0.2871 - acc: 0.8991 - val_loss: 1.0896 - val_acc: 0.6890\n",
      "Epoch 24/25\n",
      "40000/40000 [==============================] - 180s - loss: 0.2701 - acc: 0.9062 - val_loss: 1.0894 - val_acc: 0.6962\n",
      "Epoch 25/25\n",
      "40000/40000 [==============================] - 132s - loss: 0.2556 - acc: 0.9085 - val_loss: 1.1081 - val_acc: 0.6962\n",
      "2017-04-21 09:23:50.193579\n"
     ]
    }
   ],
   "source": [
    "# printing the time when the training starts\n",
    "print(datetime.datetime.now())\n",
    "\n",
    "# Fit the model\n",
    "model.fit(x_train, y_train, validation_split=0.2, nb_epoch=epochs, batch_size=32)\n",
    "\n",
    "# printing the time when the training finishes\n",
    "print(datetime.datetime.now())\n"
   ]
  },
  {
   "cell_type": "code",
   "execution_count": 9,
   "metadata": {
    "collapsed": false
   },
   "outputs": [
    {
     "name": "stdout",
     "output_type": "stream",
     "text": [
      "Accuracy: 68.46%\n"
     ]
    }
   ],
   "source": [
    "# Final evaluation of the model\n",
    "scores = model.evaluate(x_test, y_test, verbose=0)\n",
    "print(\"Accuracy: %.2f%%\" % (scores[1]*100))"
   ]
  }
 ],
 "metadata": {
  "anaconda-cloud": {},
  "kernelspec": {
   "display_name": "Python [default]",
   "language": "python",
   "name": "python3"
  },
  "language_info": {
   "codemirror_mode": {
    "name": "ipython",
    "version": 3
   },
   "file_extension": ".py",
   "mimetype": "text/x-python",
   "name": "python",
   "nbconvert_exporter": "python",
   "pygments_lexer": "ipython3",
   "version": "3.5.2"
  }
 },
 "nbformat": 4,
 "nbformat_minor": 1
}
