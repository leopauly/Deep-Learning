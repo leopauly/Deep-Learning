{
 "cells": [
  {
   "cell_type": "code",
   "execution_count": 1,
   "metadata": {
    "collapsed": false
   },
   "outputs": [
    {
     "name": "stderr",
     "output_type": "stream",
     "text": [
      "Using TensorFlow backend.\n"
     ]
    }
   ],
   "source": [
    "# Program for learning the performance of 7 layer deep neural network pyramid strucuture\n",
    "\n",
    "import numpy\n",
    "from keras.datasets import cifar10\n",
    "from keras.models import Sequential\n",
    "from keras.layers import Dense\n",
    "from keras.layers import Dropout\n",
    "from keras.layers import Flatten\n",
    "from keras.constraints import maxnorm\n",
    "from keras.optimizers import SGD\n",
    "from keras.layers.convolutional import Convolution2D\n",
    "from keras.layers.convolutional import MaxPooling2D\n",
    "from keras.utils import np_utils\n",
    "from keras import backend as K\n",
    "from keras.datasets import cifar10\n",
    "from matplotlib import pyplot \n",
    "from scipy.misc import toimage\n",
    "import datetime\n",
    "from keras.layers import Activation, Dense\n",
    "\n",
    "K.set_image_dim_ordering('th')"
   ]
  },
  {
   "cell_type": "code",
   "execution_count": 2,
   "metadata": {
    "collapsed": true
   },
   "outputs": [],
   "source": [
    "# fix random seed for reproducibility\n",
    "seed = 7\n",
    "numpy.random.seed(seed)\n",
    "\n",
    "#dataset image parameters\n",
    "img_rows=32\n",
    "img_cols=32\n",
    "channel=3\n",
    "nb_classes=10"
   ]
  },
  {
   "cell_type": "code",
   "execution_count": 3,
   "metadata": {
    "collapsed": true
   },
   "outputs": [],
   "source": [
    "(x_train, y_train),(x_test,y_test)=cifar10.load_data()\n",
    "\n",
    "x_train = x_train.reshape(x_train.shape[0], channel,img_rows, img_cols)\n",
    "x_test = x_test.reshape(x_test.shape[0], channel,img_rows, img_cols)\n",
    "input_shape=(3,img_rows,img_cols)"
   ]
  },
  {
   "cell_type": "code",
   "execution_count": 4,
   "metadata": {
    "collapsed": true
   },
   "outputs": [],
   "source": [
    "x_test=x_test.astype('float32')\n",
    "x_train=x_train.astype('float32')\n",
    "x_test=x_test/255.\n",
    "x_train=x_train/255."
   ]
  },
  {
   "cell_type": "code",
   "execution_count": 5,
   "metadata": {
    "collapsed": true
   },
   "outputs": [],
   "source": [
    "# one hot encode outputs\n",
    "y_train = np_utils.to_categorical(y_train)\n",
    "y_test = np_utils.to_categorical(y_test)\n",
    "num_classes = y_test.shape[1]\n"
   ]
  },
  {
   "cell_type": "code",
   "execution_count": 6,
   "metadata": {
    "collapsed": false
   },
   "outputs": [
    {
     "name": "stdout",
     "output_type": "stream",
     "text": [
      "____________________________________________________________________________________________________\n",
      "Layer (type)                     Output Shape          Param #     Connected to                     \n",
      "====================================================================================================\n",
      "convolution2d_1 (Convolution2D)  (None, 20, 31, 31)    260         convolution2d_input_1[0][0]      \n",
      "____________________________________________________________________________________________________\n",
      "activation_1 (Activation)        (None, 20, 31, 31)    0           convolution2d_1[0][0]            \n",
      "____________________________________________________________________________________________________\n",
      "convolution2d_2 (Convolution2D)  (None, 20, 30, 30)    1620        activation_1[0][0]               \n",
      "____________________________________________________________________________________________________\n",
      "activation_2 (Activation)        (None, 20, 30, 30)    0           convolution2d_2[0][0]            \n",
      "____________________________________________________________________________________________________\n",
      "maxpooling2d_1 (MaxPooling2D)    (None, 20, 15, 15)    0           activation_2[0][0]               \n",
      "____________________________________________________________________________________________________\n",
      "convolution2d_3 (Convolution2D)  (None, 20, 14, 14)    1620        maxpooling2d_1[0][0]             \n",
      "____________________________________________________________________________________________________\n",
      "activation_3 (Activation)        (None, 20, 14, 14)    0           convolution2d_3[0][0]            \n",
      "____________________________________________________________________________________________________\n",
      "convolution2d_4 (Convolution2D)  (None, 20, 13, 13)    1620        activation_3[0][0]               \n",
      "____________________________________________________________________________________________________\n",
      "activation_4 (Activation)        (None, 20, 13, 13)    0           convolution2d_4[0][0]            \n",
      "____________________________________________________________________________________________________\n",
      "maxpooling2d_2 (MaxPooling2D)    (None, 20, 6, 6)      0           activation_4[0][0]               \n",
      "____________________________________________________________________________________________________\n",
      "convolution2d_5 (Convolution2D)  (None, 20, 5, 5)      1620        maxpooling2d_2[0][0]             \n",
      "____________________________________________________________________________________________________\n",
      "activation_5 (Activation)        (None, 20, 5, 5)      0           convolution2d_5[0][0]            \n",
      "____________________________________________________________________________________________________\n",
      "convolution2d_6 (Convolution2D)  (None, 20, 4, 4)      1620        activation_5[0][0]               \n",
      "____________________________________________________________________________________________________\n",
      "activation_6 (Activation)        (None, 20, 4, 4)      0           convolution2d_6[0][0]            \n",
      "____________________________________________________________________________________________________\n",
      "maxpooling2d_3 (MaxPooling2D)    (None, 20, 2, 2)      0           activation_6[0][0]               \n",
      "____________________________________________________________________________________________________\n",
      "convolution2d_7 (Convolution2D)  (None, 20, 1, 1)      1620        maxpooling2d_3[0][0]             \n",
      "____________________________________________________________________________________________________\n",
      "activation_7 (Activation)        (None, 20, 1, 1)      0           convolution2d_7[0][0]            \n",
      "____________________________________________________________________________________________________\n",
      "flatten_1 (Flatten)              (None, 20)            0           activation_7[0][0]               \n",
      "____________________________________________________________________________________________________\n",
      "dense_1 (Dense)                  (None, 200)           4200        flatten_1[0][0]                  \n",
      "____________________________________________________________________________________________________\n",
      "dropout_1 (Dropout)              (None, 200)           0           dense_1[0][0]                    \n",
      "____________________________________________________________________________________________________\n",
      "activation_8 (Activation)        (None, 200)           0           dropout_1[0][0]                  \n",
      "____________________________________________________________________________________________________\n",
      "dense_2 (Dense)                  (None, 10)            2010        activation_8[0][0]               \n",
      "====================================================================================================\n",
      "Total params: 16190\n",
      "____________________________________________________________________________________________________\n",
      "None\n"
     ]
    }
   ],
   "source": [
    "# Defining model\n",
    "vgg = Sequential()\n",
    "vgg.add(Convolution2D(20, 2, 2, input_shape=input_shape, border_mode='valid'))\n",
    "vgg.add(Activation('relu'))\n",
    "#vgg.add(MaxPooling2D((2, 2), strides=(2, 2), border_mode='valid'))\n",
    "\n",
    "vgg.add(Convolution2D(20, 2, 2, border_mode='valid'))\n",
    "vgg.add(Activation('relu'))\n",
    "vgg.add(MaxPooling2D((2, 2), strides=(2, 2), border_mode='valid'))\n",
    "\n",
    "vgg.add(Convolution2D(20, 2, 2, border_mode='valid'))\n",
    "vgg.add(Activation('relu'))\n",
    "#vgg.add(MaxPooling2D((2, 2), strides=(2, 2), border_mode='valid'))\n",
    "\n",
    "vgg.add(Convolution2D(20, 2, 2, border_mode='valid'))\n",
    "vgg.add(Activation('relu'))\n",
    "vgg.add(MaxPooling2D((2, 2), strides=(2, 2), border_mode='valid'))\n",
    "\n",
    "vgg.add(Convolution2D(20, 2, 2, border_mode='valid'))\n",
    "vgg.add(Activation('relu'))\n",
    "#vgg.add(MaxPooling2D((2, 2), strides=(2, 2), border_mode='valid'))\n",
    "\n",
    "vgg.add(Convolution2D(20, 2, 2, border_mode='valid'))\n",
    "vgg.add(Activation('relu'))\n",
    "vgg.add(MaxPooling2D((2, 2), strides=(2, 2), border_mode='valid'))\n",
    "\n",
    "vgg.add(Convolution2D(20, 2, 2, border_mode='valid'))\n",
    "vgg.add(Activation('relu'))\n",
    "#vgg.add(MaxPooling2D((2, 2), strides=(2, 2), border_mode='valid'))\n",
    "\n",
    "vgg.add(Flatten())\n",
    "vgg.add(Dense(200))\n",
    "vgg.add(Dropout(0.5))\n",
    "vgg.add(Activation('relu'))\n",
    "vgg.add(Dense(nb_classes, activation='softmax'))\n",
    "\n",
    "model = vgg\n",
    "print (model.summary())"
   ]
  },
  {
   "cell_type": "code",
   "execution_count": 7,
   "metadata": {
    "collapsed": false
   },
   "outputs": [
    {
     "name": "stdout",
     "output_type": "stream",
     "text": [
      "____________________________________________________________________________________________________\n",
      "Layer (type)                     Output Shape          Param #     Connected to                     \n",
      "====================================================================================================\n",
      "convolution2d_1 (Convolution2D)  (None, 20, 31, 31)    260         convolution2d_input_1[0][0]      \n",
      "____________________________________________________________________________________________________\n",
      "activation_1 (Activation)        (None, 20, 31, 31)    0           convolution2d_1[0][0]            \n",
      "____________________________________________________________________________________________________\n",
      "convolution2d_2 (Convolution2D)  (None, 20, 30, 30)    1620        activation_1[0][0]               \n",
      "____________________________________________________________________________________________________\n",
      "activation_2 (Activation)        (None, 20, 30, 30)    0           convolution2d_2[0][0]            \n",
      "____________________________________________________________________________________________________\n",
      "maxpooling2d_1 (MaxPooling2D)    (None, 20, 15, 15)    0           activation_2[0][0]               \n",
      "____________________________________________________________________________________________________\n",
      "convolution2d_3 (Convolution2D)  (None, 20, 14, 14)    1620        maxpooling2d_1[0][0]             \n",
      "____________________________________________________________________________________________________\n",
      "activation_3 (Activation)        (None, 20, 14, 14)    0           convolution2d_3[0][0]            \n",
      "____________________________________________________________________________________________________\n",
      "convolution2d_4 (Convolution2D)  (None, 20, 13, 13)    1620        activation_3[0][0]               \n",
      "____________________________________________________________________________________________________\n",
      "activation_4 (Activation)        (None, 20, 13, 13)    0           convolution2d_4[0][0]            \n",
      "____________________________________________________________________________________________________\n",
      "maxpooling2d_2 (MaxPooling2D)    (None, 20, 6, 6)      0           activation_4[0][0]               \n",
      "____________________________________________________________________________________________________\n",
      "convolution2d_5 (Convolution2D)  (None, 20, 5, 5)      1620        maxpooling2d_2[0][0]             \n",
      "____________________________________________________________________________________________________\n",
      "activation_5 (Activation)        (None, 20, 5, 5)      0           convolution2d_5[0][0]            \n",
      "____________________________________________________________________________________________________\n",
      "convolution2d_6 (Convolution2D)  (None, 20, 4, 4)      1620        activation_5[0][0]               \n",
      "____________________________________________________________________________________________________\n",
      "activation_6 (Activation)        (None, 20, 4, 4)      0           convolution2d_6[0][0]            \n",
      "____________________________________________________________________________________________________\n",
      "maxpooling2d_3 (MaxPooling2D)    (None, 20, 2, 2)      0           activation_6[0][0]               \n",
      "____________________________________________________________________________________________________\n",
      "convolution2d_7 (Convolution2D)  (None, 20, 1, 1)      1620        maxpooling2d_3[0][0]             \n",
      "____________________________________________________________________________________________________\n",
      "activation_7 (Activation)        (None, 20, 1, 1)      0           convolution2d_7[0][0]            \n",
      "____________________________________________________________________________________________________\n",
      "flatten_1 (Flatten)              (None, 20)            0           activation_7[0][0]               \n",
      "____________________________________________________________________________________________________\n",
      "dense_1 (Dense)                  (None, 200)           4200        flatten_1[0][0]                  \n",
      "____________________________________________________________________________________________________\n",
      "dropout_1 (Dropout)              (None, 200)           0           dense_1[0][0]                    \n",
      "____________________________________________________________________________________________________\n",
      "activation_8 (Activation)        (None, 200)           0           dropout_1[0][0]                  \n",
      "____________________________________________________________________________________________________\n",
      "dense_2 (Dense)                  (None, 10)            2010        activation_8[0][0]               \n",
      "====================================================================================================\n",
      "Total params: 16190\n",
      "____________________________________________________________________________________________________\n",
      "None\n"
     ]
    }
   ],
   "source": [
    "# Compile model\n",
    "epochs = 25\n",
    "lrate = 0.01\n",
    "decay = lrate/epochs\n",
    "sgd = SGD(lr=lrate, momentum=0.9, decay=decay, nesterov=False)\n",
    "model.compile(loss='categorical_crossentropy', optimizer=sgd, metrics=['accuracy'])\n",
    "print(model.summary())"
   ]
  },
  {
   "cell_type": "code",
   "execution_count": 8,
   "metadata": {
    "collapsed": false
   },
   "outputs": [
    {
     "name": "stdout",
     "output_type": "stream",
     "text": [
      "2017-04-20 20:10:55.885268\n",
      "Train on 40000 samples, validate on 10000 samples\n",
      "Epoch 1/25\n",
      "40000/40000 [==============================] - 110s - loss: 2.0580 - acc: 0.2222 - val_loss: 1.7932 - val_acc: 0.3187\n",
      "Epoch 2/25\n",
      "40000/40000 [==============================] - 124s - loss: 1.7238 - acc: 0.3635 - val_loss: 1.5874 - val_acc: 0.4130\n",
      "Epoch 3/25\n",
      "40000/40000 [==============================] - 124s - loss: 1.5425 - acc: 0.4313 - val_loss: 1.4403 - val_acc: 0.4742\n",
      "Epoch 4/25\n",
      "40000/40000 [==============================] - 124s - loss: 1.4426 - acc: 0.4735 - val_loss: 1.3442 - val_acc: 0.5094\n",
      "Epoch 5/25\n",
      "40000/40000 [==============================] - 124s - loss: 1.3737 - acc: 0.5019 - val_loss: 1.3462 - val_acc: 0.5097\n",
      "Epoch 6/25\n",
      "40000/40000 [==============================] - 124s - loss: 1.3121 - acc: 0.5275 - val_loss: 1.2758 - val_acc: 0.5402\n",
      "Epoch 7/25\n",
      "40000/40000 [==============================] - 126s - loss: 1.2604 - acc: 0.5461 - val_loss: 1.2227 - val_acc: 0.5544\n",
      "Epoch 8/25\n",
      "40000/40000 [==============================] - 128s - loss: 1.2227 - acc: 0.5617 - val_loss: 1.1846 - val_acc: 0.5765\n",
      "Epoch 9/25\n",
      "40000/40000 [==============================] - 128s - loss: 1.1840 - acc: 0.5762 - val_loss: 1.1707 - val_acc: 0.5816\n",
      "Epoch 10/25\n",
      "40000/40000 [==============================] - 124s - loss: 1.1636 - acc: 0.5846 - val_loss: 1.1539 - val_acc: 0.5839\n",
      "Epoch 11/25\n",
      "40000/40000 [==============================] - 124s - loss: 1.1313 - acc: 0.5974 - val_loss: 1.1476 - val_acc: 0.5876\n",
      "Epoch 12/25\n",
      "40000/40000 [==============================] - 124s - loss: 1.1130 - acc: 0.6054 - val_loss: 1.1092 - val_acc: 0.6060\n",
      "Epoch 13/25\n",
      "40000/40000 [==============================] - 128s - loss: 1.0916 - acc: 0.6128 - val_loss: 1.1023 - val_acc: 0.5998\n",
      "Epoch 14/25\n",
      "40000/40000 [==============================] - 124s - loss: 1.0716 - acc: 0.6172 - val_loss: 1.0812 - val_acc: 0.6169\n",
      "Epoch 15/25\n",
      "40000/40000 [==============================] - 125s - loss: 1.0619 - acc: 0.6238 - val_loss: 1.0842 - val_acc: 0.6172\n",
      "Epoch 16/25\n",
      "40000/40000 [==============================] - 124s - loss: 1.0515 - acc: 0.6280 - val_loss: 1.0986 - val_acc: 0.6110\n",
      "Epoch 17/25\n",
      "40000/40000 [==============================] - 99s - loss: 1.0332 - acc: 0.6347 - val_loss: 1.0839 - val_acc: 0.6186\n",
      "Epoch 18/25\n",
      "40000/40000 [==============================] - 97s - loss: 1.0192 - acc: 0.6382 - val_loss: 1.0614 - val_acc: 0.6252\n",
      "Epoch 19/25\n",
      "40000/40000 [==============================] - 97s - loss: 1.0083 - acc: 0.6429 - val_loss: 1.0618 - val_acc: 0.6248\n",
      "Epoch 20/25\n",
      "40000/40000 [==============================] - 98s - loss: 0.9993 - acc: 0.6457 - val_loss: 1.0454 - val_acc: 0.6298\n",
      "Epoch 21/25\n",
      "40000/40000 [==============================] - 98s - loss: 0.9878 - acc: 0.6508 - val_loss: 1.0553 - val_acc: 0.6281\n",
      "Epoch 22/25\n",
      "40000/40000 [==============================] - 97s - loss: 0.9807 - acc: 0.6541 - val_loss: 1.0443 - val_acc: 0.6285\n",
      "Epoch 23/25\n",
      "40000/40000 [==============================] - 97s - loss: 0.9713 - acc: 0.6554 - val_loss: 1.0228 - val_acc: 0.6337\n",
      "Epoch 24/25\n",
      "40000/40000 [==============================] - 97s - loss: 0.9630 - acc: 0.6605 - val_loss: 1.0235 - val_acc: 0.6399\n",
      "Epoch 25/25\n",
      "40000/40000 [==============================] - 97s - loss: 0.9553 - acc: 0.6627 - val_loss: 1.0248 - val_acc: 0.6393\n",
      "2017-04-20 20:58:51.451554\n"
     ]
    }
   ],
   "source": [
    "# printing the time when the training starts\n",
    "print(datetime.datetime.now())\n",
    "\n",
    "# Fit the model\n",
    "model.fit(x_train, y_train, validation_split=0.2, nb_epoch=epochs, batch_size=32)\n",
    "\n",
    "# printing the time when the training finishes\n",
    "print(datetime.datetime.now())\n"
   ]
  },
  {
   "cell_type": "code",
   "execution_count": 9,
   "metadata": {
    "collapsed": false
   },
   "outputs": [
    {
     "name": "stdout",
     "output_type": "stream",
     "text": [
      "Accuracy: 63.57%\n"
     ]
    }
   ],
   "source": [
    "# Final evaluation of the model\n",
    "scores = model.evaluate(x_test, y_test, verbose=0)\n",
    "print(\"Accuracy: %.2f%%\" % (scores[1]*100))"
   ]
  }
 ],
 "metadata": {
  "anaconda-cloud": {},
  "kernelspec": {
   "display_name": "Python [default]",
   "language": "python",
   "name": "python3"
  },
  "language_info": {
   "codemirror_mode": {
    "name": "ipython",
    "version": 3
   },
   "file_extension": ".py",
   "mimetype": "text/x-python",
   "name": "python",
   "nbconvert_exporter": "python",
   "pygments_lexer": "ipython3",
   "version": "3.5.2"
  }
 },
 "nbformat": 4,
 "nbformat_minor": 1
}
