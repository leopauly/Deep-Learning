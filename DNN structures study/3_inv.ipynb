{
 "cells": [
  {
   "cell_type": "code",
   "execution_count": 1,
   "metadata": {
    "collapsed": false
   },
   "outputs": [
    {
     "name": "stderr",
     "output_type": "stream",
     "text": [
      "Using TensorFlow backend.\n"
     ]
    }
   ],
   "source": [
    "# Program for learning the performance of 3 layer deep neural network inverted pyramid strucuture\n",
    "\n",
    "import numpy\n",
    "from keras.datasets import cifar10\n",
    "from keras.models import Sequential\n",
    "from keras.layers import Dense\n",
    "from keras.layers import Dropout\n",
    "from keras.layers import Flatten\n",
    "from keras.constraints import maxnorm\n",
    "from keras.optimizers import SGD\n",
    "from keras.layers.convolutional import Convolution2D\n",
    "from keras.layers.convolutional import MaxPooling2D\n",
    "from keras.utils import np_utils\n",
    "from keras import backend as K\n",
    "from keras.datasets import cifar10\n",
    "from matplotlib import pyplot \n",
    "from scipy.misc import toimage\n",
    "import datetime\n",
    "from keras.layers import Activation, Dense\n",
    "\n",
    "K.set_image_dim_ordering('th')"
   ]
  },
  {
   "cell_type": "code",
   "execution_count": 2,
   "metadata": {
    "collapsed": true
   },
   "outputs": [],
   "source": [
    "# fix random seed for reproducibility\n",
    "seed = 7\n",
    "numpy.random.seed(seed)\n",
    "\n",
    "#dataset image parameters\n",
    "img_rows=32\n",
    "img_cols=32\n",
    "channel=3\n",
    "nb_classes=10"
   ]
  },
  {
   "cell_type": "code",
   "execution_count": 3,
   "metadata": {
    "collapsed": true
   },
   "outputs": [],
   "source": [
    "(x_train, y_train),(x_test,y_test)=cifar10.load_data()\n",
    "\n",
    "x_train = x_train.reshape(x_train.shape[0], channel,img_rows, img_cols)\n",
    "x_test = x_test.reshape(x_test.shape[0], channel,img_rows, img_cols)\n",
    "input_shape=(3,img_rows,img_cols)"
   ]
  },
  {
   "cell_type": "code",
   "execution_count": 4,
   "metadata": {
    "collapsed": true
   },
   "outputs": [],
   "source": [
    "x_test=x_test.astype('float32')\n",
    "x_train=x_train.astype('float32')\n",
    "x_test=x_test/255.\n",
    "x_train=x_train/255."
   ]
  },
  {
   "cell_type": "code",
   "execution_count": 5,
   "metadata": {
    "collapsed": true
   },
   "outputs": [],
   "source": [
    "# one hot encode outputs\n",
    "y_train = np_utils.to_categorical(y_train)\n",
    "y_test = np_utils.to_categorical(y_test)\n",
    "num_classes = y_test.shape[1]\n"
   ]
  },
  {
   "cell_type": "code",
   "execution_count": 6,
   "metadata": {
    "collapsed": false
   },
   "outputs": [
    {
     "name": "stdout",
     "output_type": "stream",
     "text": [
      "____________________________________________________________________________________________________\n",
      "Layer (type)                     Output Shape          Param #     Connected to                     \n",
      "====================================================================================================\n",
      "convolution2d_1 (Convolution2D)  (None, 60, 31, 31)    780         convolution2d_input_1[0][0]      \n",
      "____________________________________________________________________________________________________\n",
      "activation_1 (Activation)        (None, 60, 31, 31)    0           convolution2d_1[0][0]            \n",
      "____________________________________________________________________________________________________\n",
      "convolution2d_2 (Convolution2D)  (None, 40, 30, 30)    9640        activation_1[0][0]               \n",
      "____________________________________________________________________________________________________\n",
      "activation_2 (Activation)        (None, 40, 30, 30)    0           convolution2d_2[0][0]            \n",
      "____________________________________________________________________________________________________\n",
      "maxpooling2d_1 (MaxPooling2D)    (None, 40, 15, 15)    0           activation_2[0][0]               \n",
      "____________________________________________________________________________________________________\n",
      "convolution2d_3 (Convolution2D)  (None, 20, 14, 14)    3220        maxpooling2d_1[0][0]             \n",
      "____________________________________________________________________________________________________\n",
      "activation_3 (Activation)        (None, 20, 14, 14)    0           convolution2d_3[0][0]            \n",
      "____________________________________________________________________________________________________\n",
      "flatten_1 (Flatten)              (None, 3920)          0           activation_3[0][0]               \n",
      "____________________________________________________________________________________________________\n",
      "dense_1 (Dense)                  (None, 200)           784200      flatten_1[0][0]                  \n",
      "____________________________________________________________________________________________________\n",
      "dropout_1 (Dropout)              (None, 200)           0           dense_1[0][0]                    \n",
      "____________________________________________________________________________________________________\n",
      "activation_4 (Activation)        (None, 200)           0           dropout_1[0][0]                  \n",
      "____________________________________________________________________________________________________\n",
      "dense_2 (Dense)                  (None, 10)            2010        activation_4[0][0]               \n",
      "====================================================================================================\n",
      "Total params: 799850\n",
      "____________________________________________________________________________________________________\n",
      "None\n"
     ]
    }
   ],
   "source": [
    "# Defining model\n",
    "vgg = Sequential()\n",
    "vgg.add(Convolution2D(60, 2, 2, input_shape=input_shape, border_mode='valid'))\n",
    "vgg.add(Activation('relu'))\n",
    "#vgg.add(MaxPooling2D((2, 2), strides=(2, 2), border_mode='valid'))\n",
    "\n",
    "vgg.add(Convolution2D(40, 2, 2, border_mode='valid'))\n",
    "vgg.add(Activation('relu'))\n",
    "vgg.add(MaxPooling2D((2, 2), strides=(2, 2), border_mode='valid'))\n",
    "\n",
    "vgg.add(Convolution2D(20, 2, 2, border_mode='valid'))\n",
    "vgg.add(Activation('relu'))\n",
    "#vgg.add(MaxPooling2D((2, 2), strides=(2, 2), border_mode='valid'))\n",
    "\n",
    "vgg.add(Flatten())\n",
    "vgg.add(Dense(200))\n",
    "vgg.add(Dropout(0.5))\n",
    "vgg.add(Activation('relu'))\n",
    "vgg.add(Dense(nb_classes, activation='softmax'))\n",
    "\n",
    "model = vgg\n",
    "print (model.summary())"
   ]
  },
  {
   "cell_type": "code",
   "execution_count": 7,
   "metadata": {
    "collapsed": false
   },
   "outputs": [
    {
     "name": "stdout",
     "output_type": "stream",
     "text": [
      "____________________________________________________________________________________________________\n",
      "Layer (type)                     Output Shape          Param #     Connected to                     \n",
      "====================================================================================================\n",
      "convolution2d_1 (Convolution2D)  (None, 60, 31, 31)    780         convolution2d_input_1[0][0]      \n",
      "____________________________________________________________________________________________________\n",
      "activation_1 (Activation)        (None, 60, 31, 31)    0           convolution2d_1[0][0]            \n",
      "____________________________________________________________________________________________________\n",
      "convolution2d_2 (Convolution2D)  (None, 40, 30, 30)    9640        activation_1[0][0]               \n",
      "____________________________________________________________________________________________________\n",
      "activation_2 (Activation)        (None, 40, 30, 30)    0           convolution2d_2[0][0]            \n",
      "____________________________________________________________________________________________________\n",
      "maxpooling2d_1 (MaxPooling2D)    (None, 40, 15, 15)    0           activation_2[0][0]               \n",
      "____________________________________________________________________________________________________\n",
      "convolution2d_3 (Convolution2D)  (None, 20, 14, 14)    3220        maxpooling2d_1[0][0]             \n",
      "____________________________________________________________________________________________________\n",
      "activation_3 (Activation)        (None, 20, 14, 14)    0           convolution2d_3[0][0]            \n",
      "____________________________________________________________________________________________________\n",
      "flatten_1 (Flatten)              (None, 3920)          0           activation_3[0][0]               \n",
      "____________________________________________________________________________________________________\n",
      "dense_1 (Dense)                  (None, 200)           784200      flatten_1[0][0]                  \n",
      "____________________________________________________________________________________________________\n",
      "dropout_1 (Dropout)              (None, 200)           0           dense_1[0][0]                    \n",
      "____________________________________________________________________________________________________\n",
      "activation_4 (Activation)        (None, 200)           0           dropout_1[0][0]                  \n",
      "____________________________________________________________________________________________________\n",
      "dense_2 (Dense)                  (None, 10)            2010        activation_4[0][0]               \n",
      "====================================================================================================\n",
      "Total params: 799850\n",
      "____________________________________________________________________________________________________\n",
      "None\n"
     ]
    }
   ],
   "source": [
    "# Compile model\n",
    "epochs = 25\n",
    "lrate = 0.01\n",
    "decay = lrate/epochs\n",
    "sgd = SGD(lr=lrate, momentum=0.9, decay=decay, nesterov=False)\n",
    "model.compile(loss='categorical_crossentropy', optimizer=sgd, metrics=['accuracy'])\n",
    "print(model.summary())"
   ]
  },
  {
   "cell_type": "code",
   "execution_count": 8,
   "metadata": {
    "collapsed": false
   },
   "outputs": [
    {
     "name": "stdout",
     "output_type": "stream",
     "text": [
      "2017-04-20 22:12:19.705192\n",
      "Train on 40000 samples, validate on 10000 samples\n",
      "Epoch 1/25\n",
      "40000/40000 [==============================] - 236s - loss: 1.8295 - acc: 0.3356 - val_loss: 1.5117 - val_acc: 0.4591\n",
      "Epoch 2/25\n",
      "40000/40000 [==============================] - 235s - loss: 1.4873 - acc: 0.4637 - val_loss: 1.3369 - val_acc: 0.5177\n",
      "Epoch 3/25\n",
      "40000/40000 [==============================] - 235s - loss: 1.3084 - acc: 0.5316 - val_loss: 1.1599 - val_acc: 0.5895\n",
      "Epoch 4/25\n",
      "40000/40000 [==============================] - 235s - loss: 1.1682 - acc: 0.5798 - val_loss: 1.0865 - val_acc: 0.6111\n",
      "Epoch 5/25\n",
      "40000/40000 [==============================] - 235s - loss: 1.0612 - acc: 0.6195 - val_loss: 1.0349 - val_acc: 0.6307\n",
      "Epoch 6/25\n",
      "40000/40000 [==============================] - 235s - loss: 0.9931 - acc: 0.6448 - val_loss: 0.9784 - val_acc: 0.6516\n",
      "Epoch 7/25\n",
      "40000/40000 [==============================] - 235s - loss: 0.9259 - acc: 0.6708 - val_loss: 0.9630 - val_acc: 0.6537\n",
      "Epoch 8/25\n",
      "40000/40000 [==============================] - 235s - loss: 0.8715 - acc: 0.6888 - val_loss: 0.9434 - val_acc: 0.6673\n",
      "Epoch 9/25\n",
      "40000/40000 [==============================] - 235s - loss: 0.8227 - acc: 0.7050 - val_loss: 0.9359 - val_acc: 0.6673\n",
      "Epoch 10/25\n",
      "40000/40000 [==============================] - 236s - loss: 0.7745 - acc: 0.7239 - val_loss: 0.9189 - val_acc: 0.6796\n",
      "Epoch 11/25\n",
      "40000/40000 [==============================] - 235s - loss: 0.7268 - acc: 0.7408 - val_loss: 0.9046 - val_acc: 0.6875\n",
      "Epoch 12/25\n",
      "40000/40000 [==============================] - 235s - loss: 0.6856 - acc: 0.7530 - val_loss: 0.9087 - val_acc: 0.6876\n",
      "Epoch 13/25\n",
      "40000/40000 [==============================] - 235s - loss: 0.6481 - acc: 0.7673 - val_loss: 0.9259 - val_acc: 0.6846\n",
      "Epoch 14/25\n",
      "40000/40000 [==============================] - 236s - loss: 0.6113 - acc: 0.7799 - val_loss: 0.9171 - val_acc: 0.6931\n",
      "Epoch 15/25\n",
      "40000/40000 [==============================] - 235s - loss: 0.5817 - acc: 0.7914 - val_loss: 0.9566 - val_acc: 0.6860\n",
      "Epoch 16/25\n",
      "40000/40000 [==============================] - 235s - loss: 0.5467 - acc: 0.8034 - val_loss: 0.9339 - val_acc: 0.6927\n",
      "Epoch 17/25\n",
      "40000/40000 [==============================] - 235s - loss: 0.5141 - acc: 0.8155 - val_loss: 0.9449 - val_acc: 0.6926\n",
      "Epoch 18/25\n",
      "40000/40000 [==============================] - 236s - loss: 0.4834 - acc: 0.8261 - val_loss: 0.9532 - val_acc: 0.6937\n",
      "Epoch 19/25\n",
      "40000/40000 [==============================] - 235s - loss: 0.4667 - acc: 0.8325 - val_loss: 0.9707 - val_acc: 0.6917\n",
      "Epoch 20/25\n",
      "40000/40000 [==============================] - 233s - loss: 0.4352 - acc: 0.8410 - val_loss: 0.9934 - val_acc: 0.6971\n",
      "Epoch 21/25\n",
      "40000/40000 [==============================] - 173s - loss: 0.4174 - acc: 0.8488 - val_loss: 0.9908 - val_acc: 0.6954\n",
      "Epoch 22/25\n",
      "40000/40000 [==============================] - 173s - loss: 0.3997 - acc: 0.8527 - val_loss: 1.0251 - val_acc: 0.6932\n",
      "Epoch 23/25\n",
      "40000/40000 [==============================] - 147s - loss: 0.3820 - acc: 0.8602 - val_loss: 1.0622 - val_acc: 0.6924\n",
      "Epoch 24/25\n",
      "40000/40000 [==============================] - 102s - loss: 0.3592 - acc: 0.8704 - val_loss: 1.0454 - val_acc: 0.6953\n",
      "Epoch 25/25\n",
      "40000/40000 [==============================] - 102s - loss: 0.3396 - acc: 0.8762 - val_loss: 1.0595 - val_acc: 0.6921\n",
      "2017-04-20 23:42:34.054776\n"
     ]
    }
   ],
   "source": [
    "# printing the time when the training starts\n",
    "print(datetime.datetime.now())\n",
    "\n",
    "# Fit the model\n",
    "model.fit(x_train, y_train, validation_split=0.2, nb_epoch=epochs, batch_size=32)\n",
    "\n",
    "# printing the time when the training finishes\n",
    "print(datetime.datetime.now())\n"
   ]
  },
  {
   "cell_type": "code",
   "execution_count": 9,
   "metadata": {
    "collapsed": false
   },
   "outputs": [
    {
     "name": "stdout",
     "output_type": "stream",
     "text": [
      "Accuracy: 69.24%\n"
     ]
    }
   ],
   "source": [
    "# Final evaluation of the model\n",
    "scores = model.evaluate(x_test, y_test, verbose=0)\n",
    "print(\"Accuracy: %.2f%%\" % (scores[1]*100))"
   ]
  }
 ],
 "metadata": {
  "anaconda-cloud": {},
  "kernelspec": {
   "display_name": "Python [default]",
   "language": "python",
   "name": "python3"
  },
  "language_info": {
   "codemirror_mode": {
    "name": "ipython",
    "version": 3
   },
   "file_extension": ".py",
   "mimetype": "text/x-python",
   "name": "python",
   "nbconvert_exporter": "python",
   "pygments_lexer": "ipython3",
   "version": "3.5.2"
  }
 },
 "nbformat": 4,
 "nbformat_minor": 1
}
