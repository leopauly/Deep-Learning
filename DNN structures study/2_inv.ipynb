{
 "cells": [
  {
   "cell_type": "code",
   "execution_count": 1,
   "metadata": {
    "collapsed": false
   },
   "outputs": [
    {
     "name": "stderr",
     "output_type": "stream",
     "text": [
      "Using TensorFlow backend.\n"
     ]
    }
   ],
   "source": [
    "# Program for learning the performance of 3 layer deep neural network inverted pyramid strucuture\n",
    "\n",
    "import numpy\n",
    "from keras.datasets import cifar10\n",
    "from keras.models import Sequential\n",
    "from keras.layers import Dense\n",
    "from keras.layers import Dropout\n",
    "from keras.layers import Flatten\n",
    "from keras.constraints import maxnorm\n",
    "from keras.optimizers import SGD\n",
    "from keras.layers.convolutional import Convolution2D\n",
    "from keras.layers.convolutional import MaxPooling2D\n",
    "from keras.utils import np_utils\n",
    "from keras import backend as K\n",
    "from keras.datasets import cifar10\n",
    "from matplotlib import pyplot \n",
    "from scipy.misc import toimage\n",
    "import datetime\n",
    "from keras.layers import Activation, Dense\n",
    "\n",
    "K.set_image_dim_ordering('th')"
   ]
  },
  {
   "cell_type": "code",
   "execution_count": 2,
   "metadata": {
    "collapsed": true
   },
   "outputs": [],
   "source": [
    "# fix random seed for reproducibility\n",
    "seed = 7\n",
    "numpy.random.seed(seed)\n",
    "\n",
    "#dataset image parameters\n",
    "img_rows=32\n",
    "img_cols=32\n",
    "channel=3\n",
    "nb_classes=10"
   ]
  },
  {
   "cell_type": "code",
   "execution_count": 3,
   "metadata": {
    "collapsed": true
   },
   "outputs": [],
   "source": [
    "(x_train, y_train),(x_test,y_test)=cifar10.load_data()\n",
    "\n",
    "x_train = x_train.reshape(x_train.shape[0], channel,img_rows, img_cols)\n",
    "x_test = x_test.reshape(x_test.shape[0], channel,img_rows, img_cols)\n",
    "input_shape=(3,img_rows,img_cols)"
   ]
  },
  {
   "cell_type": "code",
   "execution_count": 4,
   "metadata": {
    "collapsed": true
   },
   "outputs": [],
   "source": [
    "x_test=x_test.astype('float32')\n",
    "x_train=x_train.astype('float32')\n",
    "x_test=x_test/255.\n",
    "x_train=x_train/255."
   ]
  },
  {
   "cell_type": "code",
   "execution_count": 5,
   "metadata": {
    "collapsed": true
   },
   "outputs": [],
   "source": [
    "# one hot encode outputs\n",
    "y_train = np_utils.to_categorical(y_train)\n",
    "y_test = np_utils.to_categorical(y_test)\n",
    "num_classes = y_test.shape[1]\n"
   ]
  },
  {
   "cell_type": "code",
   "execution_count": 6,
   "metadata": {
    "collapsed": false
   },
   "outputs": [
    {
     "name": "stdout",
     "output_type": "stream",
     "text": [
      "____________________________________________________________________________________________________\n",
      "Layer (type)                     Output Shape          Param #     Connected to                     \n",
      "====================================================================================================\n",
      "convolution2d_1 (Convolution2D)  (None, 40, 31, 31)    520         convolution2d_input_1[0][0]      \n",
      "____________________________________________________________________________________________________\n",
      "activation_1 (Activation)        (None, 40, 31, 31)    0           convolution2d_1[0][0]            \n",
      "____________________________________________________________________________________________________\n",
      "convolution2d_2 (Convolution2D)  (None, 30, 30, 30)    4830        activation_1[0][0]               \n",
      "____________________________________________________________________________________________________\n",
      "activation_2 (Activation)        (None, 30, 30, 30)    0           convolution2d_2[0][0]            \n",
      "____________________________________________________________________________________________________\n",
      "maxpooling2d_1 (MaxPooling2D)    (None, 30, 15, 15)    0           activation_2[0][0]               \n",
      "____________________________________________________________________________________________________\n",
      "flatten_1 (Flatten)              (None, 6750)          0           maxpooling2d_1[0][0]             \n",
      "____________________________________________________________________________________________________\n",
      "dense_1 (Dense)                  (None, 200)           1350200     flatten_1[0][0]                  \n",
      "____________________________________________________________________________________________________\n",
      "dropout_1 (Dropout)              (None, 200)           0           dense_1[0][0]                    \n",
      "____________________________________________________________________________________________________\n",
      "activation_3 (Activation)        (None, 200)           0           dropout_1[0][0]                  \n",
      "____________________________________________________________________________________________________\n",
      "dense_2 (Dense)                  (None, 10)            2010        activation_3[0][0]               \n",
      "====================================================================================================\n",
      "Total params: 1357560\n",
      "____________________________________________________________________________________________________\n",
      "None\n"
     ]
    }
   ],
   "source": [
    "# Defining model\n",
    "vgg = Sequential()\n",
    "vgg.add(Convolution2D(40, 2, 2, input_shape=input_shape, border_mode='valid'))\n",
    "vgg.add(Activation('relu'))\n",
    "#vgg.add(MaxPooling2D((2, 2), strides=(2, 2), border_mode='valid'))\n",
    "\n",
    "vgg.add(Convolution2D(30, 2, 2, border_mode='valid'))\n",
    "vgg.add(Activation('relu'))\n",
    "vgg.add(MaxPooling2D((2, 2), strides=(2, 2), border_mode='valid'))\n",
    "\n",
    "\n",
    "vgg.add(Flatten())\n",
    "vgg.add(Dense(200))\n",
    "vgg.add(Dropout(0.5))\n",
    "vgg.add(Activation('relu'))\n",
    "vgg.add(Dense(nb_classes, activation='softmax'))\n",
    "\n",
    "model = vgg\n",
    "print (model.summary())"
   ]
  },
  {
   "cell_type": "code",
   "execution_count": 7,
   "metadata": {
    "collapsed": false
   },
   "outputs": [
    {
     "name": "stdout",
     "output_type": "stream",
     "text": [
      "____________________________________________________________________________________________________\n",
      "Layer (type)                     Output Shape          Param #     Connected to                     \n",
      "====================================================================================================\n",
      "convolution2d_1 (Convolution2D)  (None, 40, 31, 31)    520         convolution2d_input_1[0][0]      \n",
      "____________________________________________________________________________________________________\n",
      "activation_1 (Activation)        (None, 40, 31, 31)    0           convolution2d_1[0][0]            \n",
      "____________________________________________________________________________________________________\n",
      "convolution2d_2 (Convolution2D)  (None, 30, 30, 30)    4830        activation_1[0][0]               \n",
      "____________________________________________________________________________________________________\n",
      "activation_2 (Activation)        (None, 30, 30, 30)    0           convolution2d_2[0][0]            \n",
      "____________________________________________________________________________________________________\n",
      "maxpooling2d_1 (MaxPooling2D)    (None, 30, 15, 15)    0           activation_2[0][0]               \n",
      "____________________________________________________________________________________________________\n",
      "flatten_1 (Flatten)              (None, 6750)          0           maxpooling2d_1[0][0]             \n",
      "____________________________________________________________________________________________________\n",
      "dense_1 (Dense)                  (None, 200)           1350200     flatten_1[0][0]                  \n",
      "____________________________________________________________________________________________________\n",
      "dropout_1 (Dropout)              (None, 200)           0           dense_1[0][0]                    \n",
      "____________________________________________________________________________________________________\n",
      "activation_3 (Activation)        (None, 200)           0           dropout_1[0][0]                  \n",
      "____________________________________________________________________________________________________\n",
      "dense_2 (Dense)                  (None, 10)            2010        activation_3[0][0]               \n",
      "====================================================================================================\n",
      "Total params: 1357560\n",
      "____________________________________________________________________________________________________\n",
      "None\n"
     ]
    }
   ],
   "source": [
    "# Compile model\n",
    "epochs = 25\n",
    "lrate = 0.01\n",
    "decay = lrate/epochs\n",
    "sgd = SGD(lr=lrate, momentum=0.9, decay=decay, nesterov=False)\n",
    "model.compile(loss='categorical_crossentropy', optimizer=sgd, metrics=['accuracy'])\n",
    "print(model.summary())"
   ]
  },
  {
   "cell_type": "code",
   "execution_count": 8,
   "metadata": {
    "collapsed": false
   },
   "outputs": [
    {
     "name": "stdout",
     "output_type": "stream",
     "text": [
      "2017-04-21 08:13:10.811484\n",
      "Train on 40000 samples, validate on 10000 samples\n",
      "Epoch 1/25\n",
      "40000/40000 [==============================] - 169s - loss: 1.7954 - acc: 0.3461 - val_loss: 1.4404 - val_acc: 0.4778\n",
      "Epoch 2/25\n",
      "40000/40000 [==============================] - 169s - loss: 1.4067 - acc: 0.4970 - val_loss: 1.2868 - val_acc: 0.5429\n",
      "Epoch 3/25\n",
      "40000/40000 [==============================] - 168s - loss: 1.2289 - acc: 0.5640 - val_loss: 1.1442 - val_acc: 0.6002\n",
      "Epoch 4/25\n",
      "40000/40000 [==============================] - 170s - loss: 1.1171 - acc: 0.5989 - val_loss: 1.0957 - val_acc: 0.6116\n",
      "Epoch 5/25\n",
      "40000/40000 [==============================] - 168s - loss: 1.0218 - acc: 0.6346 - val_loss: 1.0248 - val_acc: 0.6416\n",
      "Epoch 6/25\n",
      "40000/40000 [==============================] - 168s - loss: 0.9505 - acc: 0.6617 - val_loss: 0.9851 - val_acc: 0.6576\n",
      "Epoch 7/25\n",
      "40000/40000 [==============================] - 169s - loss: 0.8790 - acc: 0.6879 - val_loss: 0.9725 - val_acc: 0.6531\n",
      "Epoch 8/25\n",
      "40000/40000 [==============================] - 169s - loss: 0.8181 - acc: 0.7093 - val_loss: 0.9757 - val_acc: 0.6586\n",
      "Epoch 9/25\n",
      "40000/40000 [==============================] - 168s - loss: 0.7651 - acc: 0.7292 - val_loss: 0.9396 - val_acc: 0.6761\n",
      "Epoch 10/25\n",
      "40000/40000 [==============================] - 169s - loss: 0.7153 - acc: 0.7453 - val_loss: 0.9499 - val_acc: 0.6737\n",
      "Epoch 11/25\n",
      "40000/40000 [==============================] - 168s - loss: 0.6666 - acc: 0.7626 - val_loss: 0.9572 - val_acc: 0.6804\n",
      "Epoch 12/25\n",
      "40000/40000 [==============================] - 168s - loss: 0.6264 - acc: 0.7764 - val_loss: 0.9422 - val_acc: 0.6842\n",
      "Epoch 13/25\n",
      "40000/40000 [==============================] - 169s - loss: 0.5874 - acc: 0.7896 - val_loss: 0.9556 - val_acc: 0.6834\n",
      "Epoch 14/25\n",
      "40000/40000 [==============================] - 168s - loss: 0.5505 - acc: 0.8036 - val_loss: 0.9513 - val_acc: 0.6859\n",
      "Epoch 15/25\n",
      "40000/40000 [==============================] - 169s - loss: 0.5185 - acc: 0.8146 - val_loss: 0.9765 - val_acc: 0.6848\n",
      "Epoch 16/25\n",
      "40000/40000 [==============================] - 168s - loss: 0.4874 - acc: 0.8276 - val_loss: 0.9808 - val_acc: 0.6887\n",
      "Epoch 17/25\n",
      "40000/40000 [==============================] - 169s - loss: 0.4584 - acc: 0.8389 - val_loss: 0.9760 - val_acc: 0.6895\n",
      "Epoch 18/25\n",
      "40000/40000 [==============================] - 168s - loss: 0.4355 - acc: 0.8462 - val_loss: 0.9982 - val_acc: 0.6904\n",
      "Epoch 19/25\n",
      "40000/40000 [==============================] - 175s - loss: 0.4130 - acc: 0.8530 - val_loss: 1.0268 - val_acc: 0.6882\n",
      "Epoch 20/25\n",
      "40000/40000 [==============================] - 174s - loss: 0.3917 - acc: 0.8615 - val_loss: 1.0287 - val_acc: 0.6920\n",
      "Epoch 21/25\n",
      "40000/40000 [==============================] - 175s - loss: 0.3702 - acc: 0.8680 - val_loss: 1.0410 - val_acc: 0.6862\n",
      "Epoch 22/25\n",
      "40000/40000 [==============================] - 174s - loss: 0.3512 - acc: 0.8769 - val_loss: 1.0443 - val_acc: 0.6891\n",
      "Epoch 23/25\n",
      "40000/40000 [==============================] - 175s - loss: 0.3375 - acc: 0.8799 - val_loss: 1.0609 - val_acc: 0.6893\n",
      "Epoch 24/25\n",
      "40000/40000 [==============================] - 174s - loss: 0.3260 - acc: 0.8837 - val_loss: 1.0722 - val_acc: 0.6896\n",
      "Epoch 25/25\n",
      "40000/40000 [==============================] - 131s - loss: 0.3056 - acc: 0.8917 - val_loss: 1.0813 - val_acc: 0.6890\n",
      "2017-04-21 09:23:37.801013\n"
     ]
    }
   ],
   "source": [
    "# printing the time when the training starts\n",
    "print(datetime.datetime.now())\n",
    "\n",
    "# Fit the model\n",
    "model.fit(x_train, y_train, validation_split=0.2, nb_epoch=epochs, batch_size=32)\n",
    "\n",
    "# printing the time when the training finishes\n",
    "print(datetime.datetime.now())\n"
   ]
  },
  {
   "cell_type": "code",
   "execution_count": 9,
   "metadata": {
    "collapsed": false
   },
   "outputs": [
    {
     "name": "stdout",
     "output_type": "stream",
     "text": [
      "Accuracy: 68.21%\n"
     ]
    }
   ],
   "source": [
    "# Final evaluation of the model\n",
    "scores = model.evaluate(x_test, y_test, verbose=0)\n",
    "print(\"Accuracy: %.2f%%\" % (scores[1]*100))"
   ]
  }
 ],
 "metadata": {
  "anaconda-cloud": {},
  "kernelspec": {
   "display_name": "Python [default]",
   "language": "python",
   "name": "python3"
  },
  "language_info": {
   "codemirror_mode": {
    "name": "ipython",
    "version": 3
   },
   "file_extension": ".py",
   "mimetype": "text/x-python",
   "name": "python",
   "nbconvert_exporter": "python",
   "pygments_lexer": "ipython3",
   "version": "3.5.2"
  }
 },
 "nbformat": 4,
 "nbformat_minor": 1
}
