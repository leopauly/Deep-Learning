{
 "cells": [
  {
   "cell_type": "code",
   "execution_count": 1,
   "metadata": {
    "collapsed": false
   },
   "outputs": [
    {
     "name": "stderr",
     "output_type": "stream",
     "text": [
      "Using TensorFlow backend.\n"
     ]
    }
   ],
   "source": [
    "# Program for learning the performance of 4 layer deep neural network pyramid strucuture\n",
    "\n",
    "import numpy\n",
    "from keras.datasets import cifar10\n",
    "from keras.models import Sequential\n",
    "from keras.layers import Dense\n",
    "from keras.layers import Dropout\n",
    "from keras.layers import Flatten\n",
    "from keras.constraints import maxnorm\n",
    "from keras.optimizers import SGD\n",
    "from keras.layers.convolutional import Convolution2D\n",
    "from keras.layers.convolutional import MaxPooling2D\n",
    "from keras.utils import np_utils\n",
    "from keras import backend as K\n",
    "from keras.datasets import cifar10\n",
    "from matplotlib import pyplot \n",
    "from scipy.misc import toimage\n",
    "import datetime\n",
    "from keras.layers import Activation, Dense\n",
    "\n",
    "K.set_image_dim_ordering('th')"
   ]
  },
  {
   "cell_type": "code",
   "execution_count": 2,
   "metadata": {
    "collapsed": true
   },
   "outputs": [],
   "source": [
    "# fix random seed for reproducibility\n",
    "seed = 7\n",
    "numpy.random.seed(seed)\n",
    "\n",
    "#dataset image parameters\n",
    "img_rows=32\n",
    "img_cols=32\n",
    "channel=3\n",
    "nb_classes=10"
   ]
  },
  {
   "cell_type": "code",
   "execution_count": 3,
   "metadata": {
    "collapsed": true
   },
   "outputs": [],
   "source": [
    "(x_train, y_train),(x_test,y_test)=cifar10.load_data()\n",
    "\n",
    "x_train = x_train.reshape(x_train.shape[0], channel,img_rows, img_cols)\n",
    "x_test = x_test.reshape(x_test.shape[0], channel,img_rows, img_cols)\n",
    "input_shape=(3,img_rows,img_cols)"
   ]
  },
  {
   "cell_type": "code",
   "execution_count": 4,
   "metadata": {
    "collapsed": true
   },
   "outputs": [],
   "source": [
    "x_test=x_test.astype('float32')\n",
    "x_train=x_train.astype('float32')\n",
    "x_test=x_test/255.\n",
    "x_train=x_train/255."
   ]
  },
  {
   "cell_type": "code",
   "execution_count": 5,
   "metadata": {
    "collapsed": true
   },
   "outputs": [],
   "source": [
    "# one hot encode outputs\n",
    "y_train = np_utils.to_categorical(y_train)\n",
    "y_test = np_utils.to_categorical(y_test)\n",
    "num_classes = y_test.shape[1]\n"
   ]
  },
  {
   "cell_type": "code",
   "execution_count": 6,
   "metadata": {
    "collapsed": false
   },
   "outputs": [
    {
     "name": "stdout",
     "output_type": "stream",
     "text": [
      "____________________________________________________________________________________________________\n",
      "Layer (type)                     Output Shape          Param #     Connected to                     \n",
      "====================================================================================================\n",
      "convolution2d_1 (Convolution2D)  (None, 10, 31, 31)    130         convolution2d_input_1[0][0]      \n",
      "____________________________________________________________________________________________________\n",
      "activation_1 (Activation)        (None, 10, 31, 31)    0           convolution2d_1[0][0]            \n",
      "____________________________________________________________________________________________________\n",
      "convolution2d_2 (Convolution2D)  (None, 20, 30, 30)    820         activation_1[0][0]               \n",
      "____________________________________________________________________________________________________\n",
      "activation_2 (Activation)        (None, 20, 30, 30)    0           convolution2d_2[0][0]            \n",
      "____________________________________________________________________________________________________\n",
      "maxpooling2d_1 (MaxPooling2D)    (None, 20, 15, 15)    0           activation_2[0][0]               \n",
      "____________________________________________________________________________________________________\n",
      "convolution2d_3 (Convolution2D)  (None, 30, 14, 14)    2430        maxpooling2d_1[0][0]             \n",
      "____________________________________________________________________________________________________\n",
      "activation_3 (Activation)        (None, 30, 14, 14)    0           convolution2d_3[0][0]            \n",
      "____________________________________________________________________________________________________\n",
      "convolution2d_4 (Convolution2D)  (None, 40, 13, 13)    4840        activation_3[0][0]               \n",
      "____________________________________________________________________________________________________\n",
      "activation_4 (Activation)        (None, 40, 13, 13)    0           convolution2d_4[0][0]            \n",
      "____________________________________________________________________________________________________\n",
      "maxpooling2d_2 (MaxPooling2D)    (None, 40, 6, 6)      0           activation_4[0][0]               \n",
      "____________________________________________________________________________________________________\n",
      "flatten_1 (Flatten)              (None, 1440)          0           maxpooling2d_2[0][0]             \n",
      "____________________________________________________________________________________________________\n",
      "dense_1 (Dense)                  (None, 200)           288200      flatten_1[0][0]                  \n",
      "____________________________________________________________________________________________________\n",
      "dropout_1 (Dropout)              (None, 200)           0           dense_1[0][0]                    \n",
      "____________________________________________________________________________________________________\n",
      "activation_5 (Activation)        (None, 200)           0           dropout_1[0][0]                  \n",
      "____________________________________________________________________________________________________\n",
      "dense_2 (Dense)                  (None, 10)            2010        activation_5[0][0]               \n",
      "====================================================================================================\n",
      "Total params: 298430\n",
      "____________________________________________________________________________________________________\n",
      "None\n"
     ]
    }
   ],
   "source": [
    "# Defining model\n",
    "vgg = Sequential()\n",
    "vgg.add(Convolution2D(10, 2, 2, input_shape=input_shape, border_mode='valid'))\n",
    "vgg.add(Activation('relu'))\n",
    "#vgg.add(MaxPooling2D((2, 2), strides=(2, 2), border_mode='valid'))\n",
    "\n",
    "vgg.add(Convolution2D(20, 2, 2, border_mode='valid'))\n",
    "vgg.add(Activation('relu'))\n",
    "vgg.add(MaxPooling2D((2, 2), strides=(2, 2), border_mode='valid'))\n",
    "\n",
    "vgg.add(Convolution2D(30, 2, 2, border_mode='valid'))\n",
    "vgg.add(Activation('relu'))\n",
    "#vgg.add(MaxPooling2D((2, 2), strides=(2, 2), border_mode='valid'))\n",
    "\n",
    "vgg.add(Convolution2D(40, 2, 2, border_mode='valid'))\n",
    "vgg.add(Activation('relu'))\n",
    "vgg.add(MaxPooling2D((2, 2), strides=(2, 2), border_mode='valid'))\n",
    "\n",
    "\n",
    "vgg.add(Flatten())\n",
    "vgg.add(Dense(200))\n",
    "vgg.add(Dropout(0.5))\n",
    "vgg.add(Activation('relu'))\n",
    "vgg.add(Dense(nb_classes, activation='softmax'))\n",
    "\n",
    "model = vgg\n",
    "print (model.summary())"
   ]
  },
  {
   "cell_type": "code",
   "execution_count": 7,
   "metadata": {
    "collapsed": false
   },
   "outputs": [
    {
     "name": "stdout",
     "output_type": "stream",
     "text": [
      "____________________________________________________________________________________________________\n",
      "Layer (type)                     Output Shape          Param #     Connected to                     \n",
      "====================================================================================================\n",
      "convolution2d_1 (Convolution2D)  (None, 10, 31, 31)    130         convolution2d_input_1[0][0]      \n",
      "____________________________________________________________________________________________________\n",
      "activation_1 (Activation)        (None, 10, 31, 31)    0           convolution2d_1[0][0]            \n",
      "____________________________________________________________________________________________________\n",
      "convolution2d_2 (Convolution2D)  (None, 20, 30, 30)    820         activation_1[0][0]               \n",
      "____________________________________________________________________________________________________\n",
      "activation_2 (Activation)        (None, 20, 30, 30)    0           convolution2d_2[0][0]            \n",
      "____________________________________________________________________________________________________\n",
      "maxpooling2d_1 (MaxPooling2D)    (None, 20, 15, 15)    0           activation_2[0][0]               \n",
      "____________________________________________________________________________________________________\n",
      "convolution2d_3 (Convolution2D)  (None, 30, 14, 14)    2430        maxpooling2d_1[0][0]             \n",
      "____________________________________________________________________________________________________\n",
      "activation_3 (Activation)        (None, 30, 14, 14)    0           convolution2d_3[0][0]            \n",
      "____________________________________________________________________________________________________\n",
      "convolution2d_4 (Convolution2D)  (None, 40, 13, 13)    4840        activation_3[0][0]               \n",
      "____________________________________________________________________________________________________\n",
      "activation_4 (Activation)        (None, 40, 13, 13)    0           convolution2d_4[0][0]            \n",
      "____________________________________________________________________________________________________\n",
      "maxpooling2d_2 (MaxPooling2D)    (None, 40, 6, 6)      0           activation_4[0][0]               \n",
      "____________________________________________________________________________________________________\n",
      "flatten_1 (Flatten)              (None, 1440)          0           maxpooling2d_2[0][0]             \n",
      "____________________________________________________________________________________________________\n",
      "dense_1 (Dense)                  (None, 200)           288200      flatten_1[0][0]                  \n",
      "____________________________________________________________________________________________________\n",
      "dropout_1 (Dropout)              (None, 200)           0           dense_1[0][0]                    \n",
      "____________________________________________________________________________________________________\n",
      "activation_5 (Activation)        (None, 200)           0           dropout_1[0][0]                  \n",
      "____________________________________________________________________________________________________\n",
      "dense_2 (Dense)                  (None, 10)            2010        activation_5[0][0]               \n",
      "====================================================================================================\n",
      "Total params: 298430\n",
      "____________________________________________________________________________________________________\n",
      "None\n"
     ]
    }
   ],
   "source": [
    "# Compile model\n",
    "epochs = 25\n",
    "lrate = 0.01\n",
    "decay = lrate/epochs\n",
    "sgd = SGD(lr=lrate, momentum=0.9, decay=decay, nesterov=False)\n",
    "model.compile(loss='categorical_crossentropy', optimizer=sgd, metrics=['accuracy'])\n",
    "print(model.summary())"
   ]
  },
  {
   "cell_type": "code",
   "execution_count": 8,
   "metadata": {
    "collapsed": false
   },
   "outputs": [
    {
     "name": "stdout",
     "output_type": "stream",
     "text": [
      "2017-04-20 21:01:47.797040\n",
      "Train on 40000 samples, validate on 10000 samples\n",
      "Epoch 1/25\n",
      "40000/40000 [==============================] - 122s - loss: 1.8863 - acc: 0.3078 - val_loss: 1.5043 - val_acc: 0.4523\n",
      "Epoch 2/25\n",
      "40000/40000 [==============================] - 135s - loss: 1.5094 - acc: 0.4516 - val_loss: 1.3810 - val_acc: 0.5001\n",
      "Epoch 3/25\n",
      "40000/40000 [==============================] - 153s - loss: 1.3605 - acc: 0.5105 - val_loss: 1.2313 - val_acc: 0.5636\n",
      "Epoch 4/25\n",
      "40000/40000 [==============================] - 153s - loss: 1.2513 - acc: 0.5511 - val_loss: 1.1678 - val_acc: 0.5864\n",
      "Epoch 5/25\n",
      "40000/40000 [==============================] - 152s - loss: 1.1549 - acc: 0.5884 - val_loss: 1.1015 - val_acc: 0.6158\n",
      "Epoch 6/25\n",
      "40000/40000 [==============================] - 152s - loss: 1.0837 - acc: 0.6126 - val_loss: 1.0417 - val_acc: 0.6301\n",
      "Epoch 7/25\n",
      "40000/40000 [==============================] - 151s - loss: 1.0254 - acc: 0.6372 - val_loss: 1.0075 - val_acc: 0.6462\n",
      "Epoch 8/25\n",
      "40000/40000 [==============================] - 122s - loss: 0.9780 - acc: 0.6570 - val_loss: 0.9879 - val_acc: 0.6549\n",
      "Epoch 9/25\n",
      "40000/40000 [==============================] - 122s - loss: 0.9355 - acc: 0.6698 - val_loss: 0.9431 - val_acc: 0.6687\n",
      "Epoch 10/25\n",
      "40000/40000 [==============================] - 122s - loss: 0.8973 - acc: 0.6829 - val_loss: 0.9602 - val_acc: 0.6642\n",
      "Epoch 11/25\n",
      "40000/40000 [==============================] - 122s - loss: 0.8627 - acc: 0.6956 - val_loss: 0.9237 - val_acc: 0.6745\n",
      "Epoch 12/25\n",
      "40000/40000 [==============================] - 122s - loss: 0.8388 - acc: 0.7025 - val_loss: 0.9130 - val_acc: 0.6800\n",
      "Epoch 13/25\n",
      "40000/40000 [==============================] - 122s - loss: 0.8081 - acc: 0.7143 - val_loss: 0.9028 - val_acc: 0.6861\n",
      "Epoch 14/25\n",
      "40000/40000 [==============================] - 122s - loss: 0.7831 - acc: 0.7243 - val_loss: 0.8938 - val_acc: 0.6884\n",
      "Epoch 15/25\n",
      "40000/40000 [==============================] - 122s - loss: 0.7540 - acc: 0.7349 - val_loss: 0.9070 - val_acc: 0.6914\n",
      "Epoch 16/25\n",
      "40000/40000 [==============================] - 122s - loss: 0.7295 - acc: 0.7430 - val_loss: 0.8930 - val_acc: 0.6916\n",
      "Epoch 17/25\n",
      "40000/40000 [==============================] - 122s - loss: 0.7190 - acc: 0.7461 - val_loss: 0.8972 - val_acc: 0.6919\n",
      "Epoch 18/25\n",
      "40000/40000 [==============================] - 122s - loss: 0.6921 - acc: 0.7577 - val_loss: 0.8817 - val_acc: 0.6973\n",
      "Epoch 19/25\n",
      "40000/40000 [==============================] - 121s - loss: 0.6755 - acc: 0.7624 - val_loss: 0.9020 - val_acc: 0.6958\n",
      "Epoch 20/25\n",
      "40000/40000 [==============================] - 122s - loss: 0.6543 - acc: 0.7679 - val_loss: 0.8854 - val_acc: 0.7005\n",
      "Epoch 21/25\n",
      "40000/40000 [==============================] - 122s - loss: 0.6426 - acc: 0.7717 - val_loss: 0.8983 - val_acc: 0.6991\n",
      "Epoch 22/25\n",
      "40000/40000 [==============================] - 122s - loss: 0.6217 - acc: 0.7786 - val_loss: 0.8954 - val_acc: 0.6990\n",
      "Epoch 23/25\n",
      "40000/40000 [==============================] - 122s - loss: 0.6078 - acc: 0.7855 - val_loss: 0.8877 - val_acc: 0.7013\n",
      "Epoch 24/25\n",
      "40000/40000 [==============================] - 121s - loss: 0.5965 - acc: 0.7867 - val_loss: 0.9014 - val_acc: 0.7004\n",
      "Epoch 25/25\n",
      "40000/40000 [==============================] - 122s - loss: 0.5780 - acc: 0.7944 - val_loss: 0.8893 - val_acc: 0.7014\n",
      "2017-04-20 21:55:32.863353\n"
     ]
    }
   ],
   "source": [
    "# printing the time when the training starts\n",
    "print(datetime.datetime.now())\n",
    "\n",
    "# Fit the model\n",
    "model.fit(x_train, y_train, validation_split=0.2, nb_epoch=epochs, batch_size=32)\n",
    "\n",
    "# printing the time when the training finishes\n",
    "print(datetime.datetime.now())\n"
   ]
  },
  {
   "cell_type": "code",
   "execution_count": 9,
   "metadata": {
    "collapsed": false
   },
   "outputs": [
    {
     "name": "stdout",
     "output_type": "stream",
     "text": [
      "Accuracy: 70.16%\n"
     ]
    }
   ],
   "source": [
    "# Final evaluation of the model\n",
    "scores = model.evaluate(x_test, y_test, verbose=0)\n",
    "print(\"Accuracy: %.2f%%\" % (scores[1]*100))"
   ]
  }
 ],
 "metadata": {
  "anaconda-cloud": {},
  "kernelspec": {
   "display_name": "Python [default]",
   "language": "python",
   "name": "python3"
  },
  "language_info": {
   "codemirror_mode": {
    "name": "ipython",
    "version": 3
   },
   "file_extension": ".py",
   "mimetype": "text/x-python",
   "name": "python",
   "nbconvert_exporter": "python",
   "pygments_lexer": "ipython3",
   "version": "3.5.2"
  }
 },
 "nbformat": 4,
 "nbformat_minor": 1
}
