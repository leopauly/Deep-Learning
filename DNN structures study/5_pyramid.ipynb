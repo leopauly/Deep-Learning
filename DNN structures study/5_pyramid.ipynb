{
 "cells": [
  {
   "cell_type": "code",
   "execution_count": 1,
   "metadata": {
    "collapsed": false
   },
   "outputs": [
    {
     "name": "stderr",
     "output_type": "stream",
     "text": [
      "Using TensorFlow backend.\n"
     ]
    }
   ],
   "source": [
    "# Program for learning the performance of 5 layer deep neural network pyramid strucuture\n",
    "\n",
    "import numpy\n",
    "from keras.datasets import cifar10\n",
    "from keras.models import Sequential\n",
    "from keras.layers import Dense\n",
    "from keras.layers import Dropout\n",
    "from keras.layers import Flatten\n",
    "from keras.constraints import maxnorm\n",
    "from keras.optimizers import SGD\n",
    "from keras.layers.convolutional import Convolution2D\n",
    "from keras.layers.convolutional import MaxPooling2D\n",
    "from keras.utils import np_utils\n",
    "from keras import backend as K\n",
    "from keras.datasets import cifar10\n",
    "from matplotlib import pyplot \n",
    "from scipy.misc import toimage\n",
    "import datetime\n",
    "from keras.layers import Activation, Dense\n",
    "\n",
    "K.set_image_dim_ordering('th')"
   ]
  },
  {
   "cell_type": "code",
   "execution_count": 2,
   "metadata": {
    "collapsed": true
   },
   "outputs": [],
   "source": [
    "# fix random seed for reproducibility\n",
    "seed = 7\n",
    "numpy.random.seed(seed)\n",
    "\n",
    "#dataset image parameters\n",
    "img_rows=32\n",
    "img_cols=32\n",
    "channel=3\n",
    "nb_classes=10"
   ]
  },
  {
   "cell_type": "code",
   "execution_count": 3,
   "metadata": {
    "collapsed": true
   },
   "outputs": [],
   "source": [
    "(x_train, y_train),(x_test,y_test)=cifar10.load_data()\n",
    "\n",
    "x_train = x_train.reshape(x_train.shape[0], channel,img_rows, img_cols)\n",
    "x_test = x_test.reshape(x_test.shape[0], channel,img_rows, img_cols)\n",
    "input_shape=(3,img_rows,img_cols)"
   ]
  },
  {
   "cell_type": "code",
   "execution_count": 4,
   "metadata": {
    "collapsed": true
   },
   "outputs": [],
   "source": [
    "x_test=x_test.astype('float32')\n",
    "x_train=x_train.astype('float32')\n",
    "x_test=x_test/255.\n",
    "x_train=x_train/255."
   ]
  },
  {
   "cell_type": "code",
   "execution_count": 5,
   "metadata": {
    "collapsed": true
   },
   "outputs": [],
   "source": [
    "# one hot encode outputs\n",
    "y_train = np_utils.to_categorical(y_train)\n",
    "y_test = np_utils.to_categorical(y_test)\n",
    "num_classes = y_test.shape[1]\n"
   ]
  },
  {
   "cell_type": "code",
   "execution_count": 6,
   "metadata": {
    "collapsed": false
   },
   "outputs": [
    {
     "name": "stdout",
     "output_type": "stream",
     "text": [
      "____________________________________________________________________________________________________\n",
      "Layer (type)                     Output Shape          Param #     Connected to                     \n",
      "====================================================================================================\n",
      "convolution2d_1 (Convolution2D)  (None, 10, 31, 31)    130         convolution2d_input_1[0][0]      \n",
      "____________________________________________________________________________________________________\n",
      "activation_1 (Activation)        (None, 10, 31, 31)    0           convolution2d_1[0][0]            \n",
      "____________________________________________________________________________________________________\n",
      "convolution2d_2 (Convolution2D)  (None, 20, 30, 30)    820         activation_1[0][0]               \n",
      "____________________________________________________________________________________________________\n",
      "activation_2 (Activation)        (None, 20, 30, 30)    0           convolution2d_2[0][0]            \n",
      "____________________________________________________________________________________________________\n",
      "maxpooling2d_1 (MaxPooling2D)    (None, 20, 15, 15)    0           activation_2[0][0]               \n",
      "____________________________________________________________________________________________________\n",
      "convolution2d_3 (Convolution2D)  (None, 30, 14, 14)    2430        maxpooling2d_1[0][0]             \n",
      "____________________________________________________________________________________________________\n",
      "activation_3 (Activation)        (None, 30, 14, 14)    0           convolution2d_3[0][0]            \n",
      "____________________________________________________________________________________________________\n",
      "convolution2d_4 (Convolution2D)  (None, 40, 13, 13)    4840        activation_3[0][0]               \n",
      "____________________________________________________________________________________________________\n",
      "activation_4 (Activation)        (None, 40, 13, 13)    0           convolution2d_4[0][0]            \n",
      "____________________________________________________________________________________________________\n",
      "maxpooling2d_2 (MaxPooling2D)    (None, 40, 6, 6)      0           activation_4[0][0]               \n",
      "____________________________________________________________________________________________________\n",
      "convolution2d_5 (Convolution2D)  (None, 50, 5, 5)      8050        maxpooling2d_2[0][0]             \n",
      "____________________________________________________________________________________________________\n",
      "activation_5 (Activation)        (None, 50, 5, 5)      0           convolution2d_5[0][0]            \n",
      "____________________________________________________________________________________________________\n",
      "flatten_1 (Flatten)              (None, 1250)          0           activation_5[0][0]               \n",
      "____________________________________________________________________________________________________\n",
      "dense_1 (Dense)                  (None, 200)           250200      flatten_1[0][0]                  \n",
      "____________________________________________________________________________________________________\n",
      "dropout_1 (Dropout)              (None, 200)           0           dense_1[0][0]                    \n",
      "____________________________________________________________________________________________________\n",
      "activation_6 (Activation)        (None, 200)           0           dropout_1[0][0]                  \n",
      "____________________________________________________________________________________________________\n",
      "dense_2 (Dense)                  (None, 10)            2010        activation_6[0][0]               \n",
      "====================================================================================================\n",
      "Total params: 268480\n",
      "____________________________________________________________________________________________________\n",
      "None\n"
     ]
    }
   ],
   "source": [
    "# Defining model\n",
    "vgg = Sequential()\n",
    "vgg.add(Convolution2D(10, 2, 2, input_shape=input_shape, border_mode='valid'))\n",
    "vgg.add(Activation('relu'))\n",
    "#vgg.add(MaxPooling2D((2, 2), strides=(2, 2), border_mode='valid'))\n",
    "\n",
    "vgg.add(Convolution2D(20, 2, 2, border_mode='valid'))\n",
    "vgg.add(Activation('relu'))\n",
    "vgg.add(MaxPooling2D((2, 2), strides=(2, 2), border_mode='valid'))\n",
    "\n",
    "vgg.add(Convolution2D(30, 2, 2, border_mode='valid'))\n",
    "vgg.add(Activation('relu'))\n",
    "#vgg.add(MaxPooling2D((2, 2), strides=(2, 2), border_mode='valid'))\n",
    "\n",
    "vgg.add(Convolution2D(40, 2, 2, border_mode='valid'))\n",
    "vgg.add(Activation('relu'))\n",
    "vgg.add(MaxPooling2D((2, 2), strides=(2, 2), border_mode='valid'))\n",
    "\n",
    "vgg.add(Convolution2D(50, 2, 2, border_mode='valid'))\n",
    "vgg.add(Activation('relu'))\n",
    "#vgg.add(MaxPooling2D((2, 2), strides=(2, 2), border_mode='valid'))\n",
    "\n",
    "\n",
    "\n",
    "vgg.add(Flatten())\n",
    "vgg.add(Dense(200))\n",
    "vgg.add(Dropout(0.5))\n",
    "vgg.add(Activation('relu'))\n",
    "vgg.add(Dense(nb_classes, activation='softmax'))\n",
    "\n",
    "model = vgg\n",
    "print (model.summary())"
   ]
  },
  {
   "cell_type": "code",
   "execution_count": 7,
   "metadata": {
    "collapsed": false
   },
   "outputs": [
    {
     "name": "stdout",
     "output_type": "stream",
     "text": [
      "____________________________________________________________________________________________________\n",
      "Layer (type)                     Output Shape          Param #     Connected to                     \n",
      "====================================================================================================\n",
      "convolution2d_1 (Convolution2D)  (None, 10, 31, 31)    130         convolution2d_input_1[0][0]      \n",
      "____________________________________________________________________________________________________\n",
      "activation_1 (Activation)        (None, 10, 31, 31)    0           convolution2d_1[0][0]            \n",
      "____________________________________________________________________________________________________\n",
      "convolution2d_2 (Convolution2D)  (None, 20, 30, 30)    820         activation_1[0][0]               \n",
      "____________________________________________________________________________________________________\n",
      "activation_2 (Activation)        (None, 20, 30, 30)    0           convolution2d_2[0][0]            \n",
      "____________________________________________________________________________________________________\n",
      "maxpooling2d_1 (MaxPooling2D)    (None, 20, 15, 15)    0           activation_2[0][0]               \n",
      "____________________________________________________________________________________________________\n",
      "convolution2d_3 (Convolution2D)  (None, 30, 14, 14)    2430        maxpooling2d_1[0][0]             \n",
      "____________________________________________________________________________________________________\n",
      "activation_3 (Activation)        (None, 30, 14, 14)    0           convolution2d_3[0][0]            \n",
      "____________________________________________________________________________________________________\n",
      "convolution2d_4 (Convolution2D)  (None, 40, 13, 13)    4840        activation_3[0][0]               \n",
      "____________________________________________________________________________________________________\n",
      "activation_4 (Activation)        (None, 40, 13, 13)    0           convolution2d_4[0][0]            \n",
      "____________________________________________________________________________________________________\n",
      "maxpooling2d_2 (MaxPooling2D)    (None, 40, 6, 6)      0           activation_4[0][0]               \n",
      "____________________________________________________________________________________________________\n",
      "convolution2d_5 (Convolution2D)  (None, 50, 5, 5)      8050        maxpooling2d_2[0][0]             \n",
      "____________________________________________________________________________________________________\n",
      "activation_5 (Activation)        (None, 50, 5, 5)      0           convolution2d_5[0][0]            \n",
      "____________________________________________________________________________________________________\n",
      "flatten_1 (Flatten)              (None, 1250)          0           activation_5[0][0]               \n",
      "____________________________________________________________________________________________________\n",
      "dense_1 (Dense)                  (None, 200)           250200      flatten_1[0][0]                  \n",
      "____________________________________________________________________________________________________\n",
      "dropout_1 (Dropout)              (None, 200)           0           dense_1[0][0]                    \n",
      "____________________________________________________________________________________________________\n",
      "activation_6 (Activation)        (None, 200)           0           dropout_1[0][0]                  \n",
      "____________________________________________________________________________________________________\n",
      "dense_2 (Dense)                  (None, 10)            2010        activation_6[0][0]               \n",
      "====================================================================================================\n",
      "Total params: 268480\n",
      "____________________________________________________________________________________________________\n",
      "None\n"
     ]
    }
   ],
   "source": [
    "# Compile model\n",
    "epochs = 25\n",
    "lrate = 0.01\n",
    "decay = lrate/epochs\n",
    "sgd = SGD(lr=lrate, momentum=0.9, decay=decay, nesterov=False)\n",
    "model.compile(loss='categorical_crossentropy', optimizer=sgd, metrics=['accuracy'])\n",
    "print(model.summary())"
   ]
  },
  {
   "cell_type": "code",
   "execution_count": 8,
   "metadata": {
    "collapsed": false
   },
   "outputs": [
    {
     "name": "stdout",
     "output_type": "stream",
     "text": [
      "2017-04-20 14:49:43.310841\n",
      "Train on 40000 samples, validate on 10000 samples\n",
      "Epoch 1/25\n",
      "40000/40000 [==============================] - 45s - loss: 1.9366 - acc: 0.2878 - val_loss: 1.5612 - val_acc: 0.4286\n",
      "Epoch 2/25\n",
      "40000/40000 [==============================] - 44s - loss: 1.5268 - acc: 0.4439 - val_loss: 1.3545 - val_acc: 0.5123\n",
      "Epoch 3/25\n",
      "40000/40000 [==============================] - 44s - loss: 1.3425 - acc: 0.5184 - val_loss: 1.2051 - val_acc: 0.5721\n",
      "Epoch 4/25\n",
      "40000/40000 [==============================] - 44s - loss: 1.2158 - acc: 0.5652 - val_loss: 1.1200 - val_acc: 0.6044\n",
      "Epoch 5/25\n",
      "40000/40000 [==============================] - 44s - loss: 1.1290 - acc: 0.5979 - val_loss: 1.1071 - val_acc: 0.6107\n",
      "Epoch 6/25\n",
      "40000/40000 [==============================] - 53s - loss: 1.0685 - acc: 0.6208 - val_loss: 1.0196 - val_acc: 0.6427\n",
      "Epoch 7/25\n",
      "40000/40000 [==============================] - 128s - loss: 1.0132 - acc: 0.6399 - val_loss: 0.9987 - val_acc: 0.6488\n",
      "Epoch 8/25\n",
      "40000/40000 [==============================] - 129s - loss: 0.9692 - acc: 0.6557 - val_loss: 0.9785 - val_acc: 0.6552\n",
      "Epoch 9/25\n",
      "40000/40000 [==============================] - 133s - loss: 0.9288 - acc: 0.6713 - val_loss: 0.9582 - val_acc: 0.6722\n",
      "Epoch 10/25\n",
      "40000/40000 [==============================] - 130s - loss: 0.8953 - acc: 0.6816 - val_loss: 0.9172 - val_acc: 0.6798\n",
      "Epoch 11/25\n",
      "40000/40000 [==============================] - 129s - loss: 0.8624 - acc: 0.6961 - val_loss: 0.9165 - val_acc: 0.6836\n",
      "Epoch 12/25\n",
      "40000/40000 [==============================] - 129s - loss: 0.8324 - acc: 0.7049 - val_loss: 0.8998 - val_acc: 0.6837\n",
      "Epoch 13/25\n",
      "40000/40000 [==============================] - 129s - loss: 0.8106 - acc: 0.7120 - val_loss: 0.8891 - val_acc: 0.6903\n",
      "Epoch 14/25\n",
      "40000/40000 [==============================] - 130s - loss: 0.7843 - acc: 0.7225 - val_loss: 0.8838 - val_acc: 0.6964\n",
      "Epoch 15/25\n",
      "40000/40000 [==============================] - 129s - loss: 0.7603 - acc: 0.7313 - val_loss: 0.8781 - val_acc: 0.6964\n",
      "Epoch 16/25\n",
      "40000/40000 [==============================] - 128s - loss: 0.7384 - acc: 0.7369 - val_loss: 0.8917 - val_acc: 0.6957\n",
      "Epoch 17/25\n",
      "40000/40000 [==============================] - 129s - loss: 0.7254 - acc: 0.7434 - val_loss: 0.8888 - val_acc: 0.7007\n",
      "Epoch 18/25\n",
      "40000/40000 [==============================] - 129s - loss: 0.7066 - acc: 0.7485 - val_loss: 0.8622 - val_acc: 0.7076\n",
      "Epoch 19/25\n",
      "40000/40000 [==============================] - 131s - loss: 0.6816 - acc: 0.7565 - val_loss: 0.8670 - val_acc: 0.7047\n",
      "Epoch 20/25\n",
      "40000/40000 [==============================] - 132s - loss: 0.6654 - acc: 0.7612 - val_loss: 0.8589 - val_acc: 0.7074\n",
      "Epoch 21/25\n",
      "40000/40000 [==============================] - 131s - loss: 0.6475 - acc: 0.7685 - val_loss: 0.8794 - val_acc: 0.7090\n",
      "Epoch 22/25\n",
      "40000/40000 [==============================] - 129s - loss: 0.6369 - acc: 0.7716 - val_loss: 0.8738 - val_acc: 0.7076\n",
      "Epoch 23/25\n",
      "40000/40000 [==============================] - 129s - loss: 0.6200 - acc: 0.7770 - val_loss: 0.8699 - val_acc: 0.7117\n",
      "Epoch 24/25\n",
      "40000/40000 [==============================] - 129s - loss: 0.6045 - acc: 0.7841 - val_loss: 0.8684 - val_acc: 0.7129\n",
      "Epoch 25/25\n",
      "40000/40000 [==============================] - 129s - loss: 0.5947 - acc: 0.7859 - val_loss: 0.8703 - val_acc: 0.7141\n",
      "2017-04-20 15:35:32.580934\n"
     ]
    }
   ],
   "source": [
    "# printing the time when the training starts\n",
    "print(datetime.datetime.now())\n",
    "\n",
    "# Fit the model\n",
    "model.fit(x_train, y_train, validation_split=0.2, nb_epoch=epochs, batch_size=32)\n",
    "\n",
    "# printing the time when the training finishes\n",
    "print(datetime.datetime.now())\n"
   ]
  },
  {
   "cell_type": "code",
   "execution_count": 9,
   "metadata": {
    "collapsed": false
   },
   "outputs": [
    {
     "name": "stdout",
     "output_type": "stream",
     "text": [
      "Accuracy: 70.48%\n"
     ]
    }
   ],
   "source": [
    "# Final evaluation of the model\n",
    "scores = model.evaluate(x_test, y_test, verbose=0)\n",
    "print(\"Accuracy: %.2f%%\" % (scores[1]*100))"
   ]
  }
 ],
 "metadata": {
  "anaconda-cloud": {},
  "kernelspec": {
   "display_name": "Python [default]",
   "language": "python",
   "name": "python3"
  },
  "language_info": {
   "codemirror_mode": {
    "name": "ipython",
    "version": 3
   },
   "file_extension": ".py",
   "mimetype": "text/x-python",
   "name": "python",
   "nbconvert_exporter": "python",
   "pygments_lexer": "ipython3",
   "version": "3.5.2"
  }
 },
 "nbformat": 4,
 "nbformat_minor": 1
}
